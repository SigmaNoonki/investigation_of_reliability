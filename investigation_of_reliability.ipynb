{
 "cells": [
  {
   "cell_type": "markdown",
   "id": "0b6eed6f",
   "metadata": {},
   "source": [
    "# Исследование надежности заемщиков."
   ]
  },
  {
   "cell_type": "markdown",
   "id": "4b9d04c6",
   "metadata": {},
   "source": [
    "Заказчик — кредитный отдел банка. \n",
    "Требуется разобраться:\n",
    " * влияет ли семейное положение и количество детей клиента на факт погашения кредита в срок. \n",
    "\n",
    "Входные данные от банка — статистика о платёжеспособности клиентов.\n",
    "\n",
    "**Цель исследования** - проверить гипотезы:\n",
    "1. Семейное положение \"женат/замужем/гражданский брак\" способсвтует отсутствию задолженности по возврату кредита\n",
    "2. Наличие детей в семье способствтует отсутствию задолженности по возврату кредита\n",
    "\n",
    "**Ход исследования**\n",
    "\n",
    "Данные о поведении пользователей содержатся в файле (Путь к файлу: /datasets/data.csv). О качестве данных ничего не известно. Поэтому перед проверкой гипотез проведем обзор данных. \n",
    "\n",
    "Проверим данные на ошибки и оценим их влияние на исследование. На этапе предобработки исправим самые критичные ошибки данных.\n",
    " \n",
    "Таким образом, исследование содержит три этапа:\n",
    " 1. Обзор данных.\n",
    " 2. Предобработка данных.\n",
    " 3. Проверка гипотез.\n",
    "\n",
    "\n",
    "Результаты исследования будут учтены при построении модели кредитного скоринга — специальной системы, которая оценивает способность потенциального заёмщика вернуть кредит банку."
   ]
  },
  {
   "cell_type": "markdown",
   "id": "dec37d5d",
   "metadata": {},
   "source": [
    "## Обзор данных"
   ]
  },
  {
   "cell_type": "code",
   "execution_count": 1,
   "id": "5333692b",
   "metadata": {},
   "outputs": [],
   "source": [
    "from IPython.display import display\n",
    "import pandas as pd"
   ]
  },
  {
   "cell_type": "code",
   "execution_count": 2,
   "id": "a35ebbbc",
   "metadata": {},
   "outputs": [],
   "source": [
    "df = pd.read_csv('/datasets/data.csv')"
   ]
  },
  {
   "cell_type": "code",
   "execution_count": 3,
   "id": "ed04d152",
   "metadata": {},
   "outputs": [
    {
     "data": {
      "text/html": [
       "<div>\n",
       "<style scoped>\n",
       "    .dataframe tbody tr th:only-of-type {\n",
       "        vertical-align: middle;\n",
       "    }\n",
       "\n",
       "    .dataframe tbody tr th {\n",
       "        vertical-align: top;\n",
       "    }\n",
       "\n",
       "    .dataframe thead th {\n",
       "        text-align: right;\n",
       "    }\n",
       "</style>\n",
       "<table border=\"1\" class=\"dataframe\">\n",
       "  <thead>\n",
       "    <tr style=\"text-align: right;\">\n",
       "      <th></th>\n",
       "      <th>children</th>\n",
       "      <th>days_employed</th>\n",
       "      <th>dob_years</th>\n",
       "      <th>education</th>\n",
       "      <th>education_id</th>\n",
       "      <th>family_status</th>\n",
       "      <th>family_status_id</th>\n",
       "      <th>gender</th>\n",
       "      <th>income_type</th>\n",
       "      <th>debt</th>\n",
       "      <th>total_income</th>\n",
       "      <th>purpose</th>\n",
       "    </tr>\n",
       "  </thead>\n",
       "  <tbody>\n",
       "    <tr>\n",
       "      <td>0</td>\n",
       "      <td>1</td>\n",
       "      <td>-8437.673028</td>\n",
       "      <td>42</td>\n",
       "      <td>высшее</td>\n",
       "      <td>0</td>\n",
       "      <td>женат / замужем</td>\n",
       "      <td>0</td>\n",
       "      <td>F</td>\n",
       "      <td>сотрудник</td>\n",
       "      <td>0</td>\n",
       "      <td>253875.639453</td>\n",
       "      <td>покупка жилья</td>\n",
       "    </tr>\n",
       "    <tr>\n",
       "      <td>1</td>\n",
       "      <td>1</td>\n",
       "      <td>-4024.803754</td>\n",
       "      <td>36</td>\n",
       "      <td>среднее</td>\n",
       "      <td>1</td>\n",
       "      <td>женат / замужем</td>\n",
       "      <td>0</td>\n",
       "      <td>F</td>\n",
       "      <td>сотрудник</td>\n",
       "      <td>0</td>\n",
       "      <td>112080.014102</td>\n",
       "      <td>приобретение автомобиля</td>\n",
       "    </tr>\n",
       "    <tr>\n",
       "      <td>2</td>\n",
       "      <td>0</td>\n",
       "      <td>-5623.422610</td>\n",
       "      <td>33</td>\n",
       "      <td>Среднее</td>\n",
       "      <td>1</td>\n",
       "      <td>женат / замужем</td>\n",
       "      <td>0</td>\n",
       "      <td>M</td>\n",
       "      <td>сотрудник</td>\n",
       "      <td>0</td>\n",
       "      <td>145885.952297</td>\n",
       "      <td>покупка жилья</td>\n",
       "    </tr>\n",
       "    <tr>\n",
       "      <td>3</td>\n",
       "      <td>3</td>\n",
       "      <td>-4124.747207</td>\n",
       "      <td>32</td>\n",
       "      <td>среднее</td>\n",
       "      <td>1</td>\n",
       "      <td>женат / замужем</td>\n",
       "      <td>0</td>\n",
       "      <td>M</td>\n",
       "      <td>сотрудник</td>\n",
       "      <td>0</td>\n",
       "      <td>267628.550329</td>\n",
       "      <td>дополнительное образование</td>\n",
       "    </tr>\n",
       "    <tr>\n",
       "      <td>4</td>\n",
       "      <td>0</td>\n",
       "      <td>340266.072047</td>\n",
       "      <td>53</td>\n",
       "      <td>среднее</td>\n",
       "      <td>1</td>\n",
       "      <td>гражданский брак</td>\n",
       "      <td>1</td>\n",
       "      <td>F</td>\n",
       "      <td>пенсионер</td>\n",
       "      <td>0</td>\n",
       "      <td>158616.077870</td>\n",
       "      <td>сыграть свадьбу</td>\n",
       "    </tr>\n",
       "    <tr>\n",
       "      <td>5</td>\n",
       "      <td>0</td>\n",
       "      <td>-926.185831</td>\n",
       "      <td>27</td>\n",
       "      <td>высшее</td>\n",
       "      <td>0</td>\n",
       "      <td>гражданский брак</td>\n",
       "      <td>1</td>\n",
       "      <td>M</td>\n",
       "      <td>компаньон</td>\n",
       "      <td>0</td>\n",
       "      <td>255763.565419</td>\n",
       "      <td>покупка жилья</td>\n",
       "    </tr>\n",
       "    <tr>\n",
       "      <td>6</td>\n",
       "      <td>0</td>\n",
       "      <td>-2879.202052</td>\n",
       "      <td>43</td>\n",
       "      <td>высшее</td>\n",
       "      <td>0</td>\n",
       "      <td>женат / замужем</td>\n",
       "      <td>0</td>\n",
       "      <td>F</td>\n",
       "      <td>компаньон</td>\n",
       "      <td>0</td>\n",
       "      <td>240525.971920</td>\n",
       "      <td>операции с жильем</td>\n",
       "    </tr>\n",
       "    <tr>\n",
       "      <td>7</td>\n",
       "      <td>0</td>\n",
       "      <td>-152.779569</td>\n",
       "      <td>50</td>\n",
       "      <td>СРЕДНЕЕ</td>\n",
       "      <td>1</td>\n",
       "      <td>женат / замужем</td>\n",
       "      <td>0</td>\n",
       "      <td>M</td>\n",
       "      <td>сотрудник</td>\n",
       "      <td>0</td>\n",
       "      <td>135823.934197</td>\n",
       "      <td>образование</td>\n",
       "    </tr>\n",
       "    <tr>\n",
       "      <td>8</td>\n",
       "      <td>2</td>\n",
       "      <td>-6929.865299</td>\n",
       "      <td>35</td>\n",
       "      <td>ВЫСШЕЕ</td>\n",
       "      <td>0</td>\n",
       "      <td>гражданский брак</td>\n",
       "      <td>1</td>\n",
       "      <td>F</td>\n",
       "      <td>сотрудник</td>\n",
       "      <td>0</td>\n",
       "      <td>95856.832424</td>\n",
       "      <td>на проведение свадьбы</td>\n",
       "    </tr>\n",
       "    <tr>\n",
       "      <td>9</td>\n",
       "      <td>0</td>\n",
       "      <td>-2188.756445</td>\n",
       "      <td>41</td>\n",
       "      <td>среднее</td>\n",
       "      <td>1</td>\n",
       "      <td>женат / замужем</td>\n",
       "      <td>0</td>\n",
       "      <td>M</td>\n",
       "      <td>сотрудник</td>\n",
       "      <td>0</td>\n",
       "      <td>144425.938277</td>\n",
       "      <td>покупка жилья для семьи</td>\n",
       "    </tr>\n",
       "  </tbody>\n",
       "</table>\n",
       "</div>"
      ],
      "text/plain": [
       "   children  days_employed  dob_years education  education_id  \\\n",
       "0         1   -8437.673028         42    высшее             0   \n",
       "1         1   -4024.803754         36   среднее             1   \n",
       "2         0   -5623.422610         33   Среднее             1   \n",
       "3         3   -4124.747207         32   среднее             1   \n",
       "4         0  340266.072047         53   среднее             1   \n",
       "5         0    -926.185831         27    высшее             0   \n",
       "6         0   -2879.202052         43    высшее             0   \n",
       "7         0    -152.779569         50   СРЕДНЕЕ             1   \n",
       "8         2   -6929.865299         35    ВЫСШЕЕ             0   \n",
       "9         0   -2188.756445         41   среднее             1   \n",
       "\n",
       "      family_status  family_status_id gender income_type  debt   total_income  \\\n",
       "0   женат / замужем                 0      F   сотрудник     0  253875.639453   \n",
       "1   женат / замужем                 0      F   сотрудник     0  112080.014102   \n",
       "2   женат / замужем                 0      M   сотрудник     0  145885.952297   \n",
       "3   женат / замужем                 0      M   сотрудник     0  267628.550329   \n",
       "4  гражданский брак                 1      F   пенсионер     0  158616.077870   \n",
       "5  гражданский брак                 1      M   компаньон     0  255763.565419   \n",
       "6   женат / замужем                 0      F   компаньон     0  240525.971920   \n",
       "7   женат / замужем                 0      M   сотрудник     0  135823.934197   \n",
       "8  гражданский брак                 1      F   сотрудник     0   95856.832424   \n",
       "9   женат / замужем                 0      M   сотрудник     0  144425.938277   \n",
       "\n",
       "                      purpose  \n",
       "0               покупка жилья  \n",
       "1     приобретение автомобиля  \n",
       "2               покупка жилья  \n",
       "3  дополнительное образование  \n",
       "4             сыграть свадьбу  \n",
       "5               покупка жилья  \n",
       "6           операции с жильем  \n",
       "7                 образование  \n",
       "8       на проведение свадьбы  \n",
       "9     покупка жилья для семьи  "
      ]
     },
     "execution_count": 3,
     "metadata": {},
     "output_type": "execute_result"
    }
   ],
   "source": [
    "df.head(10) #печать первых 10 строк таблицы данных"
   ]
  },
  {
   "cell_type": "markdown",
   "id": "d709aa9c",
   "metadata": {},
   "source": [
    "Общая информация о таблице:"
   ]
  },
  {
   "cell_type": "code",
   "execution_count": 4,
   "id": "a4ac06cb",
   "metadata": {},
   "outputs": [
    {
     "name": "stdout",
     "output_type": "stream",
     "text": [
      "<class 'pandas.core.frame.DataFrame'>\n",
      "RangeIndex: 21525 entries, 0 to 21524\n",
      "Data columns (total 12 columns):\n",
      "children            21525 non-null int64\n",
      "days_employed       19351 non-null float64\n",
      "dob_years           21525 non-null int64\n",
      "education           21525 non-null object\n",
      "education_id        21525 non-null int64\n",
      "family_status       21525 non-null object\n",
      "family_status_id    21525 non-null int64\n",
      "gender              21525 non-null object\n",
      "income_type         21525 non-null object\n",
      "debt                21525 non-null int64\n",
      "total_income        19351 non-null float64\n",
      "purpose             21525 non-null object\n",
      "dtypes: float64(2), int64(5), object(5)\n",
      "memory usage: 2.0+ MB\n"
     ]
    }
   ],
   "source": [
    "df.info()"
   ]
  },
  {
   "cell_type": "markdown",
   "id": "058bc319",
   "metadata": {},
   "source": [
    "Итого: 21525 строк. Тип данных - int64 (целые числа), float64\t(числа с плавающей точкой), object(текстовые или смешанные числовые и нечисловые значения).\n",
    "\n",
    "Согласно документации к данным:\n",
    "* `children` — количество детей в семье;\n",
    "* `days_employed` — общий трудовой стаж в днях;  \n",
    "* `dob_years` — возраст клиента в годах;\n",
    "* `education` — уровень образования клиента;\n",
    "* `education_id` — идентификатор уровня образования;\n",
    "* `family_status` — семейное положение;\n",
    "* `family_status_id` — идентификатор семейного положения;\n",
    "* `gender` — пол клиента;\n",
    "* `income_type` — тип занятости;\n",
    "* `debt` — имел ли задолженность по возврату кредитов;\n",
    "* `total_income` — ежемесячный доход;\n",
    "* `purpose` — цель получения кредита.\n",
    "\n",
    "\n"
   ]
  },
  {
   "cell_type": "markdown",
   "id": "f6b13a72",
   "metadata": {},
   "source": [
    "**Выводы**\n",
    "\n",
    "В каждой строке таблицы - данные о заемщике.\n",
    "\n",
    "Предварительно можно утверждать, что данных достаточно для проверки гипотез. Но встречаются пропуски в данных.\n",
    "\n",
    "Чтобы двигаться дальше, устраним проблемы в данных.\n"
   ]
  },
  {
   "cell_type": "markdown",
   "id": "1e52cf3e",
   "metadata": {},
   "source": [
    "## Предобработка данных\n",
    "- исключим пропуски\n",
    "- проверим данные на дубликаты и аномалии\n",
    "- проверим правильность типов данных"
   ]
  },
  {
   "cell_type": "markdown",
   "id": "c4f6d5e1",
   "metadata": {},
   "source": []
  },
  {
   "cell_type": "markdown",
   "id": "7f76e10e",
   "metadata": {},
   "source": [
    "###  Заполнение пропусков"
   ]
  },
  {
   "cell_type": "markdown",
   "id": "0acb0b45",
   "metadata": {},
   "source": [
    "Количество значений в столбцах *'days_employed'* и *'total_income'* различается. Значит, в данных есть пропущенные значения.\n",
    "\n",
    "Cтолбцs *'days_employed'* и *'total_income'* имеют тип данных 'float64' - вещественные числа.\n",
    "\n",
    "Посчитаем долю пропущенных значений:"
   ]
  },
  {
   "cell_type": "code",
   "execution_count": 5,
   "id": "77bb8a1c",
   "metadata": {},
   "outputs": [
    {
     "name": "stdout",
     "output_type": "stream",
     "text": [
      "Доля пропущенных значений в столбце общего трудового стажа в днях: 10 %\n",
      "Доля пропущенных значений в столбце ежемесячного дохода: 10 %\n"
     ]
    }
   ],
   "source": [
    "print('Доля пропущенных значений в столбце общего трудового стажа в днях:', \n",
    "      int(df['days_employed'].isna().sum()/df['children'].count()*100),'%')\n",
    "print('Доля пропущенных значений в столбце ежемесячного дохода:',\n",
    "      int(df['total_income'].isna().sum()/df['children'].count()*100),'%')"
   ]
  },
  {
   "cell_type": "markdown",
   "id": "da68da1c",
   "metadata": {},
   "source": [
    "**Возможные причины пропуска данных:**\n",
    "1. Отказ от предоставления сведений\n",
    "2. Изначально неверно проставленное значение (человеческий фактор) - допущены символы/пропуски, которые обработаны программой в NaN или пробел"
   ]
  },
  {
   "cell_type": "markdown",
   "id": "e95fb8f1",
   "metadata": {},
   "source": [
    "Попробуем заполнить выявленные пропуски медианным зачением. \n",
    "\n",
    "В данном случае такое решение является наиболее приемлемым, поскольку данные имеют сильный разброс по значениям.\n",
    "\n",
    "Это легко проверить, найдя минимальное и максимальное значение по столбцу *'days_employed'*:"
   ]
  },
  {
   "cell_type": "code",
   "execution_count": 6,
   "id": "d65c7dd4",
   "metadata": {},
   "outputs": [
    {
     "name": "stdout",
     "output_type": "stream",
     "text": [
      "Минимальный трудовой стаж в днях: 24.14163324048118\n",
      "Максимальный трудовой стаж в днях: 401755.40047533\n"
     ]
    }
   ],
   "source": [
    "print('Минимальный трудовой стаж в днях:', df['days_employed'].abs().min())\n",
    "print('Максимальный трудовой стаж в днях:', df['days_employed'].abs().max())\n"
   ]
  },
  {
   "cell_type": "markdown",
   "id": "219b9a3b",
   "metadata": {},
   "source": [
    "*//Обратим внимание, что данные из файла по столбцу 'days_employed' были предоставлены в том числе с отрицательными значениями, что скорее всего также является ошибкой при заполнении. Поэтому дополнительно применяем метод abs()//*"
   ]
  },
  {
   "cell_type": "markdown",
   "id": "c13b2cf4",
   "metadata": {},
   "source": [
    "То же самое производим касательно столбца *'total_income'*:"
   ]
  },
  {
   "cell_type": "code",
   "execution_count": 7,
   "id": "cba30ad3",
   "metadata": {},
   "outputs": [
    {
     "name": "stdout",
     "output_type": "stream",
     "text": [
      "Минимальный ежемесячный доход: 20667.26379327158\n",
      "Максимальный ежемесячный доход: 2265604.028722744\n"
     ]
    }
   ],
   "source": [
    "print('Минимальный ежемесячный доход:', df['total_income'].abs().min())\n",
    "print('Максимальный ежемесячный доход:', df['total_income'].abs().max())\n"
   ]
  },
  {
   "cell_type": "markdown",
   "id": "635529ea",
   "metadata": {},
   "source": [
    "Таким образом, в подобном случае (когда велика разница минимальнойго и максимального значения) логичнее использовать медианные значения для заполнения пропусков по столбцам:"
   ]
  },
  {
   "cell_type": "code",
   "execution_count": 8,
   "id": "1b1ccd82",
   "metadata": {},
   "outputs": [],
   "source": [
    "days_employed_median = df['days_employed'].abs().median()\n",
    "total_income_median = df['total_income'].abs().median()\n",
    "\n",
    "df['days_employed'] = df['days_employed'].fillna(days_employed_median)\n",
    "df['total_income'] = df['total_income'].fillna(total_income_median)"
   ]
  },
  {
   "cell_type": "code",
   "execution_count": 9,
   "id": "2b910757",
   "metadata": {},
   "outputs": [
    {
     "name": "stdout",
     "output_type": "stream",
     "text": [
      "children            0\n",
      "days_employed       0\n",
      "dob_years           0\n",
      "education           0\n",
      "education_id        0\n",
      "family_status       0\n",
      "family_status_id    0\n",
      "gender              0\n",
      "income_type         0\n",
      "debt                0\n",
      "total_income        0\n",
      "purpose             0\n",
      "dtype: int64\n"
     ]
    }
   ],
   "source": [
    "print(df.isna().sum())# проверка результатов - подсчёт пропусков"
   ]
  },
  {
   "cell_type": "markdown",
   "id": "b4e4b226",
   "metadata": {},
   "source": [
    "\n",
    "\n",
    "!ПРОПУСКИ ЗАПОЛНЕНЫ!"
   ]
  },
  {
   "cell_type": "markdown",
   "id": "70bddb7b",
   "metadata": {},
   "source": [
    "### Изменение типа данных"
   ]
  },
  {
   "cell_type": "markdown",
   "id": "36c3b0d3",
   "metadata": {},
   "source": [
    "Как уже отмечалось выше, некоторые значения в столбце *'days_employed'* представлены как отрицательные числа.\n",
    "\n",
    "Такая ошибка возможна в случае предоставления данных, например, в формате \"Общий стаж работы -2 года 14 месяцев\".\n",
    "\n",
    "Переведем все значения в удобный формат (дополнительно применим метод и к столбцу *'total_income'*):"
   ]
  },
  {
   "cell_type": "code",
   "execution_count": 10,
   "id": "26f51bf2",
   "metadata": {},
   "outputs": [
    {
     "data": {
      "text/html": [
       "<div>\n",
       "<style scoped>\n",
       "    .dataframe tbody tr th:only-of-type {\n",
       "        vertical-align: middle;\n",
       "    }\n",
       "\n",
       "    .dataframe tbody tr th {\n",
       "        vertical-align: top;\n",
       "    }\n",
       "\n",
       "    .dataframe thead th {\n",
       "        text-align: right;\n",
       "    }\n",
       "</style>\n",
       "<table border=\"1\" class=\"dataframe\">\n",
       "  <thead>\n",
       "    <tr style=\"text-align: right;\">\n",
       "      <th></th>\n",
       "      <th>children</th>\n",
       "      <th>days_employed</th>\n",
       "      <th>dob_years</th>\n",
       "      <th>education</th>\n",
       "      <th>education_id</th>\n",
       "      <th>family_status</th>\n",
       "      <th>family_status_id</th>\n",
       "      <th>gender</th>\n",
       "      <th>income_type</th>\n",
       "      <th>debt</th>\n",
       "      <th>total_income</th>\n",
       "      <th>purpose</th>\n",
       "    </tr>\n",
       "  </thead>\n",
       "  <tbody>\n",
       "    <tr>\n",
       "      <td>0</td>\n",
       "      <td>1</td>\n",
       "      <td>8437.673028</td>\n",
       "      <td>42</td>\n",
       "      <td>высшее</td>\n",
       "      <td>0</td>\n",
       "      <td>женат / замужем</td>\n",
       "      <td>0</td>\n",
       "      <td>F</td>\n",
       "      <td>сотрудник</td>\n",
       "      <td>0</td>\n",
       "      <td>253875.639453</td>\n",
       "      <td>покупка жилья</td>\n",
       "    </tr>\n",
       "    <tr>\n",
       "      <td>1</td>\n",
       "      <td>1</td>\n",
       "      <td>4024.803754</td>\n",
       "      <td>36</td>\n",
       "      <td>среднее</td>\n",
       "      <td>1</td>\n",
       "      <td>женат / замужем</td>\n",
       "      <td>0</td>\n",
       "      <td>F</td>\n",
       "      <td>сотрудник</td>\n",
       "      <td>0</td>\n",
       "      <td>112080.014102</td>\n",
       "      <td>приобретение автомобиля</td>\n",
       "    </tr>\n",
       "    <tr>\n",
       "      <td>2</td>\n",
       "      <td>0</td>\n",
       "      <td>5623.422610</td>\n",
       "      <td>33</td>\n",
       "      <td>Среднее</td>\n",
       "      <td>1</td>\n",
       "      <td>женат / замужем</td>\n",
       "      <td>0</td>\n",
       "      <td>M</td>\n",
       "      <td>сотрудник</td>\n",
       "      <td>0</td>\n",
       "      <td>145885.952297</td>\n",
       "      <td>покупка жилья</td>\n",
       "    </tr>\n",
       "    <tr>\n",
       "      <td>3</td>\n",
       "      <td>3</td>\n",
       "      <td>4124.747207</td>\n",
       "      <td>32</td>\n",
       "      <td>среднее</td>\n",
       "      <td>1</td>\n",
       "      <td>женат / замужем</td>\n",
       "      <td>0</td>\n",
       "      <td>M</td>\n",
       "      <td>сотрудник</td>\n",
       "      <td>0</td>\n",
       "      <td>267628.550329</td>\n",
       "      <td>дополнительное образование</td>\n",
       "    </tr>\n",
       "    <tr>\n",
       "      <td>4</td>\n",
       "      <td>0</td>\n",
       "      <td>340266.072047</td>\n",
       "      <td>53</td>\n",
       "      <td>среднее</td>\n",
       "      <td>1</td>\n",
       "      <td>гражданский брак</td>\n",
       "      <td>1</td>\n",
       "      <td>F</td>\n",
       "      <td>пенсионер</td>\n",
       "      <td>0</td>\n",
       "      <td>158616.077870</td>\n",
       "      <td>сыграть свадьбу</td>\n",
       "    </tr>\n",
       "    <tr>\n",
       "      <td>5</td>\n",
       "      <td>0</td>\n",
       "      <td>926.185831</td>\n",
       "      <td>27</td>\n",
       "      <td>высшее</td>\n",
       "      <td>0</td>\n",
       "      <td>гражданский брак</td>\n",
       "      <td>1</td>\n",
       "      <td>M</td>\n",
       "      <td>компаньон</td>\n",
       "      <td>0</td>\n",
       "      <td>255763.565419</td>\n",
       "      <td>покупка жилья</td>\n",
       "    </tr>\n",
       "    <tr>\n",
       "      <td>6</td>\n",
       "      <td>0</td>\n",
       "      <td>2879.202052</td>\n",
       "      <td>43</td>\n",
       "      <td>высшее</td>\n",
       "      <td>0</td>\n",
       "      <td>женат / замужем</td>\n",
       "      <td>0</td>\n",
       "      <td>F</td>\n",
       "      <td>компаньон</td>\n",
       "      <td>0</td>\n",
       "      <td>240525.971920</td>\n",
       "      <td>операции с жильем</td>\n",
       "    </tr>\n",
       "    <tr>\n",
       "      <td>7</td>\n",
       "      <td>0</td>\n",
       "      <td>152.779569</td>\n",
       "      <td>50</td>\n",
       "      <td>СРЕДНЕЕ</td>\n",
       "      <td>1</td>\n",
       "      <td>женат / замужем</td>\n",
       "      <td>0</td>\n",
       "      <td>M</td>\n",
       "      <td>сотрудник</td>\n",
       "      <td>0</td>\n",
       "      <td>135823.934197</td>\n",
       "      <td>образование</td>\n",
       "    </tr>\n",
       "    <tr>\n",
       "      <td>8</td>\n",
       "      <td>2</td>\n",
       "      <td>6929.865299</td>\n",
       "      <td>35</td>\n",
       "      <td>ВЫСШЕЕ</td>\n",
       "      <td>0</td>\n",
       "      <td>гражданский брак</td>\n",
       "      <td>1</td>\n",
       "      <td>F</td>\n",
       "      <td>сотрудник</td>\n",
       "      <td>0</td>\n",
       "      <td>95856.832424</td>\n",
       "      <td>на проведение свадьбы</td>\n",
       "    </tr>\n",
       "    <tr>\n",
       "      <td>9</td>\n",
       "      <td>0</td>\n",
       "      <td>2188.756445</td>\n",
       "      <td>41</td>\n",
       "      <td>среднее</td>\n",
       "      <td>1</td>\n",
       "      <td>женат / замужем</td>\n",
       "      <td>0</td>\n",
       "      <td>M</td>\n",
       "      <td>сотрудник</td>\n",
       "      <td>0</td>\n",
       "      <td>144425.938277</td>\n",
       "      <td>покупка жилья для семьи</td>\n",
       "    </tr>\n",
       "  </tbody>\n",
       "</table>\n",
       "</div>"
      ],
      "text/plain": [
       "   children  days_employed  dob_years education  education_id  \\\n",
       "0         1    8437.673028         42    высшее             0   \n",
       "1         1    4024.803754         36   среднее             1   \n",
       "2         0    5623.422610         33   Среднее             1   \n",
       "3         3    4124.747207         32   среднее             1   \n",
       "4         0  340266.072047         53   среднее             1   \n",
       "5         0     926.185831         27    высшее             0   \n",
       "6         0    2879.202052         43    высшее             0   \n",
       "7         0     152.779569         50   СРЕДНЕЕ             1   \n",
       "8         2    6929.865299         35    ВЫСШЕЕ             0   \n",
       "9         0    2188.756445         41   среднее             1   \n",
       "\n",
       "      family_status  family_status_id gender income_type  debt   total_income  \\\n",
       "0   женат / замужем                 0      F   сотрудник     0  253875.639453   \n",
       "1   женат / замужем                 0      F   сотрудник     0  112080.014102   \n",
       "2   женат / замужем                 0      M   сотрудник     0  145885.952297   \n",
       "3   женат / замужем                 0      M   сотрудник     0  267628.550329   \n",
       "4  гражданский брак                 1      F   пенсионер     0  158616.077870   \n",
       "5  гражданский брак                 1      M   компаньон     0  255763.565419   \n",
       "6   женат / замужем                 0      F   компаньон     0  240525.971920   \n",
       "7   женат / замужем                 0      M   сотрудник     0  135823.934197   \n",
       "8  гражданский брак                 1      F   сотрудник     0   95856.832424   \n",
       "9   женат / замужем                 0      M   сотрудник     0  144425.938277   \n",
       "\n",
       "                      purpose  \n",
       "0               покупка жилья  \n",
       "1     приобретение автомобиля  \n",
       "2               покупка жилья  \n",
       "3  дополнительное образование  \n",
       "4             сыграть свадьбу  \n",
       "5               покупка жилья  \n",
       "6           операции с жильем  \n",
       "7                 образование  \n",
       "8       на проведение свадьбы  \n",
       "9     покупка жилья для семьи  "
      ]
     },
     "metadata": {},
     "output_type": "display_data"
    }
   ],
   "source": [
    "df['days_employed'] = df['days_employed'].abs()\n",
    "df['total_income'] = df['total_income'].abs()\n",
    "display(df.head(10)) #проверим результат"
   ]
  },
  {
   "cell_type": "markdown",
   "id": "2f83964a",
   "metadata": {},
   "source": [
    "Как видно из полученной таблицы, после применения метода abs(), значения в столбцах *'days_employed'* и *'total_income'* имеет тип данных 'float64'.\n",
    "\n",
    "Для упрощения анализа изменим тип данных на целочисленные значения int64:"
   ]
  },
  {
   "cell_type": "code",
   "execution_count": 11,
   "id": "8ba44c52",
   "metadata": {},
   "outputs": [
    {
     "data": {
      "text/html": [
       "<div>\n",
       "<style scoped>\n",
       "    .dataframe tbody tr th:only-of-type {\n",
       "        vertical-align: middle;\n",
       "    }\n",
       "\n",
       "    .dataframe tbody tr th {\n",
       "        vertical-align: top;\n",
       "    }\n",
       "\n",
       "    .dataframe thead th {\n",
       "        text-align: right;\n",
       "    }\n",
       "</style>\n",
       "<table border=\"1\" class=\"dataframe\">\n",
       "  <thead>\n",
       "    <tr style=\"text-align: right;\">\n",
       "      <th></th>\n",
       "      <th>children</th>\n",
       "      <th>days_employed</th>\n",
       "      <th>dob_years</th>\n",
       "      <th>education</th>\n",
       "      <th>education_id</th>\n",
       "      <th>family_status</th>\n",
       "      <th>family_status_id</th>\n",
       "      <th>gender</th>\n",
       "      <th>income_type</th>\n",
       "      <th>debt</th>\n",
       "      <th>total_income</th>\n",
       "      <th>purpose</th>\n",
       "    </tr>\n",
       "  </thead>\n",
       "  <tbody>\n",
       "    <tr>\n",
       "      <td>0</td>\n",
       "      <td>1</td>\n",
       "      <td>8437</td>\n",
       "      <td>42</td>\n",
       "      <td>высшее</td>\n",
       "      <td>0</td>\n",
       "      <td>женат / замужем</td>\n",
       "      <td>0</td>\n",
       "      <td>F</td>\n",
       "      <td>сотрудник</td>\n",
       "      <td>0</td>\n",
       "      <td>253875</td>\n",
       "      <td>покупка жилья</td>\n",
       "    </tr>\n",
       "    <tr>\n",
       "      <td>1</td>\n",
       "      <td>1</td>\n",
       "      <td>4024</td>\n",
       "      <td>36</td>\n",
       "      <td>среднее</td>\n",
       "      <td>1</td>\n",
       "      <td>женат / замужем</td>\n",
       "      <td>0</td>\n",
       "      <td>F</td>\n",
       "      <td>сотрудник</td>\n",
       "      <td>0</td>\n",
       "      <td>112080</td>\n",
       "      <td>приобретение автомобиля</td>\n",
       "    </tr>\n",
       "    <tr>\n",
       "      <td>2</td>\n",
       "      <td>0</td>\n",
       "      <td>5623</td>\n",
       "      <td>33</td>\n",
       "      <td>Среднее</td>\n",
       "      <td>1</td>\n",
       "      <td>женат / замужем</td>\n",
       "      <td>0</td>\n",
       "      <td>M</td>\n",
       "      <td>сотрудник</td>\n",
       "      <td>0</td>\n",
       "      <td>145885</td>\n",
       "      <td>покупка жилья</td>\n",
       "    </tr>\n",
       "    <tr>\n",
       "      <td>3</td>\n",
       "      <td>3</td>\n",
       "      <td>4124</td>\n",
       "      <td>32</td>\n",
       "      <td>среднее</td>\n",
       "      <td>1</td>\n",
       "      <td>женат / замужем</td>\n",
       "      <td>0</td>\n",
       "      <td>M</td>\n",
       "      <td>сотрудник</td>\n",
       "      <td>0</td>\n",
       "      <td>267628</td>\n",
       "      <td>дополнительное образование</td>\n",
       "    </tr>\n",
       "    <tr>\n",
       "      <td>4</td>\n",
       "      <td>0</td>\n",
       "      <td>340266</td>\n",
       "      <td>53</td>\n",
       "      <td>среднее</td>\n",
       "      <td>1</td>\n",
       "      <td>гражданский брак</td>\n",
       "      <td>1</td>\n",
       "      <td>F</td>\n",
       "      <td>пенсионер</td>\n",
       "      <td>0</td>\n",
       "      <td>158616</td>\n",
       "      <td>сыграть свадьбу</td>\n",
       "    </tr>\n",
       "    <tr>\n",
       "      <td>5</td>\n",
       "      <td>0</td>\n",
       "      <td>926</td>\n",
       "      <td>27</td>\n",
       "      <td>высшее</td>\n",
       "      <td>0</td>\n",
       "      <td>гражданский брак</td>\n",
       "      <td>1</td>\n",
       "      <td>M</td>\n",
       "      <td>компаньон</td>\n",
       "      <td>0</td>\n",
       "      <td>255763</td>\n",
       "      <td>покупка жилья</td>\n",
       "    </tr>\n",
       "    <tr>\n",
       "      <td>6</td>\n",
       "      <td>0</td>\n",
       "      <td>2879</td>\n",
       "      <td>43</td>\n",
       "      <td>высшее</td>\n",
       "      <td>0</td>\n",
       "      <td>женат / замужем</td>\n",
       "      <td>0</td>\n",
       "      <td>F</td>\n",
       "      <td>компаньон</td>\n",
       "      <td>0</td>\n",
       "      <td>240525</td>\n",
       "      <td>операции с жильем</td>\n",
       "    </tr>\n",
       "    <tr>\n",
       "      <td>7</td>\n",
       "      <td>0</td>\n",
       "      <td>152</td>\n",
       "      <td>50</td>\n",
       "      <td>СРЕДНЕЕ</td>\n",
       "      <td>1</td>\n",
       "      <td>женат / замужем</td>\n",
       "      <td>0</td>\n",
       "      <td>M</td>\n",
       "      <td>сотрудник</td>\n",
       "      <td>0</td>\n",
       "      <td>135823</td>\n",
       "      <td>образование</td>\n",
       "    </tr>\n",
       "    <tr>\n",
       "      <td>8</td>\n",
       "      <td>2</td>\n",
       "      <td>6929</td>\n",
       "      <td>35</td>\n",
       "      <td>ВЫСШЕЕ</td>\n",
       "      <td>0</td>\n",
       "      <td>гражданский брак</td>\n",
       "      <td>1</td>\n",
       "      <td>F</td>\n",
       "      <td>сотрудник</td>\n",
       "      <td>0</td>\n",
       "      <td>95856</td>\n",
       "      <td>на проведение свадьбы</td>\n",
       "    </tr>\n",
       "    <tr>\n",
       "      <td>9</td>\n",
       "      <td>0</td>\n",
       "      <td>2188</td>\n",
       "      <td>41</td>\n",
       "      <td>среднее</td>\n",
       "      <td>1</td>\n",
       "      <td>женат / замужем</td>\n",
       "      <td>0</td>\n",
       "      <td>M</td>\n",
       "      <td>сотрудник</td>\n",
       "      <td>0</td>\n",
       "      <td>144425</td>\n",
       "      <td>покупка жилья для семьи</td>\n",
       "    </tr>\n",
       "  </tbody>\n",
       "</table>\n",
       "</div>"
      ],
      "text/plain": [
       "   children  days_employed  dob_years education  education_id  \\\n",
       "0         1           8437         42    высшее             0   \n",
       "1         1           4024         36   среднее             1   \n",
       "2         0           5623         33   Среднее             1   \n",
       "3         3           4124         32   среднее             1   \n",
       "4         0         340266         53   среднее             1   \n",
       "5         0            926         27    высшее             0   \n",
       "6         0           2879         43    высшее             0   \n",
       "7         0            152         50   СРЕДНЕЕ             1   \n",
       "8         2           6929         35    ВЫСШЕЕ             0   \n",
       "9         0           2188         41   среднее             1   \n",
       "\n",
       "      family_status  family_status_id gender income_type  debt  total_income  \\\n",
       "0   женат / замужем                 0      F   сотрудник     0        253875   \n",
       "1   женат / замужем                 0      F   сотрудник     0        112080   \n",
       "2   женат / замужем                 0      M   сотрудник     0        145885   \n",
       "3   женат / замужем                 0      M   сотрудник     0        267628   \n",
       "4  гражданский брак                 1      F   пенсионер     0        158616   \n",
       "5  гражданский брак                 1      M   компаньон     0        255763   \n",
       "6   женат / замужем                 0      F   компаньон     0        240525   \n",
       "7   женат / замужем                 0      M   сотрудник     0        135823   \n",
       "8  гражданский брак                 1      F   сотрудник     0         95856   \n",
       "9   женат / замужем                 0      M   сотрудник     0        144425   \n",
       "\n",
       "                      purpose  \n",
       "0               покупка жилья  \n",
       "1     приобретение автомобиля  \n",
       "2               покупка жилья  \n",
       "3  дополнительное образование  \n",
       "4             сыграть свадьбу  \n",
       "5               покупка жилья  \n",
       "6           операции с жильем  \n",
       "7                 образование  \n",
       "8       на проведение свадьбы  \n",
       "9     покупка жилья для семьи  "
      ]
     },
     "metadata": {},
     "output_type": "display_data"
    }
   ],
   "source": [
    "df['days_employed'] = df['days_employed'].fillna(value = days_employed_median).astype('int')\n",
    "df['total_income'] = df['total_income'].fillna(value = days_employed_median).astype('int')\n",
    "display(df.head(10))"
   ]
  },
  {
   "cell_type": "markdown",
   "id": "6f4d3d58",
   "metadata": {},
   "source": [
    "###  Удаление дубликатов и аномальных значений."
   ]
  },
  {
   "cell_type": "code",
   "execution_count": 13,
   "id": "9572cebd",
   "metadata": {},
   "outputs": [
    {
     "data": {
      "text/plain": [
       "54"
      ]
     },
     "execution_count": 13,
     "metadata": {},
     "output_type": "execute_result"
    }
   ],
   "source": [
    "df.duplicated().sum()"
   ]
  },
  {
   "cell_type": "markdown",
   "id": "68582be1",
   "metadata": {},
   "source": [
    "Просмотрим уникальные названия в столбцах *'education', 'family_status', 'income_type', 'purpose', 'gender'*  в алфавитном порядке:"
   ]
  },
  {
   "cell_type": "code",
   "execution_count": 15,
   "id": "e20b4fd4",
   "metadata": {},
   "outputs": [
    {
     "data": {
      "text/plain": [
       "['ВЫСШЕЕ',\n",
       " 'Высшее',\n",
       " 'НАЧАЛЬНОЕ',\n",
       " 'НЕОКОНЧЕННОЕ ВЫСШЕЕ',\n",
       " 'Начальное',\n",
       " 'Неоконченное высшее',\n",
       " 'СРЕДНЕЕ',\n",
       " 'Среднее',\n",
       " 'УЧЕНАЯ СТЕПЕНЬ',\n",
       " 'Ученая степень',\n",
       " 'высшее',\n",
       " 'начальное',\n",
       " 'неоконченное высшее',\n",
       " 'среднее',\n",
       " 'ученая степень']"
      ]
     },
     "metadata": {},
     "output_type": "display_data"
    }
   ],
   "source": [
    "display(sorted(df['education'].unique()))"
   ]
  },
  {
   "cell_type": "code",
   "execution_count": 16,
   "id": "236c5fec",
   "metadata": {},
   "outputs": [
    {
     "data": {
      "text/plain": [
       "['Не женат / не замужем',\n",
       " 'в разводе',\n",
       " 'вдовец / вдова',\n",
       " 'гражданский брак',\n",
       " 'женат / замужем']"
      ]
     },
     "metadata": {},
     "output_type": "display_data"
    }
   ],
   "source": [
    "display(sorted(df['family_status'].unique()))\n"
   ]
  },
  {
   "cell_type": "code",
   "execution_count": 17,
   "id": "4abf315d",
   "metadata": {},
   "outputs": [
    {
     "data": {
      "text/plain": [
       "['безработный',\n",
       " 'в декрете',\n",
       " 'госслужащий',\n",
       " 'компаньон',\n",
       " 'пенсионер',\n",
       " 'предприниматель',\n",
       " 'сотрудник',\n",
       " 'студент']"
      ]
     },
     "metadata": {},
     "output_type": "display_data"
    }
   ],
   "source": [
    "display(sorted(df['income_type'].unique()))\n"
   ]
  },
  {
   "cell_type": "code",
   "execution_count": 18,
   "id": "2d064677",
   "metadata": {},
   "outputs": [
    {
     "data": {
      "text/plain": [
       "['автомобили',\n",
       " 'автомобиль',\n",
       " 'высшее образование',\n",
       " 'дополнительное образование',\n",
       " 'жилье',\n",
       " 'заняться высшим образованием',\n",
       " 'заняться образованием',\n",
       " 'на покупку автомобиля',\n",
       " 'на покупку подержанного автомобиля',\n",
       " 'на покупку своего автомобиля',\n",
       " 'на проведение свадьбы',\n",
       " 'недвижимость',\n",
       " 'образование',\n",
       " 'операции с жильем',\n",
       " 'операции с коммерческой недвижимостью',\n",
       " 'операции с недвижимостью',\n",
       " 'операции со своей недвижимостью',\n",
       " 'покупка жилой недвижимости',\n",
       " 'покупка жилья',\n",
       " 'покупка жилья для сдачи',\n",
       " 'покупка жилья для семьи',\n",
       " 'покупка коммерческой недвижимости',\n",
       " 'покупка недвижимости',\n",
       " 'покупка своего жилья',\n",
       " 'получение высшего образования',\n",
       " 'получение дополнительного образования',\n",
       " 'получение образования',\n",
       " 'приобретение автомобиля',\n",
       " 'профильное образование',\n",
       " 'ремонт жилью',\n",
       " 'свадьба',\n",
       " 'свой автомобиль',\n",
       " 'сделка с автомобилем',\n",
       " 'сделка с подержанным автомобилем',\n",
       " 'строительство жилой недвижимости',\n",
       " 'строительство недвижимости',\n",
       " 'строительство собственной недвижимости',\n",
       " 'сыграть свадьбу']"
      ]
     },
     "metadata": {},
     "output_type": "display_data"
    }
   ],
   "source": [
    "display(sorted(df['purpose'].unique()))"
   ]
  },
  {
   "cell_type": "code",
   "execution_count": 19,
   "id": "b5129727",
   "metadata": {},
   "outputs": [
    {
     "data": {
      "text/plain": [
       "['F', 'M', 'XNA']"
      ]
     },
     "metadata": {},
     "output_type": "display_data"
    }
   ],
   "source": [
    "display(sorted(df['gender'].unique()))"
   ]
  },
  {
   "cell_type": "markdown",
   "id": "4e777133",
   "metadata": {},
   "source": [
    "Довольно странное значение 'XNA' для указания пола. Посчитаем количество таких строк:"
   ]
  },
  {
   "cell_type": "code",
   "execution_count": 20,
   "id": "fd809096",
   "metadata": {},
   "outputs": [
    {
     "name": "stdout",
     "output_type": "stream",
     "text": [
      "1\n"
     ]
    }
   ],
   "source": [
    "\n",
    "print(df[df['gender']=='XNA']['gender'].count())"
   ]
  },
  {
   "cell_type": "markdown",
   "id": "06e7ce54",
   "metadata": {},
   "source": [
    "Единственное совпадение, удаление которого не повлияет на результат:"
   ]
  },
  {
   "cell_type": "code",
   "execution_count": 21,
   "id": "83100583",
   "metadata": {},
   "outputs": [],
   "source": [
    "df=df[df['gender']!='XNA']"
   ]
  },
  {
   "cell_type": "code",
   "execution_count": 22,
   "id": "4305bf69",
   "metadata": {},
   "outputs": [
    {
     "data": {
      "text/plain": [
       "['высшее', 'начальное', 'неоконченное высшее', 'среднее', 'ученая степень']"
      ]
     },
     "metadata": {},
     "output_type": "display_data"
    }
   ],
   "source": [
    "df['education'] = df['education'].str.lower() #переведем прописные буквы в строчные\n",
    "\n",
    "display(sorted(df['education'].unique())) #проверим уникальные значения столбца education"
   ]
  },
  {
   "cell_type": "code",
   "execution_count": 23,
   "id": "d44184c1",
   "metadata": {},
   "outputs": [
    {
     "data": {
      "text/plain": [
       "[-1, 0, 1, 2, 3, 4, 5, 20]"
      ]
     },
     "metadata": {},
     "output_type": "display_data"
    }
   ],
   "source": [
    "display(sorted(df['children'].unique())) #проверим также и столбец children"
   ]
  },
  {
   "cell_type": "markdown",
   "id": "9073db4a",
   "metadata": {},
   "source": [
    "Видно, что в данные попали довольно странные значения (-1) и 20. \n",
    "\n",
    "Значение(-1) заменим на 1, применив метод abs() ко всему столбцу. Знаечние 20 проверим на количество совпадений в таблице:"
   ]
  },
  {
   "cell_type": "code",
   "execution_count": 24,
   "id": "8c9d9ce3",
   "metadata": {},
   "outputs": [],
   "source": [
    "df['children']=df['children'].abs()"
   ]
  },
  {
   "cell_type": "code",
   "execution_count": 25,
   "id": "058ec2ab",
   "metadata": {},
   "outputs": [
    {
     "name": "stdout",
     "output_type": "stream",
     "text": [
      "76\n"
     ]
    }
   ],
   "source": [
    "print(df[df['children']==20]['children'].count())\n"
   ]
  },
  {
   "cell_type": "code",
   "execution_count": 26,
   "id": "6bc2d810",
   "metadata": {},
   "outputs": [
    {
     "name": "stdout",
     "output_type": "stream",
     "text": [
      "0.35309422040512917\n"
     ]
    }
   ],
   "source": [
    "print(df[df['children']==20]['children'].count()/df['children'].count()*100) \n",
    "#посчитаем процент таких данных со значением 20 в таблице"
   ]
  },
  {
   "cell_type": "markdown",
   "id": "03119ceb",
   "metadata": {},
   "source": [
    "Процент данных очень мал. Поэтому удалим данные, природа ошибки по которым не ясна (возможно пользователь вводил 0, возможно 2, но при этом задевал соседнюю кнопку)."
   ]
  },
  {
   "cell_type": "code",
   "execution_count": 27,
   "id": "2b2136f7",
   "metadata": {},
   "outputs": [
    {
     "name": "stdout",
     "output_type": "stream",
     "text": [
      "<class 'pandas.core.frame.DataFrame'>\n",
      "Int64Index: 21448 entries, 0 to 21524\n",
      "Data columns (total 12 columns):\n",
      "children            21448 non-null int64\n",
      "days_employed       21448 non-null int64\n",
      "dob_years           21448 non-null int64\n",
      "education           21448 non-null object\n",
      "education_id        21448 non-null int64\n",
      "family_status       21448 non-null object\n",
      "family_status_id    21448 non-null int64\n",
      "gender              21448 non-null object\n",
      "income_type         21448 non-null object\n",
      "debt                21448 non-null int64\n",
      "total_income        21448 non-null int64\n",
      "purpose             21448 non-null object\n",
      "dtypes: int64(7), object(5)\n",
      "memory usage: 2.1+ MB\n",
      "[0, 1, 2, 3, 4, 5]\n"
     ]
    }
   ],
   "source": [
    "df=df[df['children']!=20]#создадим новую таблицу, без учета данных по семьям с детьми=20\n",
    "\n",
    "df.info()#проверим общую информацию о таблице\n",
    "\n",
    "print(sorted(df['children'].unique()))#проверим уникальные значения по столбцу children"
   ]
  },
  {
   "cell_type": "markdown",
   "id": "f32b4041",
   "metadata": {},
   "source": [
    "Проведем подсчет явных дубликатов:"
   ]
  },
  {
   "cell_type": "code",
   "execution_count": 28,
   "id": "34b6fe6e",
   "metadata": {},
   "outputs": [
    {
     "data": {
      "text/plain": [
       "71"
      ]
     },
     "execution_count": 28,
     "metadata": {},
     "output_type": "execute_result"
    }
   ],
   "source": [
    "df.duplicated().sum()"
   ]
  },
  {
   "cell_type": "markdown",
   "id": "8b67e2b0",
   "metadata": {},
   "source": [
    "И удалим их (с удалением старых индексов и формированием новых)"
   ]
  },
  {
   "cell_type": "code",
   "execution_count": 29,
   "id": "337666ad",
   "metadata": {},
   "outputs": [
    {
     "data": {
      "text/plain": [
       "0"
      ]
     },
     "execution_count": 29,
     "metadata": {},
     "output_type": "execute_result"
    }
   ],
   "source": [
    "df=df.drop_duplicates().reset_index(drop=True)\n",
    "df.duplicated().sum() #проверка на отсутствие дубликатов"
   ]
  },
  {
   "cell_type": "markdown",
   "id": "3d958f68",
   "metadata": {},
   "source": [
    "**Выводы**\n",
    "\n",
    "Предобработка обнаружила три проблемы в данных:\n",
    "\n",
    "- наличие пропусков\n",
    "- наличие дубликатов и аномалий\n",
    "- излишний тип данных\n",
    "\n",
    " \n",
    "\n",
    "Пропущенные значения заменили на медианные значения. \n",
    "\n",
    "Дубликаты откорректировали и лишние из них удалили, чтобы исследование было более точным.\n",
    "\n",
    "Нашли аномалии и также удалили их.\n",
    "\n",
    "Тип данных привели к целочисленным значениям."
   ]
  },
  {
   "cell_type": "markdown",
   "id": "e951cf26",
   "metadata": {},
   "source": [
    "###  Формирование дополнительных датафреймов словарей, декомпозиция исходного датафрейма."
   ]
  },
  {
   "cell_type": "markdown",
   "id": "7897bb6b",
   "metadata": {},
   "source": [
    "При изучении таблицы видно, что столбцы *'education'* и *'education_id'* можно сопоставит между собой:"
   ]
  },
  {
   "cell_type": "code",
   "execution_count": 40,
   "id": "4536aa7a",
   "metadata": {},
   "outputs": [
    {
     "data": {
      "text/html": [
       "<div>\n",
       "<style scoped>\n",
       "    .dataframe tbody tr th:only-of-type {\n",
       "        vertical-align: middle;\n",
       "    }\n",
       "\n",
       "    .dataframe tbody tr th {\n",
       "        vertical-align: top;\n",
       "    }\n",
       "\n",
       "    .dataframe thead th {\n",
       "        text-align: right;\n",
       "    }\n",
       "</style>\n",
       "<table border=\"1\" class=\"dataframe\">\n",
       "  <thead>\n",
       "    <tr style=\"text-align: right;\">\n",
       "      <th></th>\n",
       "      <th>education</th>\n",
       "      <th>education_id</th>\n",
       "    </tr>\n",
       "  </thead>\n",
       "  <tbody>\n",
       "    <tr>\n",
       "      <td>0</td>\n",
       "      <td>высшее</td>\n",
       "      <td>0</td>\n",
       "    </tr>\n",
       "    <tr>\n",
       "      <td>1</td>\n",
       "      <td>среднее</td>\n",
       "      <td>1</td>\n",
       "    </tr>\n",
       "    <tr>\n",
       "      <td>2</td>\n",
       "      <td>неоконченное высшее</td>\n",
       "      <td>2</td>\n",
       "    </tr>\n",
       "    <tr>\n",
       "      <td>3</td>\n",
       "      <td>начальное</td>\n",
       "      <td>3</td>\n",
       "    </tr>\n",
       "    <tr>\n",
       "      <td>4</td>\n",
       "      <td>ученая степень</td>\n",
       "      <td>4</td>\n",
       "    </tr>\n",
       "  </tbody>\n",
       "</table>\n",
       "</div>"
      ],
      "text/plain": [
       "             education  education_id\n",
       "0               высшее             0\n",
       "1              среднее             1\n",
       "2  неоконченное высшее             2\n",
       "3            начальное             3\n",
       "4       ученая степень             4"
      ]
     },
     "metadata": {},
     "output_type": "display_data"
    }
   ],
   "source": [
    "education_categories=df[['education','education_id']] #создадим датафрейм из нужных столбцов\n",
    "\n",
    "display(education_categories.drop_duplicates().reset_index(drop=True).sort_values('education_id')) #сопоставим столбцы\n",
    "\n"
   ]
  },
  {
   "cell_type": "markdown",
   "id": "1b38d423",
   "metadata": {},
   "source": [
    "То же самое проведем для столбцов *'family_status'* и *'family_status_id'*."
   ]
  },
  {
   "cell_type": "code",
   "execution_count": 41,
   "id": "5251b87f",
   "metadata": {},
   "outputs": [
    {
     "data": {
      "text/html": [
       "<div>\n",
       "<style scoped>\n",
       "    .dataframe tbody tr th:only-of-type {\n",
       "        vertical-align: middle;\n",
       "    }\n",
       "\n",
       "    .dataframe tbody tr th {\n",
       "        vertical-align: top;\n",
       "    }\n",
       "\n",
       "    .dataframe thead th {\n",
       "        text-align: right;\n",
       "    }\n",
       "</style>\n",
       "<table border=\"1\" class=\"dataframe\">\n",
       "  <thead>\n",
       "    <tr style=\"text-align: right;\">\n",
       "      <th></th>\n",
       "      <th>family_status</th>\n",
       "      <th>family_status_id</th>\n",
       "    </tr>\n",
       "  </thead>\n",
       "  <tbody>\n",
       "    <tr>\n",
       "      <td>0</td>\n",
       "      <td>женат / замужем</td>\n",
       "      <td>0</td>\n",
       "    </tr>\n",
       "    <tr>\n",
       "      <td>1</td>\n",
       "      <td>гражданский брак</td>\n",
       "      <td>1</td>\n",
       "    </tr>\n",
       "    <tr>\n",
       "      <td>2</td>\n",
       "      <td>вдовец / вдова</td>\n",
       "      <td>2</td>\n",
       "    </tr>\n",
       "    <tr>\n",
       "      <td>3</td>\n",
       "      <td>в разводе</td>\n",
       "      <td>3</td>\n",
       "    </tr>\n",
       "    <tr>\n",
       "      <td>4</td>\n",
       "      <td>Не женат / не замужем</td>\n",
       "      <td>4</td>\n",
       "    </tr>\n",
       "  </tbody>\n",
       "</table>\n",
       "</div>"
      ],
      "text/plain": [
       "           family_status  family_status_id\n",
       "0        женат / замужем                 0\n",
       "1       гражданский брак                 1\n",
       "2         вдовец / вдова                 2\n",
       "3              в разводе                 3\n",
       "4  Не женат / не замужем                 4"
      ]
     },
     "metadata": {},
     "output_type": "display_data"
    }
   ],
   "source": [
    "family_categories=df[['family_status','family_status_id']]\n",
    "\n",
    "display(family_categories.drop_duplicates().reset_index(drop=True).sort_values('family_status_id'))\n"
   ]
  },
  {
   "cell_type": "markdown",
   "id": "ad3c0481",
   "metadata": {},
   "source": [
    "Из такой таблицы можно заметить, что 2 категории (женат/замужем и гражданский брак) можно объединить в дополнительную категорию **'couple'** (пара, неодинокие). \n",
    "\n",
    "И остальные 3 категории (вдовец/вдова, в разводе и не замужем/не женат) можно обединить в дополнительную категорию **'single'**(одинокие).\n",
    "\n",
    " Для этого напишем функцию, которая присваивает категории couple или single по столбцу family_status_id:"
   ]
  },
  {
   "cell_type": "code",
   "execution_count": 42,
   "id": "bb19daaa",
   "metadata": {},
   "outputs": [],
   "source": [
    "def category_family_group(status):\n",
    "    if status==0 or status==1:\n",
    "        return 'couple'\n",
    "   \n",
    "    return 'single'\n",
    "\n",
    "df['category_family']=df['family_status_id'].apply(category_family_group)#обращаемся к столбцу family_status_id,\n",
    "#у корого имеется 5 значений в соответствии с ранее выведенным словарем и вызываем функцию"
   ]
  },
  {
   "cell_type": "markdown",
   "id": "8f73e173",
   "metadata": {},
   "source": [
    "Теперь имея такие сопоставления (\"словари\"), можно удалить из исходной таблицы столбцы *'family_status'*, *'education'* и *'family_status_id'*:"
   ]
  },
  {
   "cell_type": "code",
   "execution_count": 43,
   "id": "b9be135c",
   "metadata": {},
   "outputs": [
    {
     "data": {
      "text/html": [
       "<div>\n",
       "<style scoped>\n",
       "    .dataframe tbody tr th:only-of-type {\n",
       "        vertical-align: middle;\n",
       "    }\n",
       "\n",
       "    .dataframe tbody tr th {\n",
       "        vertical-align: top;\n",
       "    }\n",
       "\n",
       "    .dataframe thead th {\n",
       "        text-align: right;\n",
       "    }\n",
       "</style>\n",
       "<table border=\"1\" class=\"dataframe\">\n",
       "  <thead>\n",
       "    <tr style=\"text-align: right;\">\n",
       "      <th></th>\n",
       "      <th>children</th>\n",
       "      <th>days_employed</th>\n",
       "      <th>dob_years</th>\n",
       "      <th>education_id</th>\n",
       "      <th>gender</th>\n",
       "      <th>income_type</th>\n",
       "      <th>debt</th>\n",
       "      <th>total_income</th>\n",
       "      <th>purpose</th>\n",
       "      <th>category_family</th>\n",
       "    </tr>\n",
       "  </thead>\n",
       "  <tbody>\n",
       "    <tr>\n",
       "      <td>0</td>\n",
       "      <td>1</td>\n",
       "      <td>8437</td>\n",
       "      <td>42</td>\n",
       "      <td>0</td>\n",
       "      <td>F</td>\n",
       "      <td>сотрудник</td>\n",
       "      <td>0</td>\n",
       "      <td>253875</td>\n",
       "      <td>покупка жилья</td>\n",
       "      <td>couple</td>\n",
       "    </tr>\n",
       "    <tr>\n",
       "      <td>1</td>\n",
       "      <td>1</td>\n",
       "      <td>4024</td>\n",
       "      <td>36</td>\n",
       "      <td>1</td>\n",
       "      <td>F</td>\n",
       "      <td>сотрудник</td>\n",
       "      <td>0</td>\n",
       "      <td>112080</td>\n",
       "      <td>приобретение автомобиля</td>\n",
       "      <td>couple</td>\n",
       "    </tr>\n",
       "    <tr>\n",
       "      <td>2</td>\n",
       "      <td>0</td>\n",
       "      <td>5623</td>\n",
       "      <td>33</td>\n",
       "      <td>1</td>\n",
       "      <td>M</td>\n",
       "      <td>сотрудник</td>\n",
       "      <td>0</td>\n",
       "      <td>145885</td>\n",
       "      <td>покупка жилья</td>\n",
       "      <td>couple</td>\n",
       "    </tr>\n",
       "    <tr>\n",
       "      <td>3</td>\n",
       "      <td>3</td>\n",
       "      <td>4124</td>\n",
       "      <td>32</td>\n",
       "      <td>1</td>\n",
       "      <td>M</td>\n",
       "      <td>сотрудник</td>\n",
       "      <td>0</td>\n",
       "      <td>267628</td>\n",
       "      <td>дополнительное образование</td>\n",
       "      <td>couple</td>\n",
       "    </tr>\n",
       "    <tr>\n",
       "      <td>4</td>\n",
       "      <td>0</td>\n",
       "      <td>340266</td>\n",
       "      <td>53</td>\n",
       "      <td>1</td>\n",
       "      <td>F</td>\n",
       "      <td>пенсионер</td>\n",
       "      <td>0</td>\n",
       "      <td>158616</td>\n",
       "      <td>сыграть свадьбу</td>\n",
       "      <td>couple</td>\n",
       "    </tr>\n",
       "    <tr>\n",
       "      <td>5</td>\n",
       "      <td>0</td>\n",
       "      <td>926</td>\n",
       "      <td>27</td>\n",
       "      <td>0</td>\n",
       "      <td>M</td>\n",
       "      <td>компаньон</td>\n",
       "      <td>0</td>\n",
       "      <td>255763</td>\n",
       "      <td>покупка жилья</td>\n",
       "      <td>couple</td>\n",
       "    </tr>\n",
       "    <tr>\n",
       "      <td>6</td>\n",
       "      <td>0</td>\n",
       "      <td>2879</td>\n",
       "      <td>43</td>\n",
       "      <td>0</td>\n",
       "      <td>F</td>\n",
       "      <td>компаньон</td>\n",
       "      <td>0</td>\n",
       "      <td>240525</td>\n",
       "      <td>операции с жильем</td>\n",
       "      <td>couple</td>\n",
       "    </tr>\n",
       "    <tr>\n",
       "      <td>7</td>\n",
       "      <td>0</td>\n",
       "      <td>152</td>\n",
       "      <td>50</td>\n",
       "      <td>1</td>\n",
       "      <td>M</td>\n",
       "      <td>сотрудник</td>\n",
       "      <td>0</td>\n",
       "      <td>135823</td>\n",
       "      <td>образование</td>\n",
       "      <td>couple</td>\n",
       "    </tr>\n",
       "    <tr>\n",
       "      <td>8</td>\n",
       "      <td>2</td>\n",
       "      <td>6929</td>\n",
       "      <td>35</td>\n",
       "      <td>0</td>\n",
       "      <td>F</td>\n",
       "      <td>сотрудник</td>\n",
       "      <td>0</td>\n",
       "      <td>95856</td>\n",
       "      <td>на проведение свадьбы</td>\n",
       "      <td>couple</td>\n",
       "    </tr>\n",
       "    <tr>\n",
       "      <td>9</td>\n",
       "      <td>0</td>\n",
       "      <td>2188</td>\n",
       "      <td>41</td>\n",
       "      <td>1</td>\n",
       "      <td>M</td>\n",
       "      <td>сотрудник</td>\n",
       "      <td>0</td>\n",
       "      <td>144425</td>\n",
       "      <td>покупка жилья для семьи</td>\n",
       "      <td>couple</td>\n",
       "    </tr>\n",
       "    <tr>\n",
       "      <td>10</td>\n",
       "      <td>2</td>\n",
       "      <td>4171</td>\n",
       "      <td>36</td>\n",
       "      <td>0</td>\n",
       "      <td>M</td>\n",
       "      <td>компаньон</td>\n",
       "      <td>0</td>\n",
       "      <td>113943</td>\n",
       "      <td>покупка недвижимости</td>\n",
       "      <td>couple</td>\n",
       "    </tr>\n",
       "    <tr>\n",
       "      <td>11</td>\n",
       "      <td>0</td>\n",
       "      <td>792</td>\n",
       "      <td>40</td>\n",
       "      <td>1</td>\n",
       "      <td>F</td>\n",
       "      <td>сотрудник</td>\n",
       "      <td>0</td>\n",
       "      <td>77069</td>\n",
       "      <td>покупка коммерческой недвижимости</td>\n",
       "      <td>couple</td>\n",
       "    </tr>\n",
       "    <tr>\n",
       "      <td>12</td>\n",
       "      <td>0</td>\n",
       "      <td>2194</td>\n",
       "      <td>65</td>\n",
       "      <td>1</td>\n",
       "      <td>M</td>\n",
       "      <td>пенсионер</td>\n",
       "      <td>0</td>\n",
       "      <td>145017</td>\n",
       "      <td>сыграть свадьбу</td>\n",
       "      <td>couple</td>\n",
       "    </tr>\n",
       "    <tr>\n",
       "      <td>13</td>\n",
       "      <td>0</td>\n",
       "      <td>1846</td>\n",
       "      <td>54</td>\n",
       "      <td>2</td>\n",
       "      <td>F</td>\n",
       "      <td>сотрудник</td>\n",
       "      <td>0</td>\n",
       "      <td>130458</td>\n",
       "      <td>приобретение автомобиля</td>\n",
       "      <td>couple</td>\n",
       "    </tr>\n",
       "    <tr>\n",
       "      <td>14</td>\n",
       "      <td>0</td>\n",
       "      <td>1844</td>\n",
       "      <td>56</td>\n",
       "      <td>0</td>\n",
       "      <td>F</td>\n",
       "      <td>компаньон</td>\n",
       "      <td>1</td>\n",
       "      <td>165127</td>\n",
       "      <td>покупка жилой недвижимости</td>\n",
       "      <td>couple</td>\n",
       "    </tr>\n",
       "  </tbody>\n",
       "</table>\n",
       "</div>"
      ],
      "text/plain": [
       "    children  days_employed  dob_years  education_id gender income_type  debt  \\\n",
       "0          1           8437         42             0      F   сотрудник     0   \n",
       "1          1           4024         36             1      F   сотрудник     0   \n",
       "2          0           5623         33             1      M   сотрудник     0   \n",
       "3          3           4124         32             1      M   сотрудник     0   \n",
       "4          0         340266         53             1      F   пенсионер     0   \n",
       "5          0            926         27             0      M   компаньон     0   \n",
       "6          0           2879         43             0      F   компаньон     0   \n",
       "7          0            152         50             1      M   сотрудник     0   \n",
       "8          2           6929         35             0      F   сотрудник     0   \n",
       "9          0           2188         41             1      M   сотрудник     0   \n",
       "10         2           4171         36             0      M   компаньон     0   \n",
       "11         0            792         40             1      F   сотрудник     0   \n",
       "12         0           2194         65             1      M   пенсионер     0   \n",
       "13         0           1846         54             2      F   сотрудник     0   \n",
       "14         0           1844         56             0      F   компаньон     1   \n",
       "\n",
       "    total_income                            purpose category_family  \n",
       "0         253875                      покупка жилья          couple  \n",
       "1         112080            приобретение автомобиля          couple  \n",
       "2         145885                      покупка жилья          couple  \n",
       "3         267628         дополнительное образование          couple  \n",
       "4         158616                    сыграть свадьбу          couple  \n",
       "5         255763                      покупка жилья          couple  \n",
       "6         240525                  операции с жильем          couple  \n",
       "7         135823                        образование          couple  \n",
       "8          95856              на проведение свадьбы          couple  \n",
       "9         144425            покупка жилья для семьи          couple  \n",
       "10        113943               покупка недвижимости          couple  \n",
       "11         77069  покупка коммерческой недвижимости          couple  \n",
       "12        145017                    сыграть свадьбу          couple  \n",
       "13        130458            приобретение автомобиля          couple  \n",
       "14        165127         покупка жилой недвижимости          couple  "
      ]
     },
     "metadata": {},
     "output_type": "display_data"
    }
   ],
   "source": [
    "df = df.drop('family_status', axis = 1)\n",
    "df = df.drop('family_status_id', axis = 1)\n",
    "df = df.drop('education',axis = 1)\n",
    "display(df.head(15))"
   ]
  },
  {
   "cell_type": "markdown",
   "id": "1a0e157c",
   "metadata": {},
   "source": [
    "### Категоризация дохода."
   ]
  },
  {
   "cell_type": "markdown",
   "id": "44da51bc",
   "metadata": {},
   "source": [
    "Для столбца *'total_income'* попробуем провести категоризацию доходов. \n",
    "\n",
    "Для этого напишем функцию, которая назначает категории в зависимости от размера ежемесячного дохода:"
   ]
  },
  {
   "cell_type": "code",
   "execution_count": 44,
   "id": "86f8b7de",
   "metadata": {},
   "outputs": [],
   "source": [
    "def category_group(income):\n",
    "    if 0<=income<=30000:\n",
    "        return 'E'\n",
    "    if 30001<=income<=50000:\n",
    "        return 'D'\n",
    "    if 50001<=income<=200000:\n",
    "        return 'C'\n",
    "    if 200001<=income<=1000000:\n",
    "        return 'B'\n",
    "    return 'A'\n",
    "\n",
    "\n",
    "df['total_income_category']=df['total_income'].apply(category_group)#применим функцию к столбцам нашей таблицы \n",
    "#и создадим столбец выведенных категорий"
   ]
  },
  {
   "cell_type": "markdown",
   "id": "afcce7dc",
   "metadata": {},
   "source": [
    "Имея такую категоризацию, можно удалить из  таблицы столбец *'total_income'*:"
   ]
  },
  {
   "cell_type": "code",
   "execution_count": 45,
   "id": "507c6dbf",
   "metadata": {},
   "outputs": [
    {
     "data": {
      "text/html": [
       "<div>\n",
       "<style scoped>\n",
       "    .dataframe tbody tr th:only-of-type {\n",
       "        vertical-align: middle;\n",
       "    }\n",
       "\n",
       "    .dataframe tbody tr th {\n",
       "        vertical-align: top;\n",
       "    }\n",
       "\n",
       "    .dataframe thead th {\n",
       "        text-align: right;\n",
       "    }\n",
       "</style>\n",
       "<table border=\"1\" class=\"dataframe\">\n",
       "  <thead>\n",
       "    <tr style=\"text-align: right;\">\n",
       "      <th></th>\n",
       "      <th>children</th>\n",
       "      <th>days_employed</th>\n",
       "      <th>dob_years</th>\n",
       "      <th>education_id</th>\n",
       "      <th>gender</th>\n",
       "      <th>income_type</th>\n",
       "      <th>debt</th>\n",
       "      <th>purpose</th>\n",
       "      <th>category_family</th>\n",
       "      <th>total_income_category</th>\n",
       "    </tr>\n",
       "  </thead>\n",
       "  <tbody>\n",
       "    <tr>\n",
       "      <td>0</td>\n",
       "      <td>1</td>\n",
       "      <td>8437</td>\n",
       "      <td>42</td>\n",
       "      <td>0</td>\n",
       "      <td>F</td>\n",
       "      <td>сотрудник</td>\n",
       "      <td>0</td>\n",
       "      <td>покупка жилья</td>\n",
       "      <td>couple</td>\n",
       "      <td>B</td>\n",
       "    </tr>\n",
       "    <tr>\n",
       "      <td>1</td>\n",
       "      <td>1</td>\n",
       "      <td>4024</td>\n",
       "      <td>36</td>\n",
       "      <td>1</td>\n",
       "      <td>F</td>\n",
       "      <td>сотрудник</td>\n",
       "      <td>0</td>\n",
       "      <td>приобретение автомобиля</td>\n",
       "      <td>couple</td>\n",
       "      <td>C</td>\n",
       "    </tr>\n",
       "    <tr>\n",
       "      <td>2</td>\n",
       "      <td>0</td>\n",
       "      <td>5623</td>\n",
       "      <td>33</td>\n",
       "      <td>1</td>\n",
       "      <td>M</td>\n",
       "      <td>сотрудник</td>\n",
       "      <td>0</td>\n",
       "      <td>покупка жилья</td>\n",
       "      <td>couple</td>\n",
       "      <td>C</td>\n",
       "    </tr>\n",
       "    <tr>\n",
       "      <td>3</td>\n",
       "      <td>3</td>\n",
       "      <td>4124</td>\n",
       "      <td>32</td>\n",
       "      <td>1</td>\n",
       "      <td>M</td>\n",
       "      <td>сотрудник</td>\n",
       "      <td>0</td>\n",
       "      <td>дополнительное образование</td>\n",
       "      <td>couple</td>\n",
       "      <td>B</td>\n",
       "    </tr>\n",
       "    <tr>\n",
       "      <td>4</td>\n",
       "      <td>0</td>\n",
       "      <td>340266</td>\n",
       "      <td>53</td>\n",
       "      <td>1</td>\n",
       "      <td>F</td>\n",
       "      <td>пенсионер</td>\n",
       "      <td>0</td>\n",
       "      <td>сыграть свадьбу</td>\n",
       "      <td>couple</td>\n",
       "      <td>C</td>\n",
       "    </tr>\n",
       "  </tbody>\n",
       "</table>\n",
       "</div>"
      ],
      "text/plain": [
       "   children  days_employed  dob_years  education_id gender income_type  debt  \\\n",
       "0         1           8437         42             0      F   сотрудник     0   \n",
       "1         1           4024         36             1      F   сотрудник     0   \n",
       "2         0           5623         33             1      M   сотрудник     0   \n",
       "3         3           4124         32             1      M   сотрудник     0   \n",
       "4         0         340266         53             1      F   пенсионер     0   \n",
       "\n",
       "                      purpose category_family total_income_category  \n",
       "0               покупка жилья          couple                     B  \n",
       "1     приобретение автомобиля          couple                     C  \n",
       "2               покупка жилья          couple                     C  \n",
       "3  дополнительное образование          couple                     B  \n",
       "4             сыграть свадьбу          couple                     C  "
      ]
     },
     "metadata": {},
     "output_type": "display_data"
    }
   ],
   "source": [
    "df = df.drop('total_income',axis = 1)\n",
    "display(df.head(5))"
   ]
  },
  {
   "cell_type": "markdown",
   "id": "694e3e99",
   "metadata": {},
   "source": [
    "### Шаг 2.7. Категоризация целей кредита."
   ]
  },
  {
   "cell_type": "markdown",
   "id": "54ac2405",
   "metadata": {},
   "source": [
    "В соответствии с ранее выведенными уникальными значениями столбца *'purpose'*, так же проведем категоризацию целей кредита.\n",
    "\n",
    "Проанализировав список уникальных значений,напишем функцию, которая в зависимости от целей кредита присваивает ему определенную категорию:"
   ]
  },
  {
   "cell_type": "code",
   "execution_count": 46,
   "id": "4536de8d",
   "metadata": {},
   "outputs": [],
   "source": [
    "def purpose_group(purpose):\n",
    "        \n",
    "    if purpose.__contains__('авто'):\n",
    "        return 'операции с автомобилем' \n",
    "    if purpose.__contains__('образ'):\n",
    "        return 'получение образования' \n",
    "    if purpose.__contains__('жиль') or purpose.__contains__('недвиж'):\n",
    "        return 'операции с недвижимостью' \n",
    "    return 'проведение свадьбы'\n",
    "    \n",
    "df['purpose_category']=df['purpose'].apply(purpose_group)#применим функцию к столбцам нашей таблицы \n",
    "#и создадим столбец выведенных категорий"
   ]
  },
  {
   "cell_type": "markdown",
   "id": "8174c663",
   "metadata": {},
   "source": [
    "Имея такую категоризацию, можно удалить из  таблицы столбец *'purpose'*:"
   ]
  },
  {
   "cell_type": "code",
   "execution_count": 47,
   "id": "7568bb2c",
   "metadata": {},
   "outputs": [
    {
     "data": {
      "text/html": [
       "<div>\n",
       "<style scoped>\n",
       "    .dataframe tbody tr th:only-of-type {\n",
       "        vertical-align: middle;\n",
       "    }\n",
       "\n",
       "    .dataframe tbody tr th {\n",
       "        vertical-align: top;\n",
       "    }\n",
       "\n",
       "    .dataframe thead th {\n",
       "        text-align: right;\n",
       "    }\n",
       "</style>\n",
       "<table border=\"1\" class=\"dataframe\">\n",
       "  <thead>\n",
       "    <tr style=\"text-align: right;\">\n",
       "      <th></th>\n",
       "      <th>children</th>\n",
       "      <th>days_employed</th>\n",
       "      <th>dob_years</th>\n",
       "      <th>education_id</th>\n",
       "      <th>gender</th>\n",
       "      <th>income_type</th>\n",
       "      <th>debt</th>\n",
       "      <th>category_family</th>\n",
       "      <th>total_income_category</th>\n",
       "      <th>purpose_category</th>\n",
       "    </tr>\n",
       "  </thead>\n",
       "  <tbody>\n",
       "    <tr>\n",
       "      <td>0</td>\n",
       "      <td>1</td>\n",
       "      <td>8437</td>\n",
       "      <td>42</td>\n",
       "      <td>0</td>\n",
       "      <td>F</td>\n",
       "      <td>сотрудник</td>\n",
       "      <td>0</td>\n",
       "      <td>couple</td>\n",
       "      <td>B</td>\n",
       "      <td>операции с недвижимостью</td>\n",
       "    </tr>\n",
       "    <tr>\n",
       "      <td>1</td>\n",
       "      <td>1</td>\n",
       "      <td>4024</td>\n",
       "      <td>36</td>\n",
       "      <td>1</td>\n",
       "      <td>F</td>\n",
       "      <td>сотрудник</td>\n",
       "      <td>0</td>\n",
       "      <td>couple</td>\n",
       "      <td>C</td>\n",
       "      <td>операции с автомобилем</td>\n",
       "    </tr>\n",
       "    <tr>\n",
       "      <td>2</td>\n",
       "      <td>0</td>\n",
       "      <td>5623</td>\n",
       "      <td>33</td>\n",
       "      <td>1</td>\n",
       "      <td>M</td>\n",
       "      <td>сотрудник</td>\n",
       "      <td>0</td>\n",
       "      <td>couple</td>\n",
       "      <td>C</td>\n",
       "      <td>операции с недвижимостью</td>\n",
       "    </tr>\n",
       "    <tr>\n",
       "      <td>3</td>\n",
       "      <td>3</td>\n",
       "      <td>4124</td>\n",
       "      <td>32</td>\n",
       "      <td>1</td>\n",
       "      <td>M</td>\n",
       "      <td>сотрудник</td>\n",
       "      <td>0</td>\n",
       "      <td>couple</td>\n",
       "      <td>B</td>\n",
       "      <td>получение образования</td>\n",
       "    </tr>\n",
       "    <tr>\n",
       "      <td>4</td>\n",
       "      <td>0</td>\n",
       "      <td>340266</td>\n",
       "      <td>53</td>\n",
       "      <td>1</td>\n",
       "      <td>F</td>\n",
       "      <td>пенсионер</td>\n",
       "      <td>0</td>\n",
       "      <td>couple</td>\n",
       "      <td>C</td>\n",
       "      <td>проведение свадьбы</td>\n",
       "    </tr>\n",
       "  </tbody>\n",
       "</table>\n",
       "</div>"
      ],
      "text/plain": [
       "   children  days_employed  dob_years  education_id gender income_type  debt  \\\n",
       "0         1           8437         42             0      F   сотрудник     0   \n",
       "1         1           4024         36             1      F   сотрудник     0   \n",
       "2         0           5623         33             1      M   сотрудник     0   \n",
       "3         3           4124         32             1      M   сотрудник     0   \n",
       "4         0         340266         53             1      F   пенсионер     0   \n",
       "\n",
       "  category_family total_income_category          purpose_category  \n",
       "0          couple                     B  операции с недвижимостью  \n",
       "1          couple                     C    операции с автомобилем  \n",
       "2          couple                     C  операции с недвижимостью  \n",
       "3          couple                     B     получение образования  \n",
       "4          couple                     C        проведение свадьбы  "
      ]
     },
     "metadata": {},
     "output_type": "display_data"
    }
   ],
   "source": [
    "df = df.drop('purpose',axis = 1)\n",
    "display(df.head(5))"
   ]
  },
  {
   "cell_type": "markdown",
   "id": "8e231718",
   "metadata": {},
   "source": [
    "**Выводы**\n",
    "\n",
    "В конечном итоге мы получили таблицу, в которой выделены категории по нескольким параметрам. \n",
    "\n",
    "Теперь таблица удобна для более глубокого анализа."
   ]
  },
  {
   "cell_type": "code",
   "execution_count": 95,
   "id": "082124d2",
   "metadata": {},
   "outputs": [],
   "source": [
    "#children = df.groupby(by = 'children')['debt'].count()\n",
    "#display(children)\n",
    "#важно еще проверить, снижается ли количество заемщиков в зависимости от увеличения количества детей"
   ]
  },
  {
   "cell_type": "markdown",
   "id": "2db9b836",
   "metadata": {},
   "source": [
    "## Проверка гипотез\n"
   ]
  },
  {
   "cell_type": "markdown",
   "id": "fc630db0",
   "metadata": {},
   "source": [
    "### Влияние  детей на наличие задолженности по выплате кредита"
   ]
  },
  {
   "cell_type": "markdown",
   "id": "9ef1a68b",
   "metadata": {},
   "source": [
    "Проверим, как влияет наличие детей на наличие задолженности по выплате кредитов. \n",
    "\n",
    "Для этого проведем анализ по двум параметрам: наличие детей и наличие задолженности:"
   ]
  },
  {
   "cell_type": "code",
   "execution_count": 30,
   "id": "5518e0ed",
   "metadata": {},
   "outputs": [
    {
     "name": "stdout",
     "output_type": "stream",
     "text": [
      "           sum                      count                              mean  \\\n",
      "children     0    1    2   3  4  5      0     1     2    3   4  5         0   \n",
      "debt      1063  445  194  27  4  0  14090  4855  2052  330  41  9  0.075444   \n",
      "\n",
      "                                                       \n",
      "children         1         2         3         4    5  \n",
      "debt      0.091658  0.094542  0.081818  0.097561  0.0  \n"
     ]
    }
   ],
   "source": [
    "df_pivot = df.pivot_table(columns='children', values='debt', aggfunc=['sum','count','mean'])\n",
    "print(df_pivot)"
   ]
  },
  {
   "cell_type": "markdown",
   "id": "66d2d997",
   "metadata": {},
   "source": [
    "Из сводной талицы видно, что большая часть задолженностей приходится на заемщиков, которые не имеют детей."
   ]
  },
  {
   "cell_type": "markdown",
   "id": "99eb3f85",
   "metadata": {},
   "source": [
    "Проверим долю должников БЕЗ ДЕТЕЙ среди всех должников:"
   ]
  },
  {
   "cell_type": "code",
   "execution_count": 150,
   "id": "14cbe6d0",
   "metadata": {},
   "outputs": [
    {
     "name": "stdout",
     "output_type": "stream",
     "text": [
      "Доля заемщиков БЕЗ ДЕТЕЙ, которые имеют задолженность: 61.34%\n"
     ]
    }
   ],
   "source": [
    "all_debt = df[df['debt']==1]['debt'].count()#посчитали общее количесвто должников\n",
    "print(f'Доля заемщиков БЕЗ ДЕТЕЙ, которые имеют задолженность: {1063/all_debt:.2%}')"
   ]
  },
  {
   "cell_type": "markdown",
   "id": "e1e6b151",
   "metadata": {},
   "source": [
    "**Из анализа видно, что 61% всех заемщиков, которые имеют задолженность по выплатам кредита, - это семьи без детей!!!**"
   ]
  },
  {
   "cell_type": "code",
   "execution_count": 38,
   "id": "26b79dde",
   "metadata": {},
   "outputs": [
    {
     "data": {
      "text/html": [
       "<div>\n",
       "<style scoped>\n",
       "    .dataframe tbody tr th:only-of-type {\n",
       "        vertical-align: middle;\n",
       "    }\n",
       "\n",
       "    .dataframe tbody tr th {\n",
       "        vertical-align: top;\n",
       "    }\n",
       "\n",
       "    .dataframe thead tr th {\n",
       "        text-align: left;\n",
       "    }\n",
       "\n",
       "    .dataframe thead tr:last-of-type th {\n",
       "        text-align: right;\n",
       "    }\n",
       "</style>\n",
       "<table border=\"1\" class=\"dataframe\">\n",
       "  <thead>\n",
       "    <tr>\n",
       "      <th></th>\n",
       "      <th>sum</th>\n",
       "      <th>count</th>\n",
       "      <th>mean</th>\n",
       "    </tr>\n",
       "    <tr>\n",
       "      <th></th>\n",
       "      <th>debt</th>\n",
       "      <th>debt</th>\n",
       "      <th>debt</th>\n",
       "    </tr>\n",
       "    <tr>\n",
       "      <th>children</th>\n",
       "      <th></th>\n",
       "      <th></th>\n",
       "      <th></th>\n",
       "    </tr>\n",
       "  </thead>\n",
       "  <tbody>\n",
       "    <tr>\n",
       "      <td>0</td>\n",
       "      <td>1063</td>\n",
       "      <td>14090</td>\n",
       "      <td>0.075444</td>\n",
       "    </tr>\n",
       "    <tr>\n",
       "      <td>1</td>\n",
       "      <td>445</td>\n",
       "      <td>4855</td>\n",
       "      <td>0.091658</td>\n",
       "    </tr>\n",
       "    <tr>\n",
       "      <td>2</td>\n",
       "      <td>194</td>\n",
       "      <td>2052</td>\n",
       "      <td>0.094542</td>\n",
       "    </tr>\n",
       "    <tr>\n",
       "      <td>3</td>\n",
       "      <td>27</td>\n",
       "      <td>330</td>\n",
       "      <td>0.081818</td>\n",
       "    </tr>\n",
       "    <tr>\n",
       "      <td>4</td>\n",
       "      <td>4</td>\n",
       "      <td>41</td>\n",
       "      <td>0.097561</td>\n",
       "    </tr>\n",
       "    <tr>\n",
       "      <td>5</td>\n",
       "      <td>0</td>\n",
       "      <td>9</td>\n",
       "      <td>0.000000</td>\n",
       "    </tr>\n",
       "  </tbody>\n",
       "</table>\n",
       "</div>"
      ],
      "text/plain": [
       "           sum  count      mean\n",
       "          debt   debt      debt\n",
       "children                       \n",
       "0         1063  14090  0.075444\n",
       "1          445   4855  0.091658\n",
       "2          194   2052  0.094542\n",
       "3           27    330  0.081818\n",
       "4            4     41  0.097561\n",
       "5            0      9  0.000000"
      ]
     },
     "execution_count": 38,
     "metadata": {},
     "output_type": "execute_result"
    }
   ],
   "source": [
    "df.pivot_table(index = 'children', values='debt', aggfunc=['sum','count','mean'])"
   ]
  },
  {
   "cell_type": "markdown",
   "id": "70cbb587",
   "metadata": {},
   "source": [
    "### Влияние  семейного положения на наличие задолженности по выплате кредита\n"
   ]
  },
  {
   "cell_type": "markdown",
   "id": "52aef076",
   "metadata": {},
   "source": [
    "Проверим, как влияет семейное положение на наличие задолженности по выплате кредитов.\n",
    "\n",
    "Проведем анализ по двум параметрам: семейное положение и наличие задолженности:"
   ]
  },
  {
   "cell_type": "code",
   "execution_count": 155,
   "id": "f3b7c1e0",
   "metadata": {},
   "outputs": [
    {
     "name": "stdout",
     "output_type": "stream",
     "text": [
      "                   sum         count             mean          \n",
      "category_family couple single couple single    couple    single\n",
      "debt              1313    420  16428   4949  0.079925  0.084866\n"
     ]
    }
   ],
   "source": [
    "df_pivot = df.pivot_table(columns='category_family', values='debt', aggfunc=['sum','count','mean'])\n",
    "print(df_pivot)"
   ]
  },
  {
   "cell_type": "markdown",
   "id": "09ac42a5",
   "metadata": {},
   "source": [
    "Из сводной талицы видно, что большая часть задолженностей приходится на неодиноких заемщиков."
   ]
  },
  {
   "cell_type": "markdown",
   "id": "8c542b79",
   "metadata": {},
   "source": [
    "Проверим долю НЕОДИНОКИХ должников  среди всех должников:"
   ]
  },
  {
   "cell_type": "code",
   "execution_count": 168,
   "id": "40ef3feb",
   "metadata": {},
   "outputs": [
    {
     "name": "stdout",
     "output_type": "stream",
     "text": [
      "Доля НЕОДИНОКИХ заемщиков, которые имеют задолженность: 75.76%\n"
     ]
    }
   ],
   "source": [
    "all_debt = df[df['debt']==1]['debt'].count()#посчитали общее количесвто должников\n",
    "print(f'Доля НЕОДИНОКИХ заемщиков, которые имеют задолженность: {1313/all_debt:.2%}')"
   ]
  },
  {
   "cell_type": "markdown",
   "id": "74435736",
   "metadata": {},
   "source": [
    "**Из анализа видно, что 75% заемщиков, которые имеют задолженность по выплатам кредита, это неодинокие заемщики!**"
   ]
  },
  {
   "cell_type": "code",
   "execution_count": 274,
   "id": "193676c8",
   "metadata": {},
   "outputs": [],
   "source": [
    "#family_status = df.groupby(by = 'category_family')['debt'].count()\n",
    "#display(family_status)\n",
    "#важно еще проверить, снижается ли количество заемщиков в зависимости от семейного статуса"
   ]
  },
  {
   "cell_type": "markdown",
   "id": "e46c5ea7",
   "metadata": {},
   "source": [
    "### Влияние уровня дохода на наличие задолженности по выплате кредита\n"
   ]
  },
  {
   "cell_type": "code",
   "execution_count": 164,
   "id": "2e0e4dab",
   "metadata": {},
   "outputs": [
    {
     "name": "stdout",
     "output_type": "stream",
     "text": [
      "                      sum                   count                        mean  \\\n",
      "total_income_category   A    B     C   D  E     A     B      C    D   E     A   \n",
      "debt                    2  354  1354  21  2    25  5020  15960  350  22  0.08   \n",
      "\n",
      "                                                           \n",
      "total_income_category         B         C     D         E  \n",
      "debt                   0.070518  0.084837  0.06  0.090909  \n"
     ]
    }
   ],
   "source": [
    "df_pivot = df.pivot_table(columns='total_income_category', values='debt', aggfunc=['sum','count','mean'])\n",
    "print(df_pivot)"
   ]
  },
  {
   "cell_type": "markdown",
   "id": "2c2bfa63",
   "metadata": {},
   "source": [
    "Из сводной талицы видно, что большая часть задолженностей приходится на заемщиков с доходом 50-200 тысяч рублей."
   ]
  },
  {
   "cell_type": "markdown",
   "id": "fa809167",
   "metadata": {},
   "source": [
    "Проверим долю должников с доходом 50-200 тыс руб среди всех должников:\n"
   ]
  },
  {
   "cell_type": "code",
   "execution_count": 171,
   "id": "b52d032a",
   "metadata": {},
   "outputs": [
    {
     "name": "stdout",
     "output_type": "stream",
     "text": [
      "Доля заемщиков СО СРЕДНИМ ДОХОДОМ 50-200 ТЫС РУБ, которые имеют задолженность: 78.13%\n"
     ]
    }
   ],
   "source": [
    "all_debt = df[df['debt']==1]['debt'].count()#посчитали общее количесвто должников\n",
    "print(f'Доля заемщиков СО СРЕДНИМ ДОХОДОМ 50-200 ТЫС РУБ, которые имеют задолженность: {1354/all_debt:.2%}')"
   ]
  },
  {
   "cell_type": "markdown",
   "id": "e482c6fe",
   "metadata": {},
   "source": [
    "**Из анализа видно, что 78% заемщиков, которые имеют задолженность по выплатам кредита, это заемщики с доходом 50-200 тысяч рублей!**"
   ]
  },
  {
   "cell_type": "code",
   "execution_count": 278,
   "id": "edf028f9",
   "metadata": {},
   "outputs": [],
   "source": [
    "#income_status = df.groupby(by = 'total_income_category')['debt'].count()\n",
    "#display(income_status)\n",
    "#важно еще проверить, снижается ли количество заемщиков в зависимости от уровня дохода"
   ]
  },
  {
   "cell_type": "code",
   "execution_count": 277,
   "id": "056af7fa",
   "metadata": {},
   "outputs": [
    {
     "data": {
      "text/plain": [
       "purpose_category\n",
       "операции с автомобилем       4292\n",
       "операции с недвижимостью    10778\n",
       "получение образования        3999\n",
       "проведение свадьбы           2326\n",
       "Name: debt, dtype: int64"
      ]
     },
     "metadata": {},
     "output_type": "display_data"
    }
   ],
   "source": [
    "purpose_status = df.groupby(by = 'purpose_category')['debt'].count()\n",
    "display(purpose_status)\n",
    "#важно еще проверить, снижается ли количество заемщиков в зависимости от семейного статуса"
   ]
  },
  {
   "cell_type": "markdown",
   "id": "b10d593e",
   "metadata": {},
   "source": [
    "### Влияние целей кредита на наличие задолженности по выплате \n"
   ]
  },
  {
   "cell_type": "code",
   "execution_count": 166,
   "id": "f4460c63",
   "metadata": {},
   "outputs": [
    {
     "name": "stdout",
     "output_type": "stream",
     "text": [
      "                                    sum                           \\\n",
      "purpose_category операции с автомобилем операции с недвижимостью   \n",
      "debt                                401                      780   \n",
      "\n",
      "                                                           \\\n",
      "purpose_category получение образования проведение свадьбы   \n",
      "debt                               369                183   \n",
      "\n",
      "                                  count                           \\\n",
      "purpose_category операции с автомобилем операции с недвижимостью   \n",
      "debt                               4290                    10774   \n",
      "\n",
      "                                                           \\\n",
      "purpose_category получение образования проведение свадьбы   \n",
      "debt                              3998               2315   \n",
      "\n",
      "                                   mean                           \\\n",
      "purpose_category операции с автомобилем операции с недвижимостью   \n",
      "debt                           0.093473                 0.072397   \n",
      "\n",
      "                                                           \n",
      "purpose_category получение образования проведение свадьбы  \n",
      "debt                          0.092296            0.07905  \n"
     ]
    }
   ],
   "source": [
    "df_pivot = df.pivot_table(columns='purpose_category', values='debt', aggfunc=['sum','count','mean'])\n",
    "print(df_pivot)"
   ]
  },
  {
   "cell_type": "markdown",
   "id": "23939fff",
   "metadata": {},
   "source": [
    "Из сводной талицы видно, что большая часть задолженностей приходится на заемщиков с кредитом на жилье."
   ]
  },
  {
   "cell_type": "markdown",
   "id": "c7daa65d",
   "metadata": {},
   "source": [
    "Проверим долю должников с жилищным кредитом среди всех должников:\n"
   ]
  },
  {
   "cell_type": "code",
   "execution_count": 172,
   "id": "cb6d45e5",
   "metadata": {},
   "outputs": [
    {
     "name": "stdout",
     "output_type": "stream",
     "text": [
      "Доля заемщиков ПО КРЕДИТУ НА ЖИЛЬЕ, которые имеют задолженность: 45.01%\n"
     ]
    }
   ],
   "source": [
    "all_debt = df[df['debt']==1]['debt'].count()#посчитали общее количесвто должников\n",
    "print(f'Доля заемщиков ПО КРЕДИТУ НА ЖИЛЬЕ, которые имеют задолженность: {780/all_debt:.2%}')"
   ]
  },
  {
   "cell_type": "markdown",
   "id": "efde413a",
   "metadata": {},
   "source": [
    "**Из анализа видно, что 45% заемщиков, которые имеют задолженность по выплатам кредита, это заемщики по кредиту на жилье.**"
   ]
  },
  {
   "cell_type": "code",
   "execution_count": 48,
   "id": "87fe6795",
   "metadata": {},
   "outputs": [
    {
     "data": {
      "text/html": [
       "<div>\n",
       "<style scoped>\n",
       "    .dataframe tbody tr th:only-of-type {\n",
       "        vertical-align: middle;\n",
       "    }\n",
       "\n",
       "    .dataframe tbody tr th {\n",
       "        vertical-align: top;\n",
       "    }\n",
       "\n",
       "    .dataframe thead tr th {\n",
       "        text-align: left;\n",
       "    }\n",
       "\n",
       "    .dataframe thead tr:last-of-type th {\n",
       "        text-align: right;\n",
       "    }\n",
       "</style>\n",
       "<table border=\"1\" class=\"dataframe\">\n",
       "  <thead>\n",
       "    <tr>\n",
       "      <th></th>\n",
       "      <th>sum</th>\n",
       "      <th>count</th>\n",
       "      <th>mean</th>\n",
       "    </tr>\n",
       "    <tr>\n",
       "      <th></th>\n",
       "      <th>debt</th>\n",
       "      <th>debt</th>\n",
       "      <th>debt</th>\n",
       "    </tr>\n",
       "    <tr>\n",
       "      <th>purpose_category</th>\n",
       "      <th></th>\n",
       "      <th></th>\n",
       "      <th></th>\n",
       "    </tr>\n",
       "  </thead>\n",
       "  <tbody>\n",
       "    <tr>\n",
       "      <td>операции с автомобилем</td>\n",
       "      <td>401</td>\n",
       "      <td>4290</td>\n",
       "      <td>0.093473</td>\n",
       "    </tr>\n",
       "    <tr>\n",
       "      <td>операции с недвижимостью</td>\n",
       "      <td>780</td>\n",
       "      <td>10774</td>\n",
       "      <td>0.072397</td>\n",
       "    </tr>\n",
       "    <tr>\n",
       "      <td>получение образования</td>\n",
       "      <td>369</td>\n",
       "      <td>3998</td>\n",
       "      <td>0.092296</td>\n",
       "    </tr>\n",
       "    <tr>\n",
       "      <td>проведение свадьбы</td>\n",
       "      <td>183</td>\n",
       "      <td>2315</td>\n",
       "      <td>0.079050</td>\n",
       "    </tr>\n",
       "  </tbody>\n",
       "</table>\n",
       "</div>"
      ],
      "text/plain": [
       "                          sum  count      mean\n",
       "                         debt   debt      debt\n",
       "purpose_category                              \n",
       "операции с автомобилем    401   4290  0.093473\n",
       "операции с недвижимостью  780  10774  0.072397\n",
       "получение образования     369   3998  0.092296\n",
       "проведение свадьбы        183   2315  0.079050"
      ]
     },
     "execution_count": 48,
     "metadata": {},
     "output_type": "execute_result"
    }
   ],
   "source": [
    "df.pivot_table(index='purpose_category', values='debt', aggfunc=['sum','count','mean'])"
   ]
  },
  {
   "cell_type": "markdown",
   "id": "155837c4",
   "metadata": {},
   "source": [
    "### Ответы на вопросы."
   ]
  },
  {
   "cell_type": "markdown",
   "id": "7d4e7444",
   "metadata": {},
   "source": [
    "##### Вопрос 1:"
   ]
  },
  {
   "cell_type": "markdown",
   "id": "64262c22",
   "metadata": {},
   "source": [
    "Есть ли зависимость между количеством детей и возвратом кредита в срок?"
   ]
  },
  {
   "cell_type": "markdown",
   "id": "60fde650",
   "metadata": {},
   "source": [
    "##### Вывод 1:"
   ]
  },
  {
   "cell_type": "markdown",
   "id": "56dcbe93",
   "metadata": {},
   "source": [
    "Заметна зависимость между показателями количества детей и возврата кредита в срок: больше всего заемщиков среди бездетных заемщиков. \n",
    "\n",
    "С ростом количества детей показатель снижается - чем больше детей, тем меньше процент должников. \n",
    "\n",
    "Однако стоит отметить, что с ростом количества детей количество заемщиков ПАДАЕТ, что так же сказывается на выводе!"
   ]
  },
  {
   "cell_type": "markdown",
   "id": "9e6f825e",
   "metadata": {},
   "source": [
    "##### Вопрос 2:"
   ]
  },
  {
   "cell_type": "markdown",
   "id": "6e881c75",
   "metadata": {},
   "source": [
    "Есть ли зависимость между семейным положением и возвратом кредита в срок?"
   ]
  },
  {
   "cell_type": "markdown",
   "id": "31cbfbf0",
   "metadata": {},
   "source": [
    "##### Вывод 2:"
   ]
  },
  {
   "cell_type": "markdown",
   "id": "760dd79f",
   "metadata": {},
   "source": [
    "Определенно найдена зависимость - больше заемщиков, которые имеют задолженность по выплатам кредита, это неодинокие заемщики!!!\n",
    "\n",
    "Однако стоит отметить, что с неодиноких заемщиков меньше, что так же сказывается на выводе!"
   ]
  },
  {
   "cell_type": "markdown",
   "id": "06bf533d",
   "metadata": {},
   "source": [
    "##### Вопрос 3:"
   ]
  },
  {
   "cell_type": "markdown",
   "id": "80b92a19",
   "metadata": {},
   "source": [
    "Есть ли зависимость между уровнем дохода и возвратом кредита в срок?"
   ]
  },
  {
   "cell_type": "markdown",
   "id": "f4f66e3e",
   "metadata": {},
   "source": [
    "##### Вывод 3:"
   ]
  },
  {
   "cell_type": "markdown",
   "id": "19e6a6f9",
   "metadata": {},
   "source": [
    "Определенно найдена зависимость - больше заемщиков, которые имеют задолженность по выплатам кредита, это заемщики со средним уровнем дохода!!!\n",
    "\n",
    "Однако стоит отметить, что  таких заемщиков гораздо больше, что так же сказывается на выводе!"
   ]
  },
  {
   "cell_type": "markdown",
   "id": "ebacb97c",
   "metadata": {},
   "source": [
    "##### Вопрос 4:"
   ]
  },
  {
   "cell_type": "markdown",
   "id": "71d7e15c",
   "metadata": {},
   "source": [
    "Есть ли зависимость между целями кредита и возвратом кредита в срок?"
   ]
  },
  {
   "cell_type": "markdown",
   "id": "86a38d53",
   "metadata": {},
   "source": [
    "##### Вывод 4:"
   ]
  },
  {
   "cell_type": "markdown",
   "id": "253c2976",
   "metadata": {},
   "source": [
    "Определенно найдена зависимость - больше заемщиков имеют задолженность по выплатам кредита на жилье.\n",
    "\n",
    "Однако стоит отметить, что  таких заемщиков гораздо больше, что так же сказывается на выводе!"
   ]
  },
  {
   "cell_type": "markdown",
   "id": "4ddda00d",
   "metadata": {},
   "source": [
    "## Общий вывод:"
   ]
  },
  {
   "cell_type": "markdown",
   "id": "0064213e",
   "metadata": {},
   "source": [
    "Согласно представленным входным данным проведен анализ базы заемщиков. \n",
    "\n",
    "Для начала был выявлен ряд несоответствий, пропуски данных, неверные значения и тд. Такие моменты были устранены. \n",
    "\n",
    "Далее проверили несколько гипотез и установили:\n",
    "\n",
    "1. На возврат кредита в срок влияют:\n",
    "- наличие детей и их количество;\n",
    "- семейное положение;\n",
    "- уровень дохода;\n",
    "- цель кредита.\n",
    "\n",
    "Кредитному отделу банка рекомендуется обращать внимание на наличие детей, тк задолженность по кредиту чаще встречается у семей без детей. \n",
    "\n",
    "Также более привлекательны в качестве заемщиков одинокие люди. \n",
    "\n",
    "Заемщики со средним уровнем дохода в любом случае будут чаще выступать должниками. \n",
    "\n",
    "А кредиты на жилье не выплачиваются чаще остальных.\n",
    "\n",
    "При рассмотрении кредитным отделом банка привлекательности клиента-заемщика рекомендуется учитывать данные выводы и включить их в оценку способности потенциального заёмщика вернуть кредит банку (как вариант предлагать разные программы кредитования для разных категорий заемщкиов и программы кредитования). \n",
    "\n",
    "\n",
    "Дополнительно стоит отметить, что анализ проводился на разном количестве заемщиков с теми или иными параметрами. Для более точного вывода можно провести анализ на одинаковом количестве заемщиков (например, 1500 заемщиков без детей и 1500 заемщиков с 1/2/3 детьми), что будет более показательным для построения модели кредитного скоринга."
   ]
  }
 ],
 "metadata": {
  "ExecuteTimeLog": [
   {
    "duration": 280,
    "start_time": "2022-02-21T03:12:11.882Z"
   },
   {
    "duration": 632,
    "start_time": "2022-02-21T03:12:57.413Z"
   },
   {
    "duration": 54,
    "start_time": "2022-02-21T03:12:58.047Z"
   },
   {
    "duration": 48,
    "start_time": "2022-02-21T03:13:04.790Z"
   },
   {
    "duration": 28,
    "start_time": "2022-02-21T03:13:22.590Z"
   },
   {
    "duration": 13,
    "start_time": "2022-02-21T03:14:50.374Z"
   },
   {
    "duration": 14,
    "start_time": "2022-02-21T03:20:33.959Z"
   },
   {
    "duration": 3,
    "start_time": "2022-02-21T03:28:19.894Z"
   },
   {
    "duration": 11,
    "start_time": "2022-02-21T03:28:22.272Z"
   },
   {
    "duration": 4,
    "start_time": "2022-02-21T03:28:23.168Z"
   },
   {
    "duration": 14,
    "start_time": "2022-02-21T03:29:10.007Z"
   },
   {
    "duration": 12,
    "start_time": "2022-02-21T03:29:22.288Z"
   },
   {
    "duration": 2,
    "start_time": "2022-02-21T03:29:32.784Z"
   },
   {
    "duration": 42,
    "start_time": "2022-02-21T03:29:33.104Z"
   },
   {
    "duration": 13,
    "start_time": "2022-02-21T03:29:33.421Z"
   },
   {
    "duration": 12,
    "start_time": "2022-02-21T03:29:34.592Z"
   },
   {
    "duration": 4,
    "start_time": "2022-02-21T03:29:37.279Z"
   },
   {
    "duration": 230,
    "start_time": "2022-02-21T03:29:38.823Z"
   },
   {
    "duration": 13,
    "start_time": "2022-02-21T03:29:40.881Z"
   },
   {
    "duration": 10,
    "start_time": "2022-02-21T03:29:50.992Z"
   },
   {
    "duration": 211,
    "start_time": "2022-02-21T03:30:08.848Z"
   },
   {
    "duration": 3,
    "start_time": "2022-02-21T03:45:19.735Z"
   },
   {
    "duration": 268,
    "start_time": "2022-02-21T03:45:25.001Z"
   },
   {
    "duration": 3,
    "start_time": "2022-02-21T03:45:35.218Z"
   },
   {
    "duration": 4,
    "start_time": "2022-02-21T03:45:45.282Z"
   },
   {
    "duration": 4,
    "start_time": "2022-02-21T03:46:00.530Z"
   },
   {
    "duration": 4,
    "start_time": "2022-02-21T03:46:01.882Z"
   },
   {
    "duration": 7,
    "start_time": "2022-02-21T03:46:03.353Z"
   },
   {
    "duration": 3,
    "start_time": "2022-02-21T03:46:08.113Z"
   },
   {
    "duration": 203,
    "start_time": "2022-02-21T03:46:08.873Z"
   },
   {
    "duration": 4,
    "start_time": "2022-02-21T03:46:24.809Z"
   },
   {
    "duration": 13,
    "start_time": "2022-02-21T03:46:26.666Z"
   },
   {
    "duration": 24,
    "start_time": "2022-02-21T03:46:43.578Z"
   },
   {
    "duration": 13,
    "start_time": "2022-02-21T03:47:01.227Z"
   },
   {
    "duration": 12,
    "start_time": "2022-02-21T03:47:01.953Z"
   },
   {
    "duration": 4,
    "start_time": "2022-02-21T03:49:17.962Z"
   },
   {
    "duration": 4,
    "start_time": "2022-02-21T03:49:18.457Z"
   },
   {
    "duration": 5,
    "start_time": "2022-02-21T03:49:19.090Z"
   },
   {
    "duration": 4,
    "start_time": "2022-02-21T03:49:20.778Z"
   },
   {
    "duration": 3,
    "start_time": "2022-02-21T03:49:21.538Z"
   },
   {
    "duration": 12,
    "start_time": "2022-02-21T03:49:22.323Z"
   },
   {
    "duration": 12,
    "start_time": "2022-02-21T03:49:27.402Z"
   },
   {
    "duration": 15,
    "start_time": "2022-02-21T03:50:52.642Z"
   },
   {
    "duration": 213,
    "start_time": "2022-02-21T03:51:13.971Z"
   },
   {
    "duration": 5,
    "start_time": "2022-02-21T03:51:28.714Z"
   },
   {
    "duration": 4,
    "start_time": "2022-02-21T03:51:36.459Z"
   },
   {
    "duration": 3,
    "start_time": "2022-02-21T03:51:41.259Z"
   },
   {
    "duration": 3,
    "start_time": "2022-02-21T03:51:41.915Z"
   },
   {
    "duration": 44,
    "start_time": "2022-02-21T03:51:42.322Z"
   },
   {
    "duration": 14,
    "start_time": "2022-02-21T03:51:42.682Z"
   },
   {
    "duration": 11,
    "start_time": "2022-02-21T03:51:43.299Z"
   },
   {
    "duration": 5,
    "start_time": "2022-02-21T03:51:45.722Z"
   },
   {
    "duration": 5,
    "start_time": "2022-02-21T03:52:05.596Z"
   },
   {
    "duration": 5,
    "start_time": "2022-02-21T03:53:21.139Z"
   },
   {
    "duration": 5,
    "start_time": "2022-02-21T03:53:27.067Z"
   },
   {
    "duration": 5,
    "start_time": "2022-02-21T03:53:35.035Z"
   },
   {
    "duration": 6,
    "start_time": "2022-02-21T03:54:49.132Z"
   },
   {
    "duration": 6,
    "start_time": "2022-02-21T03:54:56.002Z"
   },
   {
    "duration": 68,
    "start_time": "2022-02-21T03:55:16.427Z"
   },
   {
    "duration": 5,
    "start_time": "2022-02-21T03:55:27.003Z"
   },
   {
    "duration": 5,
    "start_time": "2022-02-21T03:55:58.628Z"
   },
   {
    "duration": 5,
    "start_time": "2022-02-21T03:56:03.028Z"
   },
   {
    "duration": 5,
    "start_time": "2022-02-21T03:56:12.994Z"
   },
   {
    "duration": 4,
    "start_time": "2022-02-21T03:56:44.251Z"
   },
   {
    "duration": 3,
    "start_time": "2022-02-21T03:56:55.724Z"
   },
   {
    "duration": 5,
    "start_time": "2022-02-21T03:57:01.435Z"
   },
   {
    "duration": 4,
    "start_time": "2022-02-21T03:57:07.027Z"
   },
   {
    "duration": 5,
    "start_time": "2022-02-21T03:57:12.540Z"
   },
   {
    "duration": 6,
    "start_time": "2022-02-21T03:57:27.499Z"
   },
   {
    "duration": 71,
    "start_time": "2022-02-21T03:57:51.020Z"
   },
   {
    "duration": 5,
    "start_time": "2022-02-21T03:58:00.469Z"
   },
   {
    "duration": 5,
    "start_time": "2022-02-21T03:58:07.748Z"
   },
   {
    "duration": 4,
    "start_time": "2022-02-21T03:58:35.139Z"
   },
   {
    "duration": 5,
    "start_time": "2022-02-21T03:59:41.028Z"
   },
   {
    "duration": 4,
    "start_time": "2022-02-21T04:03:28.444Z"
   },
   {
    "duration": 4,
    "start_time": "2022-02-21T04:03:29.564Z"
   },
   {
    "duration": 13,
    "start_time": "2022-02-21T04:03:52.923Z"
   },
   {
    "duration": 9,
    "start_time": "2022-02-21T04:04:02.437Z"
   },
   {
    "duration": 201,
    "start_time": "2022-02-21T04:04:11.164Z"
   },
   {
    "duration": 5,
    "start_time": "2022-02-21T04:04:39.444Z"
   },
   {
    "duration": 5,
    "start_time": "2022-02-21T04:04:41.019Z"
   },
   {
    "duration": 4,
    "start_time": "2022-02-21T04:04:41.484Z"
   },
   {
    "duration": 4,
    "start_time": "2022-02-21T04:04:42.251Z"
   },
   {
    "duration": 13,
    "start_time": "2022-02-21T04:04:46.012Z"
   },
   {
    "duration": 6,
    "start_time": "2022-02-21T04:04:46.436Z"
   },
   {
    "duration": 5,
    "start_time": "2022-02-21T04:04:47.348Z"
   },
   {
    "duration": 5,
    "start_time": "2022-02-21T04:04:47.884Z"
   },
   {
    "duration": 9,
    "start_time": "2022-02-21T04:04:49.044Z"
   },
   {
    "duration": 14,
    "start_time": "2022-02-21T04:04:59.869Z"
   },
   {
    "duration": 5,
    "start_time": "2022-02-21T04:06:28.462Z"
   },
   {
    "duration": 12,
    "start_time": "2022-02-21T04:06:33.104Z"
   },
   {
    "duration": 3,
    "start_time": "2022-02-21T04:06:36.004Z"
   },
   {
    "duration": 49,
    "start_time": "2022-02-21T04:06:36.333Z"
   },
   {
    "duration": 14,
    "start_time": "2022-02-21T04:06:36.579Z"
   },
   {
    "duration": 11,
    "start_time": "2022-02-21T04:06:36.941Z"
   },
   {
    "duration": 6,
    "start_time": "2022-02-21T04:06:37.661Z"
   },
   {
    "duration": 205,
    "start_time": "2022-02-21T04:06:48.366Z"
   },
   {
    "duration": 204,
    "start_time": "2022-02-21T04:06:56.357Z"
   },
   {
    "duration": 13,
    "start_time": "2022-02-21T04:07:05.405Z"
   },
   {
    "duration": 11,
    "start_time": "2022-02-21T04:07:05.829Z"
   },
   {
    "duration": 6,
    "start_time": "2022-02-21T04:07:06.253Z"
   },
   {
    "duration": 6,
    "start_time": "2022-02-21T04:07:17.845Z"
   },
   {
    "duration": 207,
    "start_time": "2022-02-21T04:07:19.646Z"
   },
   {
    "duration": 2,
    "start_time": "2022-02-21T04:07:23.021Z"
   },
   {
    "duration": 45,
    "start_time": "2022-02-21T04:07:23.388Z"
   },
   {
    "duration": 14,
    "start_time": "2022-02-21T04:07:23.781Z"
   },
   {
    "duration": 12,
    "start_time": "2022-02-21T04:07:24.180Z"
   },
   {
    "duration": 6,
    "start_time": "2022-02-21T04:07:24.724Z"
   },
   {
    "duration": 241,
    "start_time": "2022-02-21T04:07:25.910Z"
   },
   {
    "duration": 4,
    "start_time": "2022-02-21T04:07:49.645Z"
   },
   {
    "duration": 211,
    "start_time": "2022-02-21T04:08:02.494Z"
   },
   {
    "duration": 76,
    "start_time": "2022-02-21T04:08:31.078Z"
   },
   {
    "duration": 71,
    "start_time": "2022-02-21T04:08:53.478Z"
   },
   {
    "duration": 212,
    "start_time": "2022-02-21T04:08:58.669Z"
   },
   {
    "duration": 204,
    "start_time": "2022-02-21T04:09:01.197Z"
   },
   {
    "duration": 4,
    "start_time": "2022-02-21T04:09:13.053Z"
   },
   {
    "duration": 210,
    "start_time": "2022-02-21T04:09:31.406Z"
   },
   {
    "duration": 272,
    "start_time": "2022-02-21T04:09:48.438Z"
   },
   {
    "duration": 5,
    "start_time": "2022-02-21T04:12:52.878Z"
   },
   {
    "duration": 3,
    "start_time": "2022-02-21T04:13:03.654Z"
   },
   {
    "duration": 50,
    "start_time": "2022-02-21T04:13:04.093Z"
   },
   {
    "duration": 14,
    "start_time": "2022-02-21T04:13:04.451Z"
   },
   {
    "duration": 11,
    "start_time": "2022-02-21T04:13:04.846Z"
   },
   {
    "duration": 6,
    "start_time": "2022-02-21T04:13:05.437Z"
   },
   {
    "duration": 4,
    "start_time": "2022-02-21T04:13:06.565Z"
   },
   {
    "duration": 204,
    "start_time": "2022-02-21T04:13:28.078Z"
   },
   {
    "duration": 204,
    "start_time": "2022-02-21T04:13:34.597Z"
   },
   {
    "duration": 4,
    "start_time": "2022-02-21T04:13:44.054Z"
   },
   {
    "duration": 4,
    "start_time": "2022-02-21T04:14:17.935Z"
   },
   {
    "duration": 13,
    "start_time": "2022-02-21T04:14:18.592Z"
   },
   {
    "duration": 217,
    "start_time": "2022-02-21T04:14:35.150Z"
   },
   {
    "duration": 16,
    "start_time": "2022-02-21T04:14:42.693Z"
   },
   {
    "duration": 5,
    "start_time": "2022-02-21T04:15:43.248Z"
   },
   {
    "duration": 15,
    "start_time": "2022-02-21T04:16:10.950Z"
   },
   {
    "duration": 12,
    "start_time": "2022-02-21T04:20:53.070Z"
   },
   {
    "duration": 24,
    "start_time": "2022-02-21T04:26:15.615Z"
   },
   {
    "duration": 30,
    "start_time": "2022-02-21T04:26:22.335Z"
   },
   {
    "duration": 15,
    "start_time": "2022-02-21T04:26:50.741Z"
   },
   {
    "duration": 17,
    "start_time": "2022-02-21T04:26:55.319Z"
   },
   {
    "duration": 15,
    "start_time": "2022-02-21T04:29:04.542Z"
   },
   {
    "duration": 25,
    "start_time": "2022-02-21T04:31:47.599Z"
   },
   {
    "duration": 34,
    "start_time": "2022-02-21T04:32:32.072Z"
   },
   {
    "duration": 25,
    "start_time": "2022-02-21T04:35:14.882Z"
   },
   {
    "duration": 20,
    "start_time": "2022-02-21T04:35:31.090Z"
   },
   {
    "duration": -170,
    "start_time": "2022-02-21T04:35:58.843Z"
   },
   {
    "duration": 21,
    "start_time": "2022-02-21T04:36:00.920Z"
   },
   {
    "duration": 36,
    "start_time": "2022-02-21T04:36:21.189Z"
   },
   {
    "duration": 17,
    "start_time": "2022-02-21T04:37:09.728Z"
   },
   {
    "duration": 17,
    "start_time": "2022-02-21T04:37:27.372Z"
   },
   {
    "duration": 19,
    "start_time": "2022-02-21T04:37:41.919Z"
   },
   {
    "duration": 7,
    "start_time": "2022-02-21T04:38:07.423Z"
   },
   {
    "duration": 7,
    "start_time": "2022-02-21T04:38:16.176Z"
   },
   {
    "duration": 17,
    "start_time": "2022-02-21T04:38:27.424Z"
   },
   {
    "duration": 208,
    "start_time": "2022-02-21T04:38:40.760Z"
   },
   {
    "duration": 75,
    "start_time": "2022-02-21T04:38:46.960Z"
   },
   {
    "duration": 7,
    "start_time": "2022-02-21T04:39:06.097Z"
   },
   {
    "duration": 6,
    "start_time": "2022-02-21T04:39:18.864Z"
   },
   {
    "duration": -61,
    "start_time": "2022-02-21T04:39:39.453Z"
   },
   {
    "duration": 258,
    "start_time": "2022-02-21T04:39:41.279Z"
   },
   {
    "duration": 73,
    "start_time": "2022-02-21T04:39:49.689Z"
   },
   {
    "duration": 213,
    "start_time": "2022-02-21T04:39:54.391Z"
   },
   {
    "duration": 237,
    "start_time": "2022-02-21T04:45:02.009Z"
   },
   {
    "duration": 486,
    "start_time": "2022-02-21T04:45:24.720Z"
   },
   {
    "duration": 224,
    "start_time": "2022-02-21T04:45:29.776Z"
   },
   {
    "duration": 16,
    "start_time": "2022-02-21T04:45:39.601Z"
   },
   {
    "duration": 211,
    "start_time": "2022-02-21T04:45:54.304Z"
   },
   {
    "duration": 225,
    "start_time": "2022-02-21T04:46:01.577Z"
   },
   {
    "duration": 34,
    "start_time": "2022-02-21T04:46:06.000Z"
   },
   {
    "duration": 15,
    "start_time": "2022-02-21T04:46:15.264Z"
   },
   {
    "duration": 31,
    "start_time": "2022-02-21T04:46:24.329Z"
   },
   {
    "duration": 17,
    "start_time": "2022-02-21T04:50:05.196Z"
   },
   {
    "duration": 16,
    "start_time": "2022-02-21T04:50:08.937Z"
   },
   {
    "duration": 24,
    "start_time": "2022-02-21T04:50:51.465Z"
   },
   {
    "duration": 18,
    "start_time": "2022-02-21T04:51:08.273Z"
   },
   {
    "duration": 4,
    "start_time": "2022-02-21T04:52:23.569Z"
   },
   {
    "duration": 16,
    "start_time": "2022-02-21T04:53:22.313Z"
   },
   {
    "duration": 6,
    "start_time": "2022-02-21T04:53:35.313Z"
   },
   {
    "duration": 10,
    "start_time": "2022-02-21T04:54:22.195Z"
   },
   {
    "duration": 6,
    "start_time": "2022-02-21T04:54:49.770Z"
   },
   {
    "duration": 10,
    "start_time": "2022-02-21T04:55:32.698Z"
   },
   {
    "duration": 16,
    "start_time": "2022-02-21T04:58:20.289Z"
   },
   {
    "duration": 17,
    "start_time": "2022-02-21T04:58:20.602Z"
   },
   {
    "duration": 10,
    "start_time": "2022-02-21T04:58:21.034Z"
   },
   {
    "duration": 3,
    "start_time": "2022-02-21T04:58:26.082Z"
   },
   {
    "duration": 50,
    "start_time": "2022-02-21T04:58:26.425Z"
   },
   {
    "duration": 13,
    "start_time": "2022-02-21T04:58:26.680Z"
   },
   {
    "duration": 15,
    "start_time": "2022-02-21T04:58:26.969Z"
   },
   {
    "duration": 6,
    "start_time": "2022-02-21T04:58:27.289Z"
   },
   {
    "duration": 4,
    "start_time": "2022-02-21T04:58:28.002Z"
   },
   {
    "duration": 5,
    "start_time": "2022-02-21T04:58:28.282Z"
   },
   {
    "duration": 15,
    "start_time": "2022-02-21T04:58:28.570Z"
   },
   {
    "duration": 11,
    "start_time": "2022-02-21T04:58:28.938Z"
   },
   {
    "duration": 15,
    "start_time": "2022-02-21T04:58:31.457Z"
   },
   {
    "duration": 17,
    "start_time": "2022-02-21T04:58:31.889Z"
   },
   {
    "duration": 10,
    "start_time": "2022-02-21T04:58:32.412Z"
   },
   {
    "duration": 200,
    "start_time": "2022-02-21T05:07:48.522Z"
   },
   {
    "duration": 6,
    "start_time": "2022-02-21T05:09:13.683Z"
   },
   {
    "duration": 207,
    "start_time": "2022-02-21T05:09:21.642Z"
   },
   {
    "duration": 6,
    "start_time": "2022-02-21T05:09:27.147Z"
   },
   {
    "duration": 19,
    "start_time": "2022-02-21T05:10:18.520Z"
   },
   {
    "duration": 37,
    "start_time": "2022-02-21T05:10:25.907Z"
   },
   {
    "duration": 39,
    "start_time": "2022-02-21T05:10:52.145Z"
   },
   {
    "duration": 19,
    "start_time": "2022-02-21T05:10:54.634Z"
   },
   {
    "duration": 34,
    "start_time": "2022-02-21T05:10:54.868Z"
   },
   {
    "duration": 12,
    "start_time": "2022-02-21T05:10:58.250Z"
   },
   {
    "duration": 274,
    "start_time": "2022-02-21T05:11:08.291Z"
   },
   {
    "duration": 3,
    "start_time": "2022-02-21T05:11:16.211Z"
   },
   {
    "duration": 50,
    "start_time": "2022-02-21T05:11:16.546Z"
   },
   {
    "duration": 14,
    "start_time": "2022-02-21T05:11:16.794Z"
   },
   {
    "duration": 12,
    "start_time": "2022-02-21T05:11:17.083Z"
   },
   {
    "duration": 6,
    "start_time": "2022-02-21T05:11:17.475Z"
   },
   {
    "duration": 4,
    "start_time": "2022-02-21T05:11:18.202Z"
   },
   {
    "duration": 5,
    "start_time": "2022-02-21T05:11:18.522Z"
   },
   {
    "duration": 20,
    "start_time": "2022-02-21T05:11:18.931Z"
   },
   {
    "duration": 12,
    "start_time": "2022-02-21T05:11:19.458Z"
   },
   {
    "duration": 16,
    "start_time": "2022-02-21T05:11:23.634Z"
   },
   {
    "duration": 35,
    "start_time": "2022-02-21T05:11:24.307Z"
   },
   {
    "duration": 36,
    "start_time": "2022-02-21T05:12:10.164Z"
   },
   {
    "duration": 34,
    "start_time": "2022-02-21T05:12:16.284Z"
   },
   {
    "duration": 279,
    "start_time": "2022-02-21T05:12:21.059Z"
   },
   {
    "duration": 18,
    "start_time": "2022-02-21T05:12:24.466Z"
   },
   {
    "duration": 222,
    "start_time": "2022-02-21T05:12:24.611Z"
   },
   {
    "duration": 3,
    "start_time": "2022-02-21T05:12:29.675Z"
   },
   {
    "duration": 45,
    "start_time": "2022-02-21T05:12:29.907Z"
   },
   {
    "duration": 13,
    "start_time": "2022-02-21T05:12:30.116Z"
   },
   {
    "duration": 12,
    "start_time": "2022-02-21T05:12:35.042Z"
   },
   {
    "duration": 6,
    "start_time": "2022-02-21T05:12:35.754Z"
   },
   {
    "duration": 4,
    "start_time": "2022-02-21T05:12:36.571Z"
   },
   {
    "duration": 6,
    "start_time": "2022-02-21T05:12:36.907Z"
   },
   {
    "duration": 16,
    "start_time": "2022-02-21T05:12:37.315Z"
   },
   {
    "duration": 12,
    "start_time": "2022-02-21T05:12:38.331Z"
   },
   {
    "duration": 16,
    "start_time": "2022-02-21T05:12:41.218Z"
   },
   {
    "duration": 34,
    "start_time": "2022-02-21T05:12:42.090Z"
   },
   {
    "duration": 3,
    "start_time": "2022-02-21T05:13:54.194Z"
   },
   {
    "duration": 47,
    "start_time": "2022-02-21T05:13:54.507Z"
   },
   {
    "duration": 13,
    "start_time": "2022-02-21T05:13:54.747Z"
   },
   {
    "duration": 11,
    "start_time": "2022-02-21T05:13:54.963Z"
   },
   {
    "duration": 6,
    "start_time": "2022-02-21T05:13:55.211Z"
   },
   {
    "duration": 3,
    "start_time": "2022-02-21T05:13:55.715Z"
   },
   {
    "duration": 5,
    "start_time": "2022-02-21T05:13:56.018Z"
   },
   {
    "duration": 14,
    "start_time": "2022-02-21T05:13:56.291Z"
   },
   {
    "duration": 11,
    "start_time": "2022-02-21T05:13:56.659Z"
   },
   {
    "duration": 14,
    "start_time": "2022-02-21T05:13:58.818Z"
   },
   {
    "duration": 30,
    "start_time": "2022-02-21T05:13:59.180Z"
   },
   {
    "duration": 31,
    "start_time": "2022-02-21T05:14:09.771Z"
   },
   {
    "duration": 10,
    "start_time": "2022-02-21T05:14:10.180Z"
   },
   {
    "duration": 12,
    "start_time": "2022-02-21T05:14:10.595Z"
   },
   {
    "duration": 6,
    "start_time": "2022-02-21T05:14:11.283Z"
   },
   {
    "duration": 1766,
    "start_time": "2022-02-21T05:15:17.227Z"
   },
   {
    "duration": 1454,
    "start_time": "2022-02-21T05:15:42.091Z"
   },
   {
    "duration": 1460,
    "start_time": "2022-02-21T05:15:43.867Z"
   },
   {
    "duration": 1421,
    "start_time": "2022-02-21T05:16:01.716Z"
   },
   {
    "duration": 3,
    "start_time": "2022-02-21T05:16:23.796Z"
   },
   {
    "duration": 10,
    "start_time": "2022-02-21T05:16:39.716Z"
   },
   {
    "duration": 11,
    "start_time": "2022-02-21T05:16:53.276Z"
   },
   {
    "duration": 252,
    "start_time": "2022-02-21T05:17:01.108Z"
   },
   {
    "duration": 11,
    "start_time": "2022-02-21T05:17:11.355Z"
   },
   {
    "duration": 125,
    "start_time": "2022-02-21T05:21:46.053Z"
   },
   {
    "duration": 75,
    "start_time": "2022-02-21T05:21:54.132Z"
   },
   {
    "duration": 77,
    "start_time": "2022-02-21T05:22:20.429Z"
   },
   {
    "duration": 70,
    "start_time": "2022-02-21T05:22:27.589Z"
   },
   {
    "duration": 6,
    "start_time": "2022-02-21T05:24:42.564Z"
   },
   {
    "duration": 17,
    "start_time": "2022-02-21T05:25:22.030Z"
   },
   {
    "duration": -72,
    "start_time": "2022-02-21T05:26:38.332Z"
   },
   {
    "duration": 4887,
    "start_time": "2022-02-21T05:26:38.757Z"
   },
   {
    "duration": 3,
    "start_time": "2022-02-21T05:27:02.093Z"
   },
   {
    "duration": 45,
    "start_time": "2022-02-21T05:27:02.437Z"
   },
   {
    "duration": 15,
    "start_time": "2022-02-21T05:27:02.773Z"
   },
   {
    "duration": 12,
    "start_time": "2022-02-21T05:27:03.164Z"
   },
   {
    "duration": 6,
    "start_time": "2022-02-21T05:27:03.565Z"
   },
   {
    "duration": 4,
    "start_time": "2022-02-21T05:27:04.172Z"
   },
   {
    "duration": 5,
    "start_time": "2022-02-21T05:27:04.445Z"
   },
   {
    "duration": 16,
    "start_time": "2022-02-21T05:27:04.700Z"
   },
   {
    "duration": 13,
    "start_time": "2022-02-21T05:27:04.924Z"
   },
   {
    "duration": 16,
    "start_time": "2022-02-21T05:27:07.428Z"
   },
   {
    "duration": 32,
    "start_time": "2022-02-21T05:27:07.868Z"
   },
   {
    "duration": 10,
    "start_time": "2022-02-21T05:27:08.221Z"
   },
   {
    "duration": 12,
    "start_time": "2022-02-21T05:27:08.724Z"
   },
   {
    "duration": 6,
    "start_time": "2022-02-21T05:27:09.085Z"
   },
   {
    "duration": 17,
    "start_time": "2022-02-21T05:27:10.772Z"
   },
   {
    "duration": -55,
    "start_time": "2022-02-21T05:27:23.901Z"
   },
   {
    "duration": 5310,
    "start_time": "2022-02-21T05:27:28.692Z"
   },
   {
    "duration": -69,
    "start_time": "2022-02-21T05:27:34.074Z"
   },
   {
    "duration": -71,
    "start_time": "2022-02-21T05:27:34.077Z"
   },
   {
    "duration": -70,
    "start_time": "2022-02-21T05:27:34.078Z"
   },
   {
    "duration": 9,
    "start_time": "2022-02-21T05:27:34.018Z"
   },
   {
    "duration": 6,
    "start_time": "2022-02-21T05:27:34.244Z"
   },
   {
    "duration": 4,
    "start_time": "2022-02-21T05:27:34.676Z"
   },
   {
    "duration": 5,
    "start_time": "2022-02-21T05:27:34.892Z"
   },
   {
    "duration": 17,
    "start_time": "2022-02-21T05:27:35.108Z"
   },
   {
    "duration": 10,
    "start_time": "2022-02-21T05:27:35.325Z"
   },
   {
    "duration": 12,
    "start_time": "2022-02-21T05:27:36.588Z"
   },
   {
    "duration": 26,
    "start_time": "2022-02-21T05:27:36.821Z"
   },
   {
    "duration": 5463,
    "start_time": "2022-02-21T05:27:37.412Z"
   },
   {
    "duration": -54,
    "start_time": "2022-02-21T05:27:42.932Z"
   },
   {
    "duration": -55,
    "start_time": "2022-02-21T05:27:42.934Z"
   },
   {
    "duration": -55,
    "start_time": "2022-02-21T05:27:42.935Z"
   },
   {
    "duration": 2,
    "start_time": "2022-02-21T05:27:58.540Z"
   },
   {
    "duration": 51,
    "start_time": "2022-02-21T05:27:58.544Z"
   },
   {
    "duration": 12,
    "start_time": "2022-02-21T05:27:58.597Z"
   },
   {
    "duration": 12,
    "start_time": "2022-02-21T05:27:58.611Z"
   },
   {
    "duration": 6,
    "start_time": "2022-02-21T05:27:58.764Z"
   },
   {
    "duration": 4,
    "start_time": "2022-02-21T05:27:59.540Z"
   },
   {
    "duration": 5,
    "start_time": "2022-02-21T05:27:59.772Z"
   },
   {
    "duration": 18,
    "start_time": "2022-02-21T05:27:59.965Z"
   },
   {
    "duration": 12,
    "start_time": "2022-02-21T05:28:00.165Z"
   },
   {
    "duration": 14,
    "start_time": "2022-02-21T05:28:02.924Z"
   },
   {
    "duration": 45,
    "start_time": "2022-02-21T05:28:03.343Z"
   },
   {
    "duration": 10,
    "start_time": "2022-02-21T05:28:04.365Z"
   },
   {
    "duration": 12,
    "start_time": "2022-02-21T05:28:07.316Z"
   },
   {
    "duration": 6,
    "start_time": "2022-02-21T05:28:07.748Z"
   },
   {
    "duration": 17,
    "start_time": "2022-02-21T05:28:08.892Z"
   },
   {
    "duration": 10,
    "start_time": "2022-02-21T05:28:18.668Z"
   },
   {
    "duration": 441,
    "start_time": "2022-02-21T06:08:51.625Z"
   },
   {
    "duration": 11,
    "start_time": "2022-02-21T06:11:29.394Z"
   },
   {
    "duration": 30,
    "start_time": "2022-02-21T06:11:42.153Z"
   },
   {
    "duration": 20,
    "start_time": "2022-02-21T06:12:02.554Z"
   },
   {
    "duration": 19,
    "start_time": "2022-02-21T06:12:42.313Z"
   },
   {
    "duration": 30,
    "start_time": "2022-02-21T06:12:52.746Z"
   },
   {
    "duration": 21,
    "start_time": "2022-02-21T06:13:39.610Z"
   },
   {
    "duration": 12043,
    "start_time": "2022-02-21T06:15:12.817Z"
   },
   {
    "duration": -101,
    "start_time": "2022-02-21T06:15:24.963Z"
   },
   {
    "duration": -110,
    "start_time": "2022-02-21T06:15:24.973Z"
   },
   {
    "duration": -111,
    "start_time": "2022-02-21T06:15:24.975Z"
   },
   {
    "duration": -113,
    "start_time": "2022-02-21T06:15:24.977Z"
   },
   {
    "duration": -114,
    "start_time": "2022-02-21T06:15:24.979Z"
   },
   {
    "duration": -114,
    "start_time": "2022-02-21T06:15:24.980Z"
   },
   {
    "duration": -115,
    "start_time": "2022-02-21T06:15:24.982Z"
   },
   {
    "duration": -117,
    "start_time": "2022-02-21T06:15:24.984Z"
   },
   {
    "duration": -124,
    "start_time": "2022-02-21T06:15:24.992Z"
   },
   {
    "duration": -127,
    "start_time": "2022-02-21T06:15:24.996Z"
   },
   {
    "duration": -128,
    "start_time": "2022-02-21T06:15:24.998Z"
   },
   {
    "duration": -80,
    "start_time": "2022-02-21T06:15:37.520Z"
   },
   {
    "duration": -84,
    "start_time": "2022-02-21T06:15:37.525Z"
   },
   {
    "duration": -81,
    "start_time": "2022-02-21T06:15:46.637Z"
   },
   {
    "duration": -83,
    "start_time": "2022-02-21T06:15:46.639Z"
   },
   {
    "duration": -84,
    "start_time": "2022-02-21T06:15:46.641Z"
   },
   {
    "duration": -83,
    "start_time": "2022-02-21T06:15:46.642Z"
   },
   {
    "duration": -83,
    "start_time": "2022-02-21T06:15:46.643Z"
   },
   {
    "duration": -84,
    "start_time": "2022-02-21T06:15:46.645Z"
   },
   {
    "duration": -84,
    "start_time": "2022-02-21T06:15:46.646Z"
   },
   {
    "duration": -84,
    "start_time": "2022-02-21T06:15:46.648Z"
   },
   {
    "duration": -85,
    "start_time": "2022-02-21T06:15:46.650Z"
   },
   {
    "duration": -109,
    "start_time": "2022-02-21T06:15:46.675Z"
   },
   {
    "duration": -156,
    "start_time": "2022-02-21T06:15:46.723Z"
   },
   {
    "duration": -158,
    "start_time": "2022-02-21T06:15:46.726Z"
   },
   {
    "duration": 14,
    "start_time": "2022-02-21T06:15:47.497Z"
   },
   {
    "duration": 28,
    "start_time": "2022-02-21T06:15:47.705Z"
   },
   {
    "duration": 10045,
    "start_time": "2022-02-21T06:15:47.953Z"
   },
   {
    "duration": -2773,
    "start_time": "2022-02-21T06:16:00.774Z"
   },
   {
    "duration": -2773,
    "start_time": "2022-02-21T06:16:00.775Z"
   },
   {
    "duration": -2772,
    "start_time": "2022-02-21T06:16:00.776Z"
   },
   {
    "duration": -2772,
    "start_time": "2022-02-21T06:16:00.777Z"
   },
   {
    "duration": 8981,
    "start_time": "2022-02-21T06:16:09.775Z"
   },
   {
    "duration": 3,
    "start_time": "2022-02-21T06:16:23.345Z"
   },
   {
    "duration": 51,
    "start_time": "2022-02-21T06:16:23.793Z"
   },
   {
    "duration": 14,
    "start_time": "2022-02-21T06:16:24.200Z"
   },
   {
    "duration": 13,
    "start_time": "2022-02-21T06:16:24.545Z"
   },
   {
    "duration": 6,
    "start_time": "2022-02-21T06:16:25.225Z"
   },
   {
    "duration": 4,
    "start_time": "2022-02-21T06:16:26.377Z"
   },
   {
    "duration": 5,
    "start_time": "2022-02-21T06:16:26.857Z"
   },
   {
    "duration": 16,
    "start_time": "2022-02-21T06:16:27.361Z"
   },
   {
    "duration": 14,
    "start_time": "2022-02-21T06:16:28.481Z"
   },
   {
    "duration": 16,
    "start_time": "2022-02-21T06:16:33.081Z"
   },
   {
    "duration": 34,
    "start_time": "2022-02-21T06:16:34.201Z"
   },
   {
    "duration": 10,
    "start_time": "2022-02-21T06:16:35.930Z"
   },
   {
    "duration": 652,
    "start_time": "2022-02-21T06:16:51.410Z"
   },
   {
    "duration": 5,
    "start_time": "2022-02-21T06:16:57.979Z"
   },
   {
    "duration": 296,
    "start_time": "2022-02-21T06:17:02.537Z"
   },
   {
    "duration": 404,
    "start_time": "2022-02-21T06:17:43.282Z"
   },
   {
    "duration": 1259,
    "start_time": "2022-02-21T06:17:50.993Z"
   },
   {
    "duration": 5,
    "start_time": "2022-02-21T06:17:59.226Z"
   },
   {
    "duration": 5,
    "start_time": "2022-02-21T06:18:42.931Z"
   },
   {
    "duration": 6,
    "start_time": "2022-02-21T06:19:05.721Z"
   },
   {
    "duration": 317,
    "start_time": "2022-02-21T06:19:45.042Z"
   },
   {
    "duration": 5,
    "start_time": "2022-02-21T06:19:54.218Z"
   },
   {
    "duration": 5,
    "start_time": "2022-02-21T06:22:11.707Z"
   },
   {
    "duration": 162,
    "start_time": "2022-02-21T06:29:15.371Z"
   },
   {
    "duration": 224,
    "start_time": "2022-02-21T06:40:49.124Z"
   },
   {
    "duration": 103,
    "start_time": "2022-02-21T06:41:01.821Z"
   },
   {
    "duration": 350,
    "start_time": "2022-02-21T06:41:07.444Z"
   },
   {
    "duration": 1587,
    "start_time": "2022-02-21T06:41:16.684Z"
   },
   {
    "duration": 350,
    "start_time": "2022-02-21T06:41:38.933Z"
   },
   {
    "duration": 508,
    "start_time": "2022-02-21T06:42:14.044Z"
   },
   {
    "duration": 100,
    "start_time": "2022-02-21T06:44:21.764Z"
   },
   {
    "duration": 119,
    "start_time": "2022-02-21T06:44:44.389Z"
   },
   {
    "duration": 193,
    "start_time": "2022-02-21T06:44:59.036Z"
   },
   {
    "duration": 171,
    "start_time": "2022-02-21T06:45:42.373Z"
   },
   {
    "duration": 97,
    "start_time": "2022-02-21T06:46:11.429Z"
   },
   {
    "duration": 113,
    "start_time": "2022-02-21T06:46:18.725Z"
   },
   {
    "duration": 546,
    "start_time": "2022-02-21T06:46:51.806Z"
   },
   {
    "duration": 107,
    "start_time": "2022-02-21T06:47:03.561Z"
   },
   {
    "duration": 105,
    "start_time": "2022-02-21T06:47:40.742Z"
   },
   {
    "duration": 105,
    "start_time": "2022-02-21T06:48:24.653Z"
   },
   {
    "duration": 100,
    "start_time": "2022-02-21T06:48:49.294Z"
   },
   {
    "duration": 23,
    "start_time": "2022-02-21T06:49:42.869Z"
   },
   {
    "duration": 2,
    "start_time": "2022-02-21T06:50:16.365Z"
   },
   {
    "duration": 51,
    "start_time": "2022-02-21T06:50:16.637Z"
   },
   {
    "duration": 15,
    "start_time": "2022-02-21T06:50:16.853Z"
   },
   {
    "duration": 12,
    "start_time": "2022-02-21T06:50:17.045Z"
   },
   {
    "duration": 6,
    "start_time": "2022-02-21T06:50:17.244Z"
   },
   {
    "duration": 4,
    "start_time": "2022-02-21T06:50:17.644Z"
   },
   {
    "duration": 6,
    "start_time": "2022-02-21T06:50:17.860Z"
   },
   {
    "duration": 17,
    "start_time": "2022-02-21T06:50:18.087Z"
   },
   {
    "duration": 14,
    "start_time": "2022-02-21T06:50:18.285Z"
   },
   {
    "duration": 21,
    "start_time": "2022-02-21T06:50:20.069Z"
   },
   {
    "duration": 33,
    "start_time": "2022-02-21T06:50:20.406Z"
   },
   {
    "duration": 11,
    "start_time": "2022-02-21T06:50:20.677Z"
   },
   {
    "duration": 12,
    "start_time": "2022-02-21T06:50:21.374Z"
   },
   {
    "duration": 7,
    "start_time": "2022-02-21T06:50:21.676Z"
   },
   {
    "duration": 17,
    "start_time": "2022-02-21T06:50:22.548Z"
   },
   {
    "duration": 21,
    "start_time": "2022-02-21T06:50:24.565Z"
   },
   {
    "duration": 6,
    "start_time": "2022-02-21T06:50:27.252Z"
   },
   {
    "duration": 15,
    "start_time": "2022-02-21T06:50:27.926Z"
   },
   {
    "duration": 16,
    "start_time": "2022-02-21T06:50:54.505Z"
   },
   {
    "duration": 16,
    "start_time": "2022-02-21T06:51:12.958Z"
   },
   {
    "duration": 3,
    "start_time": "2022-02-21T06:51:21.446Z"
   },
   {
    "duration": 46,
    "start_time": "2022-02-21T06:51:21.693Z"
   },
   {
    "duration": 15,
    "start_time": "2022-02-21T06:51:21.885Z"
   },
   {
    "duration": 13,
    "start_time": "2022-02-21T06:51:22.084Z"
   },
   {
    "duration": 6,
    "start_time": "2022-02-21T06:51:22.253Z"
   },
   {
    "duration": 4,
    "start_time": "2022-02-21T06:51:22.685Z"
   },
   {
    "duration": 6,
    "start_time": "2022-02-21T06:51:22.876Z"
   },
   {
    "duration": 16,
    "start_time": "2022-02-21T06:51:23.069Z"
   },
   {
    "duration": 13,
    "start_time": "2022-02-21T06:51:23.276Z"
   },
   {
    "duration": 17,
    "start_time": "2022-02-21T06:51:24.892Z"
   },
   {
    "duration": 35,
    "start_time": "2022-02-21T06:51:25.292Z"
   },
   {
    "duration": 12,
    "start_time": "2022-02-21T06:51:26.293Z"
   },
   {
    "duration": 12,
    "start_time": "2022-02-21T06:51:27.108Z"
   },
   {
    "duration": 7,
    "start_time": "2022-02-21T06:51:27.485Z"
   },
   {
    "duration": 19,
    "start_time": "2022-02-21T06:51:28.275Z"
   },
   {
    "duration": 20,
    "start_time": "2022-02-21T06:51:29.605Z"
   },
   {
    "duration": 5,
    "start_time": "2022-02-21T06:51:31.125Z"
   },
   {
    "duration": 15,
    "start_time": "2022-02-21T06:51:32.109Z"
   },
   {
    "duration": 3,
    "start_time": "2022-02-21T06:53:06.525Z"
   },
   {
    "duration": 44,
    "start_time": "2022-02-21T06:53:06.780Z"
   },
   {
    "duration": 15,
    "start_time": "2022-02-21T06:53:07.045Z"
   },
   {
    "duration": 12,
    "start_time": "2022-02-21T06:53:07.900Z"
   },
   {
    "duration": 6,
    "start_time": "2022-02-21T06:53:08.517Z"
   },
   {
    "duration": 4,
    "start_time": "2022-02-21T06:53:09.349Z"
   },
   {
    "duration": 6,
    "start_time": "2022-02-21T06:53:09.653Z"
   },
   {
    "duration": 16,
    "start_time": "2022-02-21T06:53:09.925Z"
   },
   {
    "duration": 12,
    "start_time": "2022-02-21T06:53:10.488Z"
   },
   {
    "duration": 16,
    "start_time": "2022-02-21T06:53:12.757Z"
   },
   {
    "duration": 31,
    "start_time": "2022-02-21T06:53:13.230Z"
   },
   {
    "duration": 10,
    "start_time": "2022-02-21T06:53:14.109Z"
   },
   {
    "duration": 11,
    "start_time": "2022-02-21T06:53:14.732Z"
   },
   {
    "duration": 7,
    "start_time": "2022-02-21T06:53:19.916Z"
   },
   {
    "duration": 17,
    "start_time": "2022-02-21T06:53:22.141Z"
   },
   {
    "duration": 18,
    "start_time": "2022-02-21T06:53:25.846Z"
   },
   {
    "duration": 5,
    "start_time": "2022-02-21T06:53:34.237Z"
   },
   {
    "duration": 18,
    "start_time": "2022-02-21T06:53:48.133Z"
   },
   {
    "duration": 16,
    "start_time": "2022-02-21T06:54:00.693Z"
   },
   {
    "duration": 30,
    "start_time": "2022-02-21T06:54:45.774Z"
   },
   {
    "duration": 149,
    "start_time": "2022-02-21T07:01:13.743Z"
   },
   {
    "duration": 28,
    "start_time": "2022-02-21T07:01:29.623Z"
   },
   {
    "duration": 279,
    "start_time": "2022-02-21T07:02:42.963Z"
   },
   {
    "duration": 3618,
    "start_time": "2022-02-21T07:02:52.934Z"
   },
   {
    "duration": 1403,
    "start_time": "2022-02-21T07:03:17.023Z"
   },
   {
    "duration": 23,
    "start_time": "2022-02-21T07:03:27.696Z"
   },
   {
    "duration": 321,
    "start_time": "2022-02-21T07:05:03.070Z"
   },
   {
    "duration": 302,
    "start_time": "2022-02-21T07:05:20.839Z"
   },
   {
    "duration": 4,
    "start_time": "2022-02-21T07:05:31.839Z"
   },
   {
    "duration": 388,
    "start_time": "2022-02-21T07:06:09.521Z"
   },
   {
    "duration": 7,
    "start_time": "2022-02-21T07:06:22.695Z"
   },
   {
    "duration": 6,
    "start_time": "2022-02-21T07:06:32.640Z"
   },
   {
    "duration": 6,
    "start_time": "2022-02-21T07:07:35.776Z"
   },
   {
    "duration": 442,
    "start_time": "2022-02-21T07:07:46.599Z"
   },
   {
    "duration": 33,
    "start_time": "2022-02-21T07:07:49.748Z"
   },
   {
    "duration": 611,
    "start_time": "2022-02-21T07:08:15.241Z"
   },
   {
    "duration": 13,
    "start_time": "2022-02-21T07:08:16.959Z"
   },
   {
    "duration": 409,
    "start_time": "2022-02-21T07:08:20.655Z"
   },
   {
    "duration": 3,
    "start_time": "2022-02-21T07:08:31.047Z"
   },
   {
    "duration": 49,
    "start_time": "2022-02-21T07:08:31.295Z"
   },
   {
    "duration": 14,
    "start_time": "2022-02-21T07:08:31.520Z"
   },
   {
    "duration": 13,
    "start_time": "2022-02-21T07:08:31.719Z"
   },
   {
    "duration": 7,
    "start_time": "2022-02-21T07:08:32.022Z"
   },
   {
    "duration": 4,
    "start_time": "2022-02-21T07:08:32.544Z"
   },
   {
    "duration": 5,
    "start_time": "2022-02-21T07:08:32.759Z"
   },
   {
    "duration": 21,
    "start_time": "2022-02-21T07:08:32.975Z"
   },
   {
    "duration": 12,
    "start_time": "2022-02-21T07:08:33.199Z"
   },
   {
    "duration": 19,
    "start_time": "2022-02-21T07:08:34.782Z"
   },
   {
    "duration": 32,
    "start_time": "2022-02-21T07:08:34.990Z"
   },
   {
    "duration": 11,
    "start_time": "2022-02-21T07:08:35.238Z"
   },
   {
    "duration": 12,
    "start_time": "2022-02-21T07:08:35.583Z"
   },
   {
    "duration": 7,
    "start_time": "2022-02-21T07:08:35.887Z"
   },
   {
    "duration": 21,
    "start_time": "2022-02-21T07:08:36.495Z"
   },
   {
    "duration": 21,
    "start_time": "2022-02-21T07:08:37.438Z"
   },
   {
    "duration": 5,
    "start_time": "2022-02-21T07:08:38.286Z"
   },
   {
    "duration": 27,
    "start_time": "2022-02-21T07:08:38.711Z"
   },
   {
    "duration": 7,
    "start_time": "2022-02-21T07:08:38.999Z"
   },
   {
    "duration": 9,
    "start_time": "2022-02-21T07:08:39.382Z"
   },
   {
    "duration": 13,
    "start_time": "2022-02-21T07:08:40.063Z"
   },
   {
    "duration": 104,
    "start_time": "2022-02-21T07:19:15.288Z"
   },
   {
    "duration": 116,
    "start_time": "2022-02-21T07:19:20.768Z"
   },
   {
    "duration": 195,
    "start_time": "2022-02-21T07:19:48.432Z"
   },
   {
    "duration": 587,
    "start_time": "2022-02-21T07:20:02.265Z"
   },
   {
    "duration": 435,
    "start_time": "2022-02-21T07:20:31.377Z"
   },
   {
    "duration": 517,
    "start_time": "2022-02-21T07:21:07.977Z"
   },
   {
    "duration": 4,
    "start_time": "2022-02-21T07:21:13.737Z"
   },
   {
    "duration": 4,
    "start_time": "2022-02-21T07:23:23.264Z"
   },
   {
    "duration": 370,
    "start_time": "2022-02-21T07:26:04.778Z"
   },
   {
    "duration": 366,
    "start_time": "2022-02-21T07:26:20.945Z"
   },
   {
    "duration": 368,
    "start_time": "2022-02-21T07:26:27.425Z"
   },
   {
    "duration": 96,
    "start_time": "2022-02-21T07:27:58.996Z"
   },
   {
    "duration": 384,
    "start_time": "2022-02-21T07:28:33.002Z"
   },
   {
    "duration": 359,
    "start_time": "2022-02-21T07:30:21.700Z"
   },
   {
    "duration": -84,
    "start_time": "2022-02-21T07:31:37.998Z"
   },
   {
    "duration": 2,
    "start_time": "2022-02-21T07:32:06.210Z"
   },
   {
    "duration": 48,
    "start_time": "2022-02-21T07:32:06.522Z"
   },
   {
    "duration": 15,
    "start_time": "2022-02-21T07:32:06.825Z"
   },
   {
    "duration": 11,
    "start_time": "2022-02-21T07:32:07.154Z"
   },
   {
    "duration": 7,
    "start_time": "2022-02-21T07:32:07.497Z"
   },
   {
    "duration": 4,
    "start_time": "2022-02-21T07:32:08.633Z"
   },
   {
    "duration": 6,
    "start_time": "2022-02-21T07:32:09.033Z"
   },
   {
    "duration": 16,
    "start_time": "2022-02-21T07:32:09.673Z"
   },
   {
    "duration": 12,
    "start_time": "2022-02-21T07:32:10.562Z"
   },
   {
    "duration": 14,
    "start_time": "2022-02-21T07:32:13.337Z"
   },
   {
    "duration": 38,
    "start_time": "2022-02-21T07:32:13.722Z"
   },
   {
    "duration": 11,
    "start_time": "2022-02-21T07:32:14.242Z"
   },
   {
    "duration": 12,
    "start_time": "2022-02-21T07:32:14.729Z"
   },
   {
    "duration": 7,
    "start_time": "2022-02-21T07:32:15.241Z"
   },
   {
    "duration": 17,
    "start_time": "2022-02-21T07:32:16.138Z"
   },
   {
    "duration": 20,
    "start_time": "2022-02-21T07:32:17.144Z"
   },
   {
    "duration": 5,
    "start_time": "2022-02-21T07:32:17.945Z"
   },
   {
    "duration": 25,
    "start_time": "2022-02-21T07:32:18.393Z"
   },
   {
    "duration": 7,
    "start_time": "2022-02-21T07:32:18.804Z"
   },
   {
    "duration": 9,
    "start_time": "2022-02-21T07:32:19.185Z"
   },
   {
    "duration": 13,
    "start_time": "2022-02-21T07:32:19.673Z"
   },
   {
    "duration": 435,
    "start_time": "2022-02-21T07:32:20.251Z"
   },
   {
    "duration": 9893,
    "start_time": "2022-02-21T07:32:21.841Z"
   },
   {
    "duration": 11228,
    "start_time": "2022-02-21T07:32:44.818Z"
   },
   {
    "duration": 370,
    "start_time": "2022-02-21T07:33:01.379Z"
   },
   {
    "duration": 6029,
    "start_time": "2022-02-21T07:33:11.914Z"
   },
   {
    "duration": 4782,
    "start_time": "2022-02-21T07:33:28.474Z"
   },
   {
    "duration": 372,
    "start_time": "2022-02-21T07:33:36.026Z"
   },
   {
    "duration": 14022,
    "start_time": "2022-02-21T07:33:46.409Z"
   },
   {
    "duration": 3,
    "start_time": "2022-02-21T07:34:15.481Z"
   },
   {
    "duration": 49,
    "start_time": "2022-02-21T07:34:15.850Z"
   },
   {
    "duration": 13,
    "start_time": "2022-02-21T07:34:16.082Z"
   },
   {
    "duration": 14,
    "start_time": "2022-02-21T07:34:16.393Z"
   },
   {
    "duration": 6,
    "start_time": "2022-02-21T07:34:17.057Z"
   },
   {
    "duration": 4,
    "start_time": "2022-02-21T07:34:17.553Z"
   },
   {
    "duration": 6,
    "start_time": "2022-02-21T07:34:17.753Z"
   },
   {
    "duration": 17,
    "start_time": "2022-02-21T07:34:17.994Z"
   },
   {
    "duration": 13,
    "start_time": "2022-02-21T07:34:18.153Z"
   },
   {
    "duration": 16,
    "start_time": "2022-02-21T07:34:19.369Z"
   },
   {
    "duration": 34,
    "start_time": "2022-02-21T07:34:19.586Z"
   },
   {
    "duration": 12,
    "start_time": "2022-02-21T07:34:19.801Z"
   },
   {
    "duration": 11,
    "start_time": "2022-02-21T07:34:20.009Z"
   },
   {
    "duration": 6,
    "start_time": "2022-02-21T07:34:20.273Z"
   },
   {
    "duration": 18,
    "start_time": "2022-02-21T07:34:20.889Z"
   },
   {
    "duration": 20,
    "start_time": "2022-02-21T07:34:21.402Z"
   },
   {
    "duration": 5,
    "start_time": "2022-02-21T07:34:22.105Z"
   },
   {
    "duration": 25,
    "start_time": "2022-02-21T07:34:22.489Z"
   },
   {
    "duration": 7,
    "start_time": "2022-02-21T07:34:22.985Z"
   },
   {
    "duration": 9,
    "start_time": "2022-02-21T07:34:23.330Z"
   },
   {
    "duration": 14,
    "start_time": "2022-02-21T07:34:23.729Z"
   },
   {
    "duration": 358,
    "start_time": "2022-02-21T07:34:24.041Z"
   },
   {
    "duration": 12190,
    "start_time": "2022-02-21T07:34:24.401Z"
   },
   {
    "duration": 10482,
    "start_time": "2022-02-21T07:34:45.050Z"
   },
   {
    "duration": -102,
    "start_time": "2022-02-21T07:36:11.972Z"
   },
   {
    "duration": 3,
    "start_time": "2022-02-21T07:36:47.858Z"
   },
   {
    "duration": 52,
    "start_time": "2022-02-21T07:36:48.305Z"
   },
   {
    "duration": 15,
    "start_time": "2022-02-21T07:36:48.833Z"
   },
   {
    "duration": 14,
    "start_time": "2022-02-21T07:36:48.850Z"
   },
   {
    "duration": 6,
    "start_time": "2022-02-21T07:36:48.887Z"
   },
   {
    "duration": 5,
    "start_time": "2022-02-21T07:36:48.945Z"
   },
   {
    "duration": 5,
    "start_time": "2022-02-21T07:36:48.976Z"
   },
   {
    "duration": 16,
    "start_time": "2022-02-21T07:36:49.004Z"
   },
   {
    "duration": 12,
    "start_time": "2022-02-21T07:36:49.042Z"
   },
   {
    "duration": 14,
    "start_time": "2022-02-21T07:36:49.235Z"
   },
   {
    "duration": 30,
    "start_time": "2022-02-21T07:36:49.277Z"
   },
   {
    "duration": 10,
    "start_time": "2022-02-21T07:36:49.310Z"
   },
   {
    "duration": 11,
    "start_time": "2022-02-21T07:36:49.335Z"
   },
   {
    "duration": 6,
    "start_time": "2022-02-21T07:36:49.368Z"
   },
   {
    "duration": 16,
    "start_time": "2022-02-21T07:36:49.433Z"
   },
   {
    "duration": 20,
    "start_time": "2022-02-21T07:36:50.010Z"
   },
   {
    "duration": 6,
    "start_time": "2022-02-21T07:36:50.961Z"
   },
   {
    "duration": 25,
    "start_time": "2022-02-21T07:36:51.514Z"
   },
   {
    "duration": 7,
    "start_time": "2022-02-21T07:36:51.945Z"
   },
   {
    "duration": 10,
    "start_time": "2022-02-21T07:36:52.298Z"
   },
   {
    "duration": 12,
    "start_time": "2022-02-21T07:36:52.522Z"
   },
   {
    "duration": 367,
    "start_time": "2022-02-21T07:36:52.890Z"
   },
   {
    "duration": 12089,
    "start_time": "2022-02-21T07:36:53.259Z"
   },
   {
    "duration": 10,
    "start_time": "2022-02-21T07:37:44.722Z"
   },
   {
    "duration": 5,
    "start_time": "2022-02-21T07:38:23.330Z"
   },
   {
    "duration": 13,
    "start_time": "2022-02-21T07:38:29.466Z"
   },
   {
    "duration": 364,
    "start_time": "2022-02-21T07:39:04.826Z"
   },
   {
    "duration": 6,
    "start_time": "2022-02-21T07:39:14.658Z"
   },
   {
    "duration": 11,
    "start_time": "2022-02-21T07:39:29.729Z"
   },
   {
    "duration": 7,
    "start_time": "2022-02-21T07:39:38.810Z"
   },
   {
    "duration": 98,
    "start_time": "2022-02-21T07:40:00.852Z"
   },
   {
    "duration": 8,
    "start_time": "2022-02-21T07:40:10.571Z"
   },
   {
    "duration": 9,
    "start_time": "2022-02-21T07:40:15.235Z"
   },
   {
    "duration": 6,
    "start_time": "2022-02-21T07:40:39.858Z"
   },
   {
    "duration": 7,
    "start_time": "2022-02-21T07:40:44.250Z"
   },
   {
    "duration": 367,
    "start_time": "2022-02-21T07:41:50.339Z"
   },
   {
    "duration": 545,
    "start_time": "2022-02-21T07:42:39.258Z"
   },
   {
    "duration": 9,
    "start_time": "2022-02-21T07:42:44.923Z"
   },
   {
    "duration": 9,
    "start_time": "2022-02-21T07:43:00.355Z"
   },
   {
    "duration": 12,
    "start_time": "2022-02-21T07:43:13.868Z"
   },
   {
    "duration": 5,
    "start_time": "2022-02-21T07:48:48.844Z"
   },
   {
    "duration": 465,
    "start_time": "2022-02-21T07:49:30.100Z"
   },
   {
    "duration": 5,
    "start_time": "2022-02-21T07:49:32.772Z"
   },
   {
    "duration": 5,
    "start_time": "2022-02-21T07:50:04.821Z"
   },
   {
    "duration": 6,
    "start_time": "2022-02-21T07:50:25.181Z"
   },
   {
    "duration": 18,
    "start_time": "2022-02-21T07:50:39.228Z"
   },
   {
    "duration": 8,
    "start_time": "2022-02-21T07:51:09.580Z"
   },
   {
    "duration": 7,
    "start_time": "2022-02-21T07:51:29.612Z"
   },
   {
    "duration": 9,
    "start_time": "2022-02-21T07:51:59.484Z"
   },
   {
    "duration": 17,
    "start_time": "2022-02-21T07:53:08.291Z"
   },
   {
    "duration": 18,
    "start_time": "2022-02-21T07:53:12.765Z"
   },
   {
    "duration": 4,
    "start_time": "2022-02-21T07:54:02.196Z"
   },
   {
    "duration": 4,
    "start_time": "2022-02-21T07:54:43.132Z"
   },
   {
    "duration": 5,
    "start_time": "2022-02-21T07:54:56.620Z"
   },
   {
    "duration": 10886,
    "start_time": "2022-02-21T07:54:59.370Z"
   },
   {
    "duration": -92,
    "start_time": "2022-02-21T07:55:10.351Z"
   },
   {
    "duration": 3,
    "start_time": "2022-02-21T07:55:37.845Z"
   },
   {
    "duration": 43,
    "start_time": "2022-02-21T07:55:38.195Z"
   },
   {
    "duration": 14,
    "start_time": "2022-02-21T07:55:38.453Z"
   },
   {
    "duration": 12,
    "start_time": "2022-02-21T07:55:38.644Z"
   },
   {
    "duration": 6,
    "start_time": "2022-02-21T07:55:38.787Z"
   },
   {
    "duration": 5,
    "start_time": "2022-02-21T07:55:39.333Z"
   },
   {
    "duration": 4,
    "start_time": "2022-02-21T07:55:39.353Z"
   },
   {
    "duration": 15,
    "start_time": "2022-02-21T07:55:39.395Z"
   },
   {
    "duration": 13,
    "start_time": "2022-02-21T07:55:39.423Z"
   },
   {
    "duration": 16,
    "start_time": "2022-02-21T07:55:39.617Z"
   },
   {
    "duration": 31,
    "start_time": "2022-02-21T07:55:39.657Z"
   },
   {
    "duration": 9,
    "start_time": "2022-02-21T07:55:39.690Z"
   },
   {
    "duration": 11,
    "start_time": "2022-02-21T07:55:39.723Z"
   },
   {
    "duration": 6,
    "start_time": "2022-02-21T07:55:39.752Z"
   },
   {
    "duration": 18,
    "start_time": "2022-02-21T07:55:39.819Z"
   },
   {
    "duration": 19,
    "start_time": "2022-02-21T07:55:39.892Z"
   },
   {
    "duration": 6,
    "start_time": "2022-02-21T07:55:39.957Z"
   },
   {
    "duration": 27,
    "start_time": "2022-02-21T07:55:39.981Z"
   },
   {
    "duration": 7,
    "start_time": "2022-02-21T07:55:40.018Z"
   },
   {
    "duration": 9,
    "start_time": "2022-02-21T07:55:40.078Z"
   },
   {
    "duration": 13,
    "start_time": "2022-02-21T07:55:40.100Z"
   },
   {
    "duration": 5,
    "start_time": "2022-02-21T07:55:40.119Z"
   },
   {
    "duration": 10812,
    "start_time": "2022-02-21T07:55:40.154Z"
   },
   {
    "duration": 19,
    "start_time": "2022-02-21T07:56:49.933Z"
   },
   {
    "duration": 1180,
    "start_time": "2022-02-21T08:01:59.521Z"
   },
   {
    "duration": 369,
    "start_time": "2022-02-21T08:02:52.709Z"
   },
   {
    "duration": 2,
    "start_time": "2022-02-21T08:03:04.509Z"
   },
   {
    "duration": 83,
    "start_time": "2022-02-21T08:03:04.725Z"
   },
   {
    "duration": 13,
    "start_time": "2022-02-21T08:03:04.918Z"
   },
   {
    "duration": 13,
    "start_time": "2022-02-21T08:03:05.425Z"
   },
   {
    "duration": 10,
    "start_time": "2022-02-21T08:03:05.449Z"
   },
   {
    "duration": 5,
    "start_time": "2022-02-21T08:03:05.516Z"
   },
   {
    "duration": 9,
    "start_time": "2022-02-21T08:03:05.559Z"
   },
   {
    "duration": 21,
    "start_time": "2022-02-21T08:03:05.583Z"
   },
   {
    "duration": 12,
    "start_time": "2022-02-21T08:03:05.619Z"
   },
   {
    "duration": 16,
    "start_time": "2022-02-21T08:03:05.813Z"
   },
   {
    "duration": 33,
    "start_time": "2022-02-21T08:03:05.847Z"
   },
   {
    "duration": 12,
    "start_time": "2022-02-21T08:03:05.886Z"
   },
   {
    "duration": 12,
    "start_time": "2022-02-21T08:03:05.922Z"
   },
   {
    "duration": 7,
    "start_time": "2022-02-21T08:03:05.947Z"
   },
   {
    "duration": 18,
    "start_time": "2022-02-21T08:03:06.013Z"
   },
   {
    "duration": 22,
    "start_time": "2022-02-21T08:03:06.078Z"
   },
   {
    "duration": 6,
    "start_time": "2022-02-21T08:03:06.805Z"
   },
   {
    "duration": 27,
    "start_time": "2022-02-21T08:03:07.398Z"
   },
   {
    "duration": 7,
    "start_time": "2022-02-21T08:03:07.909Z"
   },
   {
    "duration": 9,
    "start_time": "2022-02-21T08:03:08.541Z"
   },
   {
    "duration": 12,
    "start_time": "2022-02-21T08:03:08.773Z"
   },
   {
    "duration": 4,
    "start_time": "2022-02-21T08:03:09.253Z"
   },
   {
    "duration": 18,
    "start_time": "2022-02-21T08:03:09.637Z"
   },
   {
    "duration": 442,
    "start_time": "2022-02-21T08:03:10.613Z"
   },
   {
    "duration": 101,
    "start_time": "2022-02-21T08:04:39.517Z"
   },
   {
    "duration": 12,
    "start_time": "2022-02-21T08:05:05.247Z"
   },
   {
    "duration": 298,
    "start_time": "2022-02-21T08:05:44.526Z"
   },
   {
    "duration": 392,
    "start_time": "2022-02-21T08:09:06.999Z"
   },
   {
    "duration": 397,
    "start_time": "2022-02-21T08:09:21.670Z"
   },
   {
    "duration": 295,
    "start_time": "2022-02-21T08:09:54.350Z"
   },
   {
    "duration": 911,
    "start_time": "2022-02-21T08:11:06.199Z"
   },
   {
    "duration": 6,
    "start_time": "2022-02-21T08:11:16.134Z"
   },
   {
    "duration": 591,
    "start_time": "2022-02-21T08:11:31.063Z"
   },
   {
    "duration": 3,
    "start_time": "2022-02-21T08:12:27.422Z"
   },
   {
    "duration": 6,
    "start_time": "2022-02-21T08:12:47.663Z"
   },
   {
    "duration": 312,
    "start_time": "2022-02-21T08:13:10.807Z"
   },
   {
    "duration": 5,
    "start_time": "2022-02-21T08:16:33.183Z"
   },
   {
    "duration": 3,
    "start_time": "2022-02-21T08:16:53.118Z"
   },
   {
    "duration": 50,
    "start_time": "2022-02-21T08:16:53.624Z"
   },
   {
    "duration": 15,
    "start_time": "2022-02-21T08:16:53.676Z"
   },
   {
    "duration": 13,
    "start_time": "2022-02-21T08:16:53.693Z"
   },
   {
    "duration": 5,
    "start_time": "2022-02-21T08:16:53.721Z"
   },
   {
    "duration": 5,
    "start_time": "2022-02-21T08:16:53.783Z"
   },
   {
    "duration": 6,
    "start_time": "2022-02-21T08:16:53.822Z"
   },
   {
    "duration": 16,
    "start_time": "2022-02-21T08:16:53.858Z"
   },
   {
    "duration": 13,
    "start_time": "2022-02-21T08:16:53.885Z"
   },
   {
    "duration": 16,
    "start_time": "2022-02-21T08:16:54.080Z"
   },
   {
    "duration": 33,
    "start_time": "2022-02-21T08:16:54.112Z"
   },
   {
    "duration": 10,
    "start_time": "2022-02-21T08:16:54.150Z"
   },
   {
    "duration": 11,
    "start_time": "2022-02-21T08:16:54.184Z"
   },
   {
    "duration": 6,
    "start_time": "2022-02-21T08:16:54.222Z"
   },
   {
    "duration": 17,
    "start_time": "2022-02-21T08:16:54.314Z"
   },
   {
    "duration": 20,
    "start_time": "2022-02-21T08:16:54.364Z"
   },
   {
    "duration": 6,
    "start_time": "2022-02-21T08:16:54.409Z"
   },
   {
    "duration": 28,
    "start_time": "2022-02-21T08:16:54.451Z"
   },
   {
    "duration": 8,
    "start_time": "2022-02-21T08:16:54.483Z"
   },
   {
    "duration": 9,
    "start_time": "2022-02-21T08:16:54.507Z"
   },
   {
    "duration": 13,
    "start_time": "2022-02-21T08:16:55.254Z"
   },
   {
    "duration": 5,
    "start_time": "2022-02-21T08:16:55.726Z"
   },
   {
    "duration": 19,
    "start_time": "2022-02-21T08:16:56.086Z"
   },
   {
    "duration": 6,
    "start_time": "2022-02-21T08:16:56.486Z"
   },
   {
    "duration": 27,
    "start_time": "2022-02-21T08:17:00.222Z"
   },
   {
    "duration": 5,
    "start_time": "2022-02-21T08:17:00.447Z"
   },
   {
    "duration": 5,
    "start_time": "2022-02-21T08:17:18.815Z"
   },
   {
    "duration": 7,
    "start_time": "2022-02-21T08:17:55.687Z"
   },
   {
    "duration": 5,
    "start_time": "2022-02-21T08:18:36.295Z"
   },
   {
    "duration": 7,
    "start_time": "2022-02-21T08:18:42.454Z"
   },
   {
    "duration": 8,
    "start_time": "2022-02-21T09:08:25.158Z"
   },
   {
    "duration": 6,
    "start_time": "2022-02-21T09:08:44.362Z"
   },
   {
    "duration": 7,
    "start_time": "2022-02-21T09:09:00.844Z"
   },
   {
    "duration": 8,
    "start_time": "2022-02-21T09:21:51.253Z"
   },
   {
    "duration": 4,
    "start_time": "2022-02-21T09:28:12.566Z"
   },
   {
    "duration": 9,
    "start_time": "2022-02-21T09:28:22.061Z"
   },
   {
    "duration": 7,
    "start_time": "2022-02-21T09:28:44.270Z"
   },
   {
    "duration": 7,
    "start_time": "2022-02-21T09:28:52.805Z"
   },
   {
    "duration": 7,
    "start_time": "2022-02-21T09:28:53.398Z"
   },
   {
    "duration": 3,
    "start_time": "2022-02-21T09:28:57.981Z"
   },
   {
    "duration": 50,
    "start_time": "2022-02-21T09:28:58.482Z"
   },
   {
    "duration": 14,
    "start_time": "2022-02-21T09:28:58.534Z"
   },
   {
    "duration": 10,
    "start_time": "2022-02-21T09:28:58.553Z"
   },
   {
    "duration": 6,
    "start_time": "2022-02-21T09:28:58.584Z"
   },
   {
    "duration": 5,
    "start_time": "2022-02-21T09:28:58.646Z"
   },
   {
    "duration": 5,
    "start_time": "2022-02-21T09:28:58.692Z"
   },
   {
    "duration": 15,
    "start_time": "2022-02-21T09:28:58.717Z"
   },
   {
    "duration": 11,
    "start_time": "2022-02-21T09:28:58.744Z"
   },
   {
    "duration": 15,
    "start_time": "2022-02-21T09:28:58.944Z"
   },
   {
    "duration": 33,
    "start_time": "2022-02-21T09:28:58.978Z"
   },
   {
    "duration": 10,
    "start_time": "2022-02-21T09:28:59.013Z"
   },
   {
    "duration": 12,
    "start_time": "2022-02-21T09:28:59.048Z"
   },
   {
    "duration": 6,
    "start_time": "2022-02-21T09:28:59.076Z"
   },
   {
    "duration": 17,
    "start_time": "2022-02-21T09:28:59.142Z"
   },
   {
    "duration": 19,
    "start_time": "2022-02-21T09:28:59.868Z"
   },
   {
    "duration": 6,
    "start_time": "2022-02-21T09:29:00.629Z"
   },
   {
    "duration": 27,
    "start_time": "2022-02-21T09:29:01.029Z"
   },
   {
    "duration": 6,
    "start_time": "2022-02-21T09:29:01.406Z"
   },
   {
    "duration": 8,
    "start_time": "2022-02-21T09:29:01.853Z"
   },
   {
    "duration": 13,
    "start_time": "2022-02-21T09:29:02.302Z"
   },
   {
    "duration": 5,
    "start_time": "2022-02-21T09:29:02.852Z"
   },
   {
    "duration": 19,
    "start_time": "2022-02-21T09:29:03.374Z"
   },
   {
    "duration": 8,
    "start_time": "2022-02-21T09:29:04.357Z"
   },
   {
    "duration": 13,
    "start_time": "2022-02-21T09:29:05.261Z"
   },
   {
    "duration": 13,
    "start_time": "2022-02-21T09:29:23.253Z"
   },
   {
    "duration": 477,
    "start_time": "2022-02-21T09:35:13.093Z"
   },
   {
    "duration": 1601,
    "start_time": "2022-02-21T09:35:20.694Z"
   },
   {
    "duration": 2041,
    "start_time": "2022-02-21T09:35:26.806Z"
   },
   {
    "duration": 15,
    "start_time": "2022-02-21T09:36:46.486Z"
   },
   {
    "duration": 14,
    "start_time": "2022-02-21T09:37:43.983Z"
   },
   {
    "duration": 15,
    "start_time": "2022-02-21T09:37:54.518Z"
   },
   {
    "duration": 14,
    "start_time": "2022-02-21T09:37:55.031Z"
   },
   {
    "duration": 15,
    "start_time": "2022-02-21T09:37:55.678Z"
   },
   {
    "duration": 3,
    "start_time": "2022-02-21T09:38:10.782Z"
   },
   {
    "duration": 51,
    "start_time": "2022-02-21T09:38:11.006Z"
   },
   {
    "duration": 14,
    "start_time": "2022-02-21T09:38:11.183Z"
   },
   {
    "duration": 12,
    "start_time": "2022-02-21T09:38:11.381Z"
   },
   {
    "duration": 8,
    "start_time": "2022-02-21T09:38:11.582Z"
   },
   {
    "duration": 5,
    "start_time": "2022-02-21T09:38:11.982Z"
   },
   {
    "duration": 6,
    "start_time": "2022-02-21T09:38:12.190Z"
   },
   {
    "duration": 17,
    "start_time": "2022-02-21T09:38:12.365Z"
   },
   {
    "duration": 13,
    "start_time": "2022-02-21T09:38:12.566Z"
   },
   {
    "duration": 15,
    "start_time": "2022-02-21T09:38:13.926Z"
   },
   {
    "duration": 33,
    "start_time": "2022-02-21T09:38:14.151Z"
   },
   {
    "duration": 12,
    "start_time": "2022-02-21T09:38:14.358Z"
   },
   {
    "duration": 12,
    "start_time": "2022-02-21T09:38:14.614Z"
   },
   {
    "duration": 7,
    "start_time": "2022-02-21T09:38:14.982Z"
   },
   {
    "duration": 19,
    "start_time": "2022-02-21T09:38:15.767Z"
   },
   {
    "duration": 20,
    "start_time": "2022-02-21T09:38:16.382Z"
   },
   {
    "duration": 6,
    "start_time": "2022-02-21T09:38:17.325Z"
   },
   {
    "duration": 27,
    "start_time": "2022-02-21T09:38:17.670Z"
   },
   {
    "duration": 7,
    "start_time": "2022-02-21T09:38:17.982Z"
   },
   {
    "duration": 9,
    "start_time": "2022-02-21T09:38:18.406Z"
   },
   {
    "duration": 14,
    "start_time": "2022-02-21T09:38:18.990Z"
   },
   {
    "duration": 4,
    "start_time": "2022-02-21T09:38:19.879Z"
   },
   {
    "duration": 20,
    "start_time": "2022-02-21T09:38:20.846Z"
   },
   {
    "duration": 7,
    "start_time": "2022-02-21T09:38:24.398Z"
   },
   {
    "duration": 14,
    "start_time": "2022-02-21T09:38:33.494Z"
   },
   {
    "duration": 14,
    "start_time": "2022-02-21T09:38:34.614Z"
   },
   {
    "duration": 16,
    "start_time": "2022-02-21T09:38:37.334Z"
   },
   {
    "duration": 13,
    "start_time": "2022-02-21T09:39:06.126Z"
   },
   {
    "duration": 11,
    "start_time": "2022-02-21T09:39:42.206Z"
   },
   {
    "duration": 11,
    "start_time": "2022-02-21T09:40:16.246Z"
   },
   {
    "duration": 11,
    "start_time": "2022-02-21T09:40:26.838Z"
   },
   {
    "duration": 10,
    "start_time": "2022-02-21T09:40:27.270Z"
   },
   {
    "duration": 9,
    "start_time": "2022-02-21T09:40:53.064Z"
   },
   {
    "duration": 10,
    "start_time": "2022-02-21T09:41:05.286Z"
   },
   {
    "duration": 3,
    "start_time": "2022-02-21T09:42:23.878Z"
   },
   {
    "duration": 50,
    "start_time": "2022-02-21T09:42:24.370Z"
   },
   {
    "duration": 13,
    "start_time": "2022-02-21T09:42:24.422Z"
   },
   {
    "duration": 19,
    "start_time": "2022-02-21T09:42:24.441Z"
   },
   {
    "duration": 6,
    "start_time": "2022-02-21T09:42:24.468Z"
   },
   {
    "duration": 5,
    "start_time": "2022-02-21T09:42:24.534Z"
   },
   {
    "duration": 6,
    "start_time": "2022-02-21T09:42:24.569Z"
   },
   {
    "duration": 17,
    "start_time": "2022-02-21T09:42:24.599Z"
   },
   {
    "duration": 12,
    "start_time": "2022-02-21T09:42:24.632Z"
   },
   {
    "duration": 16,
    "start_time": "2022-02-21T09:42:24.834Z"
   },
   {
    "duration": 34,
    "start_time": "2022-02-21T09:42:24.868Z"
   },
   {
    "duration": 10,
    "start_time": "2022-02-21T09:42:24.912Z"
   },
   {
    "duration": 11,
    "start_time": "2022-02-21T09:42:24.938Z"
   },
   {
    "duration": 7,
    "start_time": "2022-02-21T09:42:24.965Z"
   },
   {
    "duration": 20,
    "start_time": "2022-02-21T09:42:25.048Z"
   },
   {
    "duration": 20,
    "start_time": "2022-02-21T09:42:26.095Z"
   },
   {
    "duration": 6,
    "start_time": "2022-02-21T09:42:26.702Z"
   },
   {
    "duration": 27,
    "start_time": "2022-02-21T09:42:26.904Z"
   },
   {
    "duration": 7,
    "start_time": "2022-02-21T09:42:27.126Z"
   },
   {
    "duration": 10,
    "start_time": "2022-02-21T09:42:27.446Z"
   },
   {
    "duration": 14,
    "start_time": "2022-02-21T09:42:27.670Z"
   },
   {
    "duration": 4,
    "start_time": "2022-02-21T09:42:27.902Z"
   },
   {
    "duration": 20,
    "start_time": "2022-02-21T09:42:28.495Z"
   },
   {
    "duration": 8,
    "start_time": "2022-02-21T09:42:29.182Z"
   },
   {
    "duration": 14,
    "start_time": "2022-02-21T09:42:29.854Z"
   },
   {
    "duration": 10,
    "start_time": "2022-02-21T09:42:31.070Z"
   },
   {
    "duration": 10,
    "start_time": "2022-02-21T09:42:33.758Z"
   },
   {
    "duration": 15,
    "start_time": "2022-02-21T09:43:12.550Z"
   },
   {
    "duration": 13,
    "start_time": "2022-02-21T09:43:22.271Z"
   },
   {
    "duration": 300,
    "start_time": "2022-02-21T09:43:41.598Z"
   },
   {
    "duration": 15,
    "start_time": "2022-02-21T09:43:44.110Z"
   },
   {
    "duration": 16,
    "start_time": "2022-02-21T09:44:06.711Z"
   },
   {
    "duration": 4879,
    "start_time": "2022-02-21T09:44:56.575Z"
   },
   {
    "duration": 341,
    "start_time": "2022-02-21T09:45:34.383Z"
   },
   {
    "duration": 161,
    "start_time": "2022-02-21T09:45:55.566Z"
   },
   {
    "duration": 7,
    "start_time": "2022-02-21T09:46:02.927Z"
   },
   {
    "duration": 643,
    "start_time": "2022-02-21T09:46:09.983Z"
   },
   {
    "duration": 8,
    "start_time": "2022-02-21T09:46:23.903Z"
   },
   {
    "duration": 8,
    "start_time": "2022-02-21T09:46:57.767Z"
   },
   {
    "duration": 13,
    "start_time": "2022-02-21T09:50:32.048Z"
   },
   {
    "duration": 5,
    "start_time": "2022-02-21T09:51:05.999Z"
   },
   {
    "duration": 5,
    "start_time": "2022-02-21T09:52:18.256Z"
   },
   {
    "duration": 7,
    "start_time": "2022-02-21T09:52:26.599Z"
   },
   {
    "duration": 8,
    "start_time": "2022-02-21T09:52:48.545Z"
   },
   {
    "duration": 12,
    "start_time": "2022-02-21T09:53:04.824Z"
   },
   {
    "duration": 14,
    "start_time": "2022-02-21T09:53:11.632Z"
   },
   {
    "duration": 5,
    "start_time": "2022-02-21T09:55:31.936Z"
   },
   {
    "duration": 6,
    "start_time": "2022-02-21T09:59:07.833Z"
   },
   {
    "duration": 373,
    "start_time": "2022-02-21T09:59:22.544Z"
   },
   {
    "duration": 117,
    "start_time": "2022-02-21T09:59:47.880Z"
   },
   {
    "duration": 1259,
    "start_time": "2022-02-21T09:59:51.240Z"
   },
   {
    "duration": 758,
    "start_time": "2022-02-21T10:00:11.161Z"
   },
   {
    "duration": 345,
    "start_time": "2022-02-21T10:01:28.249Z"
   },
   {
    "duration": 14533,
    "start_time": "2022-02-21T10:07:24.449Z"
   },
   {
    "duration": -187,
    "start_time": "2022-02-21T10:07:54.560Z"
   },
   {
    "duration": -188,
    "start_time": "2022-02-21T10:07:54.563Z"
   },
   {
    "duration": -189,
    "start_time": "2022-02-21T10:07:54.565Z"
   },
   {
    "duration": -189,
    "start_time": "2022-02-21T10:07:54.567Z"
   },
   {
    "duration": -215,
    "start_time": "2022-02-21T10:07:54.595Z"
   },
   {
    "duration": -217,
    "start_time": "2022-02-21T10:07:54.598Z"
   },
   {
    "duration": -238,
    "start_time": "2022-02-21T10:07:54.621Z"
   },
   {
    "duration": -239,
    "start_time": "2022-02-21T10:07:54.623Z"
   },
   {
    "duration": -239,
    "start_time": "2022-02-21T10:07:54.625Z"
   },
   {
    "duration": -241,
    "start_time": "2022-02-21T10:07:54.628Z"
   },
   {
    "duration": -241,
    "start_time": "2022-02-21T10:07:54.630Z"
   },
   {
    "duration": -242,
    "start_time": "2022-02-21T10:07:54.632Z"
   },
   {
    "duration": -278,
    "start_time": "2022-02-21T10:07:54.669Z"
   },
   {
    "duration": -428,
    "start_time": "2022-02-21T10:07:54.821Z"
   },
   {
    "duration": -430,
    "start_time": "2022-02-21T10:07:54.824Z"
   },
   {
    "duration": -431,
    "start_time": "2022-02-21T10:07:54.826Z"
   },
   {
    "duration": -433,
    "start_time": "2022-02-21T10:07:54.829Z"
   },
   {
    "duration": -433,
    "start_time": "2022-02-21T10:07:54.830Z"
   },
   {
    "duration": 15871,
    "start_time": "2022-02-21T10:07:54.399Z"
   },
   {
    "duration": -141,
    "start_time": "2022-02-21T10:08:10.413Z"
   },
   {
    "duration": -148,
    "start_time": "2022-02-21T10:08:10.421Z"
   },
   {
    "duration": -151,
    "start_time": "2022-02-21T10:08:10.425Z"
   },
   {
    "duration": -153,
    "start_time": "2022-02-21T10:08:10.428Z"
   },
   {
    "duration": -154,
    "start_time": "2022-02-21T10:08:10.430Z"
   },
   {
    "duration": -157,
    "start_time": "2022-02-21T10:08:10.434Z"
   },
   {
    "duration": -162,
    "start_time": "2022-02-21T10:08:10.440Z"
   },
   {
    "duration": -163,
    "start_time": "2022-02-21T10:08:10.442Z"
   },
   {
    "duration": -165,
    "start_time": "2022-02-21T10:08:10.445Z"
   },
   {
    "duration": -166,
    "start_time": "2022-02-21T10:08:10.447Z"
   },
   {
    "duration": -168,
    "start_time": "2022-02-21T10:08:10.451Z"
   },
   {
    "duration": -131,
    "start_time": "2022-02-21T10:08:28.198Z"
   },
   {
    "duration": -132,
    "start_time": "2022-02-21T10:08:28.200Z"
   },
   {
    "duration": -133,
    "start_time": "2022-02-21T10:08:28.202Z"
   },
   {
    "duration": -133,
    "start_time": "2022-02-21T10:08:28.204Z"
   },
   {
    "duration": -134,
    "start_time": "2022-02-21T10:08:28.206Z"
   },
   {
    "duration": -135,
    "start_time": "2022-02-21T10:08:28.208Z"
   },
   {
    "duration": -135,
    "start_time": "2022-02-21T10:08:28.210Z"
   },
   {
    "duration": -136,
    "start_time": "2022-02-21T10:08:28.212Z"
   },
   {
    "duration": -137,
    "start_time": "2022-02-21T10:08:28.214Z"
   },
   {
    "duration": -150,
    "start_time": "2022-02-21T10:08:28.228Z"
   },
   {
    "duration": -150,
    "start_time": "2022-02-21T10:08:28.230Z"
   },
   {
    "duration": -154,
    "start_time": "2022-02-21T10:08:28.235Z"
   },
   {
    "duration": -157,
    "start_time": "2022-02-21T10:08:28.239Z"
   },
   {
    "duration": -158,
    "start_time": "2022-02-21T10:08:28.242Z"
   },
   {
    "duration": -159,
    "start_time": "2022-02-21T10:08:28.244Z"
   },
   {
    "duration": -160,
    "start_time": "2022-02-21T10:08:28.247Z"
   },
   {
    "duration": -161,
    "start_time": "2022-02-21T10:08:28.249Z"
   },
   {
    "duration": -164,
    "start_time": "2022-02-21T10:08:28.252Z"
   },
   {
    "duration": -164,
    "start_time": "2022-02-21T10:08:28.254Z"
   },
   {
    "duration": -165,
    "start_time": "2022-02-21T10:08:28.256Z"
   },
   {
    "duration": -167,
    "start_time": "2022-02-21T10:08:28.258Z"
   },
   {
    "duration": -168,
    "start_time": "2022-02-21T10:08:28.260Z"
   },
   {
    "duration": -168,
    "start_time": "2022-02-21T10:08:28.262Z"
   },
   {
    "duration": -170,
    "start_time": "2022-02-21T10:08:28.265Z"
   },
   {
    "duration": -170,
    "start_time": "2022-02-21T10:08:28.267Z"
   },
   {
    "duration": -171,
    "start_time": "2022-02-21T10:08:28.269Z"
   },
   {
    "duration": -178,
    "start_time": "2022-02-21T10:08:28.277Z"
   },
   {
    "duration": -177,
    "start_time": "2022-02-21T10:08:28.278Z"
   },
   {
    "duration": 13,
    "start_time": "2022-02-21T10:08:40.153Z"
   },
   {
    "duration": 5,
    "start_time": "2022-02-21T10:08:40.969Z"
   },
   {
    "duration": 5,
    "start_time": "2022-02-21T10:09:08.985Z"
   },
   {
    "duration": -134,
    "start_time": "2022-02-21T10:09:34.173Z"
   },
   {
    "duration": 3,
    "start_time": "2022-02-21T10:09:34.561Z"
   },
   {
    "duration": 50,
    "start_time": "2022-02-21T10:09:35.066Z"
   },
   {
    "duration": 14,
    "start_time": "2022-02-21T10:09:35.119Z"
   },
   {
    "duration": 17,
    "start_time": "2022-02-21T10:09:35.135Z"
   },
   {
    "duration": 5,
    "start_time": "2022-02-21T10:09:35.156Z"
   },
   {
    "duration": 5,
    "start_time": "2022-02-21T10:09:35.226Z"
   },
   {
    "duration": 6,
    "start_time": "2022-02-21T10:09:35.255Z"
   },
   {
    "duration": 16,
    "start_time": "2022-02-21T10:09:35.286Z"
   },
   {
    "duration": 11,
    "start_time": "2022-02-21T10:09:35.319Z"
   },
   {
    "duration": 15,
    "start_time": "2022-02-21T10:09:35.521Z"
   },
   {
    "duration": 34,
    "start_time": "2022-02-21T10:09:35.550Z"
   },
   {
    "duration": 11,
    "start_time": "2022-02-21T10:09:35.637Z"
   },
   {
    "duration": 11,
    "start_time": "2022-02-21T10:09:35.667Z"
   },
   {
    "duration": 7,
    "start_time": "2022-02-21T10:09:37.569Z"
   },
   {
    "duration": 17,
    "start_time": "2022-02-21T10:09:37.969Z"
   },
   {
    "duration": 21,
    "start_time": "2022-02-21T10:09:38.337Z"
   },
   {
    "duration": 5,
    "start_time": "2022-02-21T10:09:38.992Z"
   },
   {
    "duration": 27,
    "start_time": "2022-02-21T10:09:39.250Z"
   },
   {
    "duration": 8,
    "start_time": "2022-02-21T10:09:39.497Z"
   },
   {
    "duration": 9,
    "start_time": "2022-02-21T10:09:40.057Z"
   },
   {
    "duration": 13,
    "start_time": "2022-02-21T10:09:40.297Z"
   },
   {
    "duration": 5,
    "start_time": "2022-02-21T10:09:40.441Z"
   },
   {
    "duration": 20,
    "start_time": "2022-02-21T10:09:40.625Z"
   },
   {
    "duration": 7,
    "start_time": "2022-02-21T10:09:40.866Z"
   },
   {
    "duration": 15,
    "start_time": "2022-02-21T10:09:41.064Z"
   },
   {
    "duration": 11,
    "start_time": "2022-02-21T10:09:41.274Z"
   },
   {
    "duration": 5,
    "start_time": "2022-02-21T10:09:41.576Z"
   },
   {
    "duration": -131,
    "start_time": "2022-02-21T10:09:52.111Z"
   },
   {
    "duration": -135,
    "start_time": "2022-02-21T10:09:52.117Z"
   },
   {
    "duration": 13753,
    "start_time": "2022-02-21T10:09:57.202Z"
   },
   {
    "duration": 15064,
    "start_time": "2022-02-21T10:10:46.690Z"
   },
   {
    "duration": -144,
    "start_time": "2022-02-21T10:11:01.900Z"
   },
   {
    "duration": -147,
    "start_time": "2022-02-21T10:11:01.904Z"
   },
   {
    "duration": -150,
    "start_time": "2022-02-21T10:11:01.908Z"
   },
   {
    "duration": -151,
    "start_time": "2022-02-21T10:11:01.910Z"
   },
   {
    "duration": -153,
    "start_time": "2022-02-21T10:11:01.913Z"
   },
   {
    "duration": -153,
    "start_time": "2022-02-21T10:11:01.915Z"
   },
   {
    "duration": -154,
    "start_time": "2022-02-21T10:11:01.917Z"
   },
   {
    "duration": -156,
    "start_time": "2022-02-21T10:11:01.920Z"
   },
   {
    "duration": -159,
    "start_time": "2022-02-21T10:11:01.924Z"
   },
   {
    "duration": -164,
    "start_time": "2022-02-21T10:11:01.930Z"
   },
   {
    "duration": -166,
    "start_time": "2022-02-21T10:11:01.933Z"
   },
   {
    "duration": 18800,
    "start_time": "2022-02-21T10:11:02.297Z"
   },
   {
    "duration": -156,
    "start_time": "2022-02-21T10:11:21.255Z"
   },
   {
    "duration": -157,
    "start_time": "2022-02-21T10:11:21.257Z"
   },
   {
    "duration": -159,
    "start_time": "2022-02-21T10:11:21.261Z"
   },
   {
    "duration": -131,
    "start_time": "2022-02-21T10:11:39.682Z"
   },
   {
    "duration": -134,
    "start_time": "2022-02-21T10:11:39.686Z"
   },
   {
    "duration": -134,
    "start_time": "2022-02-21T10:11:39.687Z"
   },
   {
    "duration": -135,
    "start_time": "2022-02-21T10:11:39.689Z"
   },
   {
    "duration": -136,
    "start_time": "2022-02-21T10:11:39.691Z"
   },
   {
    "duration": -137,
    "start_time": "2022-02-21T10:11:39.693Z"
   },
   {
    "duration": -138,
    "start_time": "2022-02-21T10:11:39.695Z"
   },
   {
    "duration": -139,
    "start_time": "2022-02-21T10:11:39.697Z"
   },
   {
    "duration": -140,
    "start_time": "2022-02-21T10:11:39.698Z"
   },
   {
    "duration": -141,
    "start_time": "2022-02-21T10:11:39.700Z"
   },
   {
    "duration": 16,
    "start_time": "2022-02-21T10:11:39.856Z"
   },
   {
    "duration": 29,
    "start_time": "2022-02-21T10:11:40.026Z"
   },
   {
    "duration": 10433,
    "start_time": "2022-02-21T10:11:40.211Z"
   },
   {
    "duration": -137,
    "start_time": "2022-02-21T10:11:50.784Z"
   },
   {
    "duration": -141,
    "start_time": "2022-02-21T10:11:50.789Z"
   },
   {
    "duration": -147,
    "start_time": "2022-02-21T10:11:50.796Z"
   },
   {
    "duration": 3,
    "start_time": "2022-02-21T10:12:26.456Z"
   },
   {
    "duration": 45,
    "start_time": "2022-02-21T10:12:26.824Z"
   },
   {
    "duration": 15,
    "start_time": "2022-02-21T10:12:27.280Z"
   },
   {
    "duration": 11,
    "start_time": "2022-02-21T10:12:28.793Z"
   },
   {
    "duration": 7,
    "start_time": "2022-02-21T10:12:32.017Z"
   },
   {
    "duration": 5,
    "start_time": "2022-02-21T10:12:37.097Z"
   },
   {
    "duration": 7,
    "start_time": "2022-02-21T10:12:38.530Z"
   },
   {
    "duration": 16,
    "start_time": "2022-02-21T10:12:39.801Z"
   },
   {
    "duration": 13,
    "start_time": "2022-02-21T10:12:43.369Z"
   },
   {
    "duration": 31,
    "start_time": "2022-02-21T10:12:49.008Z"
   },
   {
    "duration": 35,
    "start_time": "2022-02-21T10:12:52.529Z"
   },
   {
    "duration": 11,
    "start_time": "2022-02-21T10:12:55.313Z"
   },
   {
    "duration": 12,
    "start_time": "2022-02-21T10:12:58.121Z"
   },
   {
    "duration": 6,
    "start_time": "2022-02-21T10:12:59.680Z"
   },
   {
    "duration": 17,
    "start_time": "2022-02-21T10:13:06.993Z"
   },
   {
    "duration": 390,
    "start_time": "2022-02-21T10:13:14.091Z"
   },
   {
    "duration": 4,
    "start_time": "2022-02-21T10:14:29.010Z"
   },
   {
    "duration": 8,
    "start_time": "2022-02-21T10:14:39.243Z"
   },
   {
    "duration": 1014,
    "start_time": "2022-02-21T10:14:50.946Z"
   },
   {
    "duration": 8,
    "start_time": "2022-02-21T10:15:02.066Z"
   },
   {
    "duration": 356,
    "start_time": "2022-02-21T10:15:51.323Z"
   },
   {
    "duration": 847,
    "start_time": "2022-02-21T10:16:02.803Z"
   },
   {
    "duration": 2,
    "start_time": "2022-02-21T10:16:10.538Z"
   },
   {
    "duration": 3,
    "start_time": "2022-02-21T10:16:22.722Z"
   },
   {
    "duration": 53,
    "start_time": "2022-02-21T10:16:22.922Z"
   },
   {
    "duration": 14,
    "start_time": "2022-02-21T10:16:23.098Z"
   },
   {
    "duration": 13,
    "start_time": "2022-02-21T10:16:23.266Z"
   },
   {
    "duration": 7,
    "start_time": "2022-02-21T10:16:23.449Z"
   },
   {
    "duration": 5,
    "start_time": "2022-02-21T10:16:23.801Z"
   },
   {
    "duration": 5,
    "start_time": "2022-02-21T10:16:24.474Z"
   },
   {
    "duration": 15,
    "start_time": "2022-02-21T10:16:24.786Z"
   },
   {
    "duration": 13,
    "start_time": "2022-02-21T10:16:25.162Z"
   },
   {
    "duration": 16,
    "start_time": "2022-02-21T10:16:27.442Z"
   },
   {
    "duration": 33,
    "start_time": "2022-02-21T10:16:27.746Z"
   },
   {
    "duration": 11,
    "start_time": "2022-02-21T10:16:28.066Z"
   },
   {
    "duration": 12,
    "start_time": "2022-02-21T10:16:28.657Z"
   },
   {
    "duration": 6,
    "start_time": "2022-02-21T10:16:29.122Z"
   },
   {
    "duration": 16,
    "start_time": "2022-02-21T10:16:31.018Z"
   },
   {
    "duration": 669,
    "start_time": "2022-02-21T10:27:18.139Z"
   },
   {
    "duration": 3,
    "start_time": "2022-02-21T10:27:26.243Z"
   },
   {
    "duration": 45,
    "start_time": "2022-02-21T10:27:26.699Z"
   },
   {
    "duration": 14,
    "start_time": "2022-02-21T10:27:26.980Z"
   },
   {
    "duration": 12,
    "start_time": "2022-02-21T10:27:27.371Z"
   },
   {
    "duration": 6,
    "start_time": "2022-02-21T10:27:27.803Z"
   },
   {
    "duration": 5,
    "start_time": "2022-02-21T10:27:28.548Z"
   },
   {
    "duration": 6,
    "start_time": "2022-02-21T10:27:28.888Z"
   },
   {
    "duration": 15,
    "start_time": "2022-02-21T10:27:29.260Z"
   },
   {
    "duration": 12,
    "start_time": "2022-02-21T10:27:29.859Z"
   },
   {
    "duration": 17,
    "start_time": "2022-02-21T10:27:33.459Z"
   },
   {
    "duration": 36,
    "start_time": "2022-02-21T10:27:33.907Z"
   },
   {
    "duration": 10,
    "start_time": "2022-02-21T10:27:34.699Z"
   },
   {
    "duration": 12,
    "start_time": "2022-02-21T10:27:35.587Z"
   },
   {
    "duration": 7,
    "start_time": "2022-02-21T10:27:36.698Z"
   },
   {
    "duration": 326,
    "start_time": "2022-02-21T10:27:38.851Z"
   },
   {
    "duration": 22,
    "start_time": "2022-02-21T10:27:55.180Z"
   },
   {
    "duration": 43,
    "start_time": "2022-02-21T10:28:05.355Z"
   },
   {
    "duration": 45,
    "start_time": "2022-02-21T10:28:20.171Z"
   },
   {
    "duration": 42,
    "start_time": "2022-02-21T10:28:33.692Z"
   },
   {
    "duration": 24,
    "start_time": "2022-02-21T10:28:41.595Z"
   },
   {
    "duration": 319,
    "start_time": "2022-02-21T10:28:59.796Z"
   },
   {
    "duration": 24,
    "start_time": "2022-02-21T10:29:05.429Z"
   },
   {
    "duration": 28,
    "start_time": "2022-02-21T10:29:32.828Z"
   },
   {
    "duration": 25,
    "start_time": "2022-02-21T10:30:11.107Z"
   },
   {
    "duration": 387,
    "start_time": "2022-02-21T10:31:45.300Z"
   },
   {
    "duration": 24,
    "start_time": "2022-02-21T10:31:49.523Z"
   },
   {
    "duration": 5,
    "start_time": "2022-02-21T10:32:06.076Z"
   },
   {
    "duration": 25,
    "start_time": "2022-02-21T10:32:06.900Z"
   },
   {
    "duration": 50,
    "start_time": "2022-02-21T10:32:34.532Z"
   },
   {
    "duration": 24,
    "start_time": "2022-02-21T10:32:44.950Z"
   },
   {
    "duration": 4195,
    "start_time": "2022-02-21T10:34:27.796Z"
   },
   {
    "duration": 357,
    "start_time": "2022-02-21T10:34:32.787Z"
   },
   {
    "duration": 5,
    "start_time": "2022-02-21T10:40:08.349Z"
   },
   {
    "duration": 24,
    "start_time": "2022-02-21T10:42:14.827Z"
   },
   {
    "duration": 15,
    "start_time": "2022-02-21T10:42:21.134Z"
   },
   {
    "duration": 11,
    "start_time": "2022-02-21T10:42:23.108Z"
   },
   {
    "duration": 13,
    "start_time": "2022-02-21T10:42:29.404Z"
   },
   {
    "duration": 15,
    "start_time": "2022-02-21T10:42:36.534Z"
   },
   {
    "duration": 738,
    "start_time": "2022-02-21T10:42:51.685Z"
   },
   {
    "duration": 3,
    "start_time": "2022-02-21T10:43:01.749Z"
   },
   {
    "duration": 45,
    "start_time": "2022-02-21T10:43:02.258Z"
   },
   {
    "duration": 12,
    "start_time": "2022-02-21T10:43:02.305Z"
   },
   {
    "duration": 19,
    "start_time": "2022-02-21T10:43:02.322Z"
   },
   {
    "duration": 6,
    "start_time": "2022-02-21T10:43:02.356Z"
   },
   {
    "duration": 5,
    "start_time": "2022-02-21T10:43:02.415Z"
   },
   {
    "duration": 6,
    "start_time": "2022-02-21T10:43:02.451Z"
   },
   {
    "duration": 16,
    "start_time": "2022-02-21T10:43:02.482Z"
   },
   {
    "duration": 13,
    "start_time": "2022-02-21T10:43:02.514Z"
   },
   {
    "duration": 16,
    "start_time": "2022-02-21T10:43:09.284Z"
   },
   {
    "duration": 35,
    "start_time": "2022-02-21T10:43:09.750Z"
   },
   {
    "duration": 11,
    "start_time": "2022-02-21T10:43:10.513Z"
   },
   {
    "duration": 13,
    "start_time": "2022-02-21T10:43:11.245Z"
   },
   {
    "duration": 7,
    "start_time": "2022-02-21T10:43:11.972Z"
   },
   {
    "duration": 15,
    "start_time": "2022-02-21T10:43:13.637Z"
   },
   {
    "duration": 15,
    "start_time": "2022-02-21T10:43:15.341Z"
   },
   {
    "duration": 14,
    "start_time": "2022-02-21T10:43:27.342Z"
   },
   {
    "duration": 16,
    "start_time": "2022-02-21T10:48:29.814Z"
   },
   {
    "duration": 20,
    "start_time": "2022-02-21T10:48:31.797Z"
   },
   {
    "duration": 6,
    "start_time": "2022-02-21T10:48:32.901Z"
   },
   {
    "duration": 28,
    "start_time": "2022-02-21T10:48:33.190Z"
   },
   {
    "duration": 8,
    "start_time": "2022-02-21T10:48:33.646Z"
   },
   {
    "duration": 8,
    "start_time": "2022-02-21T10:48:33.997Z"
   },
   {
    "duration": 14,
    "start_time": "2022-02-21T10:48:34.334Z"
   },
   {
    "duration": 4,
    "start_time": "2022-02-21T10:48:34.766Z"
   },
   {
    "duration": 20,
    "start_time": "2022-02-21T10:48:35.158Z"
   },
   {
    "duration": 7,
    "start_time": "2022-02-21T10:48:35.709Z"
   },
   {
    "duration": 14,
    "start_time": "2022-02-21T10:48:36.181Z"
   },
   {
    "duration": 15,
    "start_time": "2022-02-21T10:48:36.605Z"
   },
   {
    "duration": 296,
    "start_time": "2022-02-21T10:48:37.046Z"
   },
   {
    "duration": 310,
    "start_time": "2022-02-21T10:49:28.952Z"
   },
   {
    "duration": 8,
    "start_time": "2022-02-21T10:49:48.799Z"
   },
   {
    "duration": 3,
    "start_time": "2022-02-21T10:50:11.358Z"
   },
   {
    "duration": 47,
    "start_time": "2022-02-21T10:50:11.741Z"
   },
   {
    "duration": 13,
    "start_time": "2022-02-21T10:50:11.919Z"
   },
   {
    "duration": 13,
    "start_time": "2022-02-21T10:50:12.101Z"
   },
   {
    "duration": 7,
    "start_time": "2022-02-21T10:50:12.278Z"
   },
   {
    "duration": 5,
    "start_time": "2022-02-21T10:50:12.677Z"
   },
   {
    "duration": 6,
    "start_time": "2022-02-21T10:50:12.886Z"
   },
   {
    "duration": 16,
    "start_time": "2022-02-21T10:50:13.070Z"
   },
   {
    "duration": 12,
    "start_time": "2022-02-21T10:50:13.253Z"
   },
   {
    "duration": 15,
    "start_time": "2022-02-21T10:50:14.510Z"
   },
   {
    "duration": 34,
    "start_time": "2022-02-21T10:50:14.830Z"
   },
   {
    "duration": 11,
    "start_time": "2022-02-21T10:50:15.126Z"
   },
   {
    "duration": 12,
    "start_time": "2022-02-21T10:50:15.454Z"
   },
   {
    "duration": 7,
    "start_time": "2022-02-21T10:50:15.797Z"
   },
   {
    "duration": 15,
    "start_time": "2022-02-21T10:50:16.438Z"
   },
   {
    "duration": 13,
    "start_time": "2022-02-21T10:50:16.878Z"
   },
   {
    "duration": 17,
    "start_time": "2022-02-21T10:50:17.269Z"
   },
   {
    "duration": 20,
    "start_time": "2022-02-21T10:50:18.581Z"
   },
   {
    "duration": 6,
    "start_time": "2022-02-21T10:50:19.357Z"
   },
   {
    "duration": 26,
    "start_time": "2022-02-21T10:50:19.774Z"
   },
   {
    "duration": 6,
    "start_time": "2022-02-21T10:50:20.206Z"
   },
   {
    "duration": 10,
    "start_time": "2022-02-21T10:50:20.837Z"
   },
   {
    "duration": 12,
    "start_time": "2022-02-21T10:50:21.263Z"
   },
   {
    "duration": 4,
    "start_time": "2022-02-21T10:50:21.733Z"
   },
   {
    "duration": 20,
    "start_time": "2022-02-21T10:50:22.206Z"
   },
   {
    "duration": 8,
    "start_time": "2022-02-21T10:50:22.773Z"
   },
   {
    "duration": 14,
    "start_time": "2022-02-21T10:50:23.798Z"
   },
   {
    "duration": 12,
    "start_time": "2022-02-21T10:50:24.438Z"
   },
   {
    "duration": 9,
    "start_time": "2022-02-21T10:50:24.966Z"
   },
   {
    "duration": 12,
    "start_time": "2022-02-21T10:54:27.807Z"
   },
   {
    "duration": 386,
    "start_time": "2022-02-21T10:54:43.782Z"
   },
   {
    "duration": 581,
    "start_time": "2022-02-21T10:54:46.536Z"
   },
   {
    "duration": 2,
    "start_time": "2022-02-21T10:54:51.216Z"
   },
   {
    "duration": 47,
    "start_time": "2022-02-21T10:54:51.438Z"
   },
   {
    "duration": 14,
    "start_time": "2022-02-21T10:54:51.622Z"
   },
   {
    "duration": 12,
    "start_time": "2022-02-21T10:54:51.807Z"
   },
   {
    "duration": 7,
    "start_time": "2022-02-21T10:54:51.990Z"
   },
   {
    "duration": 5,
    "start_time": "2022-02-21T10:54:52.342Z"
   },
   {
    "duration": 6,
    "start_time": "2022-02-21T10:54:52.518Z"
   },
   {
    "duration": 15,
    "start_time": "2022-02-21T10:54:52.726Z"
   },
   {
    "duration": 12,
    "start_time": "2022-02-21T10:54:53.047Z"
   },
   {
    "duration": 17,
    "start_time": "2022-02-21T10:54:55.406Z"
   },
   {
    "duration": 36,
    "start_time": "2022-02-21T10:54:55.721Z"
   },
   {
    "duration": 12,
    "start_time": "2022-02-21T10:54:56.142Z"
   },
   {
    "duration": 11,
    "start_time": "2022-02-21T10:54:56.607Z"
   },
   {
    "duration": 7,
    "start_time": "2022-02-21T10:54:56.966Z"
   },
   {
    "duration": 14,
    "start_time": "2022-02-21T10:54:57.750Z"
   },
   {
    "duration": 15,
    "start_time": "2022-02-21T10:54:58.511Z"
   },
   {
    "duration": 17,
    "start_time": "2022-02-21T10:54:59.246Z"
   },
   {
    "duration": 21,
    "start_time": "2022-02-21T10:55:01.206Z"
   },
   {
    "duration": 5,
    "start_time": "2022-02-21T10:55:02.015Z"
   },
   {
    "duration": 26,
    "start_time": "2022-02-21T10:55:02.374Z"
   },
   {
    "duration": 8,
    "start_time": "2022-02-21T10:55:02.630Z"
   },
   {
    "duration": 9,
    "start_time": "2022-02-21T10:55:02.942Z"
   },
   {
    "duration": 14,
    "start_time": "2022-02-21T10:55:03.262Z"
   },
   {
    "duration": 5,
    "start_time": "2022-02-21T10:55:03.510Z"
   },
   {
    "duration": 28,
    "start_time": "2022-02-21T10:55:03.825Z"
   },
   {
    "duration": 8,
    "start_time": "2022-02-21T10:55:04.205Z"
   },
   {
    "duration": 14,
    "start_time": "2022-02-21T10:55:04.526Z"
   },
   {
    "duration": 12,
    "start_time": "2022-02-21T10:55:04.927Z"
   },
   {
    "duration": 14,
    "start_time": "2022-02-21T10:55:15.368Z"
   },
   {
    "duration": 11,
    "start_time": "2022-02-21T10:56:12.759Z"
   },
   {
    "duration": 12,
    "start_time": "2022-02-21T10:58:03.032Z"
   },
   {
    "duration": 163,
    "start_time": "2022-02-21T11:01:05.680Z"
   },
   {
    "duration": 19,
    "start_time": "2022-02-21T11:01:14.064Z"
   },
   {
    "duration": 9,
    "start_time": "2022-02-21T11:02:16.576Z"
   },
   {
    "duration": 7,
    "start_time": "2022-02-21T11:03:28.448Z"
   },
   {
    "duration": 8,
    "start_time": "2022-02-21T11:04:34.848Z"
   },
   {
    "duration": 17,
    "start_time": "2022-02-21T11:05:24.367Z"
   },
   {
    "duration": 665,
    "start_time": "2022-02-21T11:07:07.057Z"
   },
   {
    "duration": 10,
    "start_time": "2022-02-21T11:07:20.392Z"
   },
   {
    "duration": 9,
    "start_time": "2022-02-21T11:07:42.328Z"
   },
   {
    "duration": 10,
    "start_time": "2022-02-21T11:07:52.272Z"
   },
   {
    "duration": 8,
    "start_time": "2022-02-21T11:07:59.512Z"
   },
   {
    "duration": 14,
    "start_time": "2022-02-21T11:08:11.464Z"
   },
   {
    "duration": 14,
    "start_time": "2022-02-21T11:11:01.048Z"
   },
   {
    "duration": 27,
    "start_time": "2022-02-21T11:12:07.865Z"
   },
   {
    "duration": 26,
    "start_time": "2022-02-21T11:12:18.449Z"
   },
   {
    "duration": 24,
    "start_time": "2022-02-21T11:15:36.120Z"
   },
   {
    "duration": 23,
    "start_time": "2022-02-21T11:16:39.584Z"
   },
   {
    "duration": 3,
    "start_time": "2022-02-21T11:25:46.449Z"
   },
   {
    "duration": 64,
    "start_time": "2022-02-21T11:25:48.728Z"
   },
   {
    "duration": 20,
    "start_time": "2022-02-21T11:25:53.753Z"
   },
   {
    "duration": 14,
    "start_time": "2022-02-21T11:26:02.769Z"
   },
   {
    "duration": 17,
    "start_time": "2022-02-21T11:26:31.745Z"
   },
   {
    "duration": 7,
    "start_time": "2022-02-21T11:31:57.594Z"
   },
   {
    "duration": 9,
    "start_time": "2022-02-21T11:32:07.881Z"
   },
   {
    "duration": 212,
    "start_time": "2022-02-21T11:34:52.610Z"
   },
   {
    "duration": 221,
    "start_time": "2022-02-21T11:35:05.034Z"
   },
   {
    "duration": 221,
    "start_time": "2022-02-21T11:35:11.305Z"
   },
   {
    "duration": 69,
    "start_time": "2022-02-21T11:35:20.066Z"
   },
   {
    "duration": 71,
    "start_time": "2022-02-21T11:35:34.330Z"
   },
   {
    "duration": 6,
    "start_time": "2022-02-21T11:35:43.028Z"
   },
   {
    "duration": 7,
    "start_time": "2022-02-21T11:35:50.082Z"
   },
   {
    "duration": 218,
    "start_time": "2022-02-21T11:35:56.538Z"
   },
   {
    "duration": 6,
    "start_time": "2022-02-21T11:36:01.835Z"
   },
   {
    "duration": 263,
    "start_time": "2022-02-21T11:36:45.005Z"
   },
   {
    "duration": 6,
    "start_time": "2022-02-21T11:37:21.083Z"
   },
   {
    "duration": 5,
    "start_time": "2022-02-21T11:37:54.746Z"
   },
   {
    "duration": 33,
    "start_time": "2022-02-21T11:38:09.115Z"
   },
   {
    "duration": 242,
    "start_time": "2022-02-21T11:38:45.323Z"
   },
   {
    "duration": 31,
    "start_time": "2022-02-21T11:39:05.923Z"
   },
   {
    "duration": 30,
    "start_time": "2022-02-21T11:40:18.488Z"
   },
   {
    "duration": 124,
    "start_time": "2022-02-21T11:43:42.563Z"
   },
   {
    "duration": 6,
    "start_time": "2022-02-21T11:43:47.451Z"
   },
   {
    "duration": 6,
    "start_time": "2022-02-21T11:44:18.412Z"
   },
   {
    "duration": 7,
    "start_time": "2022-02-21T11:44:55.772Z"
   },
   {
    "duration": 5,
    "start_time": "2022-02-21T11:45:22.339Z"
   },
   {
    "duration": 4,
    "start_time": "2022-02-21T11:51:45.204Z"
   },
   {
    "duration": 4,
    "start_time": "2022-02-21T11:51:54.772Z"
   },
   {
    "duration": 235,
    "start_time": "2022-02-21T11:52:05.620Z"
   },
   {
    "duration": 71,
    "start_time": "2022-02-21T11:52:22.493Z"
   },
   {
    "duration": 5,
    "start_time": "2022-02-21T11:52:39.469Z"
   },
   {
    "duration": 8,
    "start_time": "2022-02-21T11:52:57.181Z"
   },
   {
    "duration": 5,
    "start_time": "2022-02-21T11:53:19.854Z"
   },
   {
    "duration": 5,
    "start_time": "2022-02-21T11:53:24.932Z"
   },
   {
    "duration": 5,
    "start_time": "2022-02-21T11:53:25.492Z"
   },
   {
    "duration": 73,
    "start_time": "2022-02-21T11:54:17.176Z"
   },
   {
    "duration": 96,
    "start_time": "2022-02-21T11:55:25.340Z"
   },
   {
    "duration": 83,
    "start_time": "2022-02-21T11:55:57.780Z"
   },
   {
    "duration": 79,
    "start_time": "2022-02-21T11:56:28.430Z"
   },
   {
    "duration": 69,
    "start_time": "2022-02-21T11:56:36.420Z"
   },
   {
    "duration": 122,
    "start_time": "2022-02-21T11:57:16.742Z"
   },
   {
    "duration": 125,
    "start_time": "2022-02-21T11:57:36.204Z"
   },
   {
    "duration": 6,
    "start_time": "2022-02-21T11:57:41.220Z"
   },
   {
    "duration": 205,
    "start_time": "2022-02-21T11:57:48.828Z"
   },
   {
    "duration": 6,
    "start_time": "2022-02-21T11:57:56.213Z"
   },
   {
    "duration": 5,
    "start_time": "2022-02-21T11:58:11.741Z"
   },
   {
    "duration": 6,
    "start_time": "2022-02-21T11:58:19.877Z"
   },
   {
    "duration": 8,
    "start_time": "2022-02-21T11:58:41.695Z"
   },
   {
    "duration": 8,
    "start_time": "2022-02-21T11:58:47.695Z"
   },
   {
    "duration": 70,
    "start_time": "2022-02-21T12:01:07.432Z"
   },
   {
    "duration": 7,
    "start_time": "2022-02-21T12:02:10.317Z"
   },
   {
    "duration": 6,
    "start_time": "2022-02-21T12:02:55.612Z"
   },
   {
    "duration": 16,
    "start_time": "2022-02-21T12:02:57.445Z"
   },
   {
    "duration": 7,
    "start_time": "2022-02-21T12:03:25.333Z"
   },
   {
    "duration": 32,
    "start_time": "2022-02-21T12:03:27.104Z"
   },
   {
    "duration": 6,
    "start_time": "2022-02-21T12:04:01.783Z"
   },
   {
    "duration": 18,
    "start_time": "2022-02-21T12:04:09.750Z"
   },
   {
    "duration": 11,
    "start_time": "2022-02-21T12:04:13.397Z"
   },
   {
    "duration": 20,
    "start_time": "2022-02-21T12:04:51.813Z"
   },
   {
    "duration": 14,
    "start_time": "2022-02-21T12:05:18.014Z"
   },
   {
    "duration": 6,
    "start_time": "2022-02-21T12:08:11.531Z"
   },
   {
    "duration": 16,
    "start_time": "2022-02-21T12:09:51.833Z"
   },
   {
    "duration": 5,
    "start_time": "2022-02-21T12:10:44.550Z"
   },
   {
    "duration": 6,
    "start_time": "2022-02-21T12:10:58.335Z"
   },
   {
    "duration": 5,
    "start_time": "2022-02-21T12:11:23.406Z"
   },
   {
    "duration": 19,
    "start_time": "2022-02-21T12:11:41.078Z"
   },
   {
    "duration": 15,
    "start_time": "2022-02-21T12:11:48.455Z"
   },
   {
    "duration": 16,
    "start_time": "2022-02-21T12:12:02.570Z"
   },
   {
    "duration": 13,
    "start_time": "2022-02-21T12:12:16.210Z"
   },
   {
    "duration": 19,
    "start_time": "2022-02-21T12:12:18.518Z"
   },
   {
    "duration": 3,
    "start_time": "2022-02-21T12:12:23.773Z"
   },
   {
    "duration": 51,
    "start_time": "2022-02-21T12:12:24.031Z"
   },
   {
    "duration": 17,
    "start_time": "2022-02-21T12:12:24.215Z"
   },
   {
    "duration": 12,
    "start_time": "2022-02-21T12:12:24.653Z"
   },
   {
    "duration": 7,
    "start_time": "2022-02-21T12:12:25.798Z"
   },
   {
    "duration": 6,
    "start_time": "2022-02-21T12:12:27.350Z"
   },
   {
    "duration": 6,
    "start_time": "2022-02-21T12:12:28.942Z"
   },
   {
    "duration": 6,
    "start_time": "2022-02-21T12:12:30.285Z"
   },
   {
    "duration": 11,
    "start_time": "2022-02-21T12:12:31.232Z"
   },
   {
    "duration": 15,
    "start_time": "2022-02-21T12:12:34.070Z"
   },
   {
    "duration": 16,
    "start_time": "2022-02-21T12:14:24.472Z"
   },
   {
    "duration": 15,
    "start_time": "2022-02-21T12:15:07.046Z"
   },
   {
    "duration": 15,
    "start_time": "2022-02-21T12:16:24.855Z"
   },
   {
    "duration": 19,
    "start_time": "2022-02-21T12:16:25.719Z"
   },
   {
    "duration": 17,
    "start_time": "2022-02-21T12:21:50.647Z"
   },
   {
    "duration": 17,
    "start_time": "2022-02-21T12:22:15.399Z"
   },
   {
    "duration": 71,
    "start_time": "2022-02-21T12:22:52.631Z"
   },
   {
    "duration": 53,
    "start_time": "2022-02-21T12:22:58.317Z"
   },
   {
    "duration": 37,
    "start_time": "2022-02-21T12:23:40.904Z"
   },
   {
    "duration": 12,
    "start_time": "2022-02-21T12:25:31.608Z"
   },
   {
    "duration": 11,
    "start_time": "2022-02-21T12:25:45.751Z"
   },
   {
    "duration": 6,
    "start_time": "2022-02-21T12:26:40.999Z"
   },
   {
    "duration": 6,
    "start_time": "2022-02-21T12:26:41.687Z"
   },
   {
    "duration": 6,
    "start_time": "2022-02-21T12:26:42.270Z"
   },
   {
    "duration": 6,
    "start_time": "2022-02-21T12:26:42.964Z"
   },
   {
    "duration": 13,
    "start_time": "2022-02-21T12:27:31.448Z"
   },
   {
    "duration": 7,
    "start_time": "2022-02-21T12:27:32.903Z"
   },
   {
    "duration": 5,
    "start_time": "2022-02-21T12:27:47.696Z"
   },
   {
    "duration": 5,
    "start_time": "2022-02-21T12:28:05.536Z"
   },
   {
    "duration": 14,
    "start_time": "2022-02-21T12:28:09.127Z"
   },
   {
    "duration": 7,
    "start_time": "2022-02-21T12:28:09.367Z"
   },
   {
    "duration": 5,
    "start_time": "2022-02-21T12:28:20.575Z"
   },
   {
    "duration": 6,
    "start_time": "2022-02-21T12:28:21.047Z"
   },
   {
    "duration": 4,
    "start_time": "2022-02-21T12:28:27.575Z"
   },
   {
    "duration": 49,
    "start_time": "2022-02-21T12:28:27.728Z"
   },
   {
    "duration": 15,
    "start_time": "2022-02-21T12:28:27.890Z"
   },
   {
    "duration": 12,
    "start_time": "2022-02-21T12:28:28.184Z"
   },
   {
    "duration": 7,
    "start_time": "2022-02-21T12:28:29.071Z"
   },
   {
    "duration": 7,
    "start_time": "2022-02-21T12:28:29.959Z"
   },
   {
    "duration": 6,
    "start_time": "2022-02-21T12:28:30.479Z"
   },
   {
    "duration": 5,
    "start_time": "2022-02-21T12:28:30.849Z"
   },
   {
    "duration": 11,
    "start_time": "2022-02-21T12:28:31.199Z"
   },
   {
    "duration": 16,
    "start_time": "2022-02-21T12:28:32.296Z"
   },
   {
    "duration": 17,
    "start_time": "2022-02-21T12:28:33.000Z"
   },
   {
    "duration": 19,
    "start_time": "2022-02-21T12:28:35.167Z"
   },
   {
    "duration": 33,
    "start_time": "2022-02-21T12:28:36.087Z"
   },
   {
    "duration": 5,
    "start_time": "2022-02-21T12:28:36.840Z"
   },
   {
    "duration": 7,
    "start_time": "2022-02-21T12:28:37.311Z"
   },
   {
    "duration": 6,
    "start_time": "2022-02-21T12:28:37.840Z"
   },
   {
    "duration": 9,
    "start_time": "2022-02-21T12:28:38.368Z"
   },
   {
    "duration": 12,
    "start_time": "2022-02-21T12:28:38.936Z"
   },
   {
    "duration": 8,
    "start_time": "2022-02-21T12:28:39.679Z"
   },
   {
    "duration": 15,
    "start_time": "2022-02-21T12:38:21.048Z"
   },
   {
    "duration": 13,
    "start_time": "2022-02-21T12:39:09.940Z"
   },
   {
    "duration": 13,
    "start_time": "2022-02-21T12:39:36.923Z"
   },
   {
    "duration": 16,
    "start_time": "2022-02-21T12:40:37.691Z"
   },
   {
    "duration": 21,
    "start_time": "2022-02-21T12:51:06.114Z"
   },
   {
    "duration": 6,
    "start_time": "2022-02-21T12:52:18.667Z"
   },
   {
    "duration": 232,
    "start_time": "2022-02-21T12:52:25.154Z"
   },
   {
    "duration": 283,
    "start_time": "2022-02-21T12:52:34.405Z"
   },
   {
    "duration": 3,
    "start_time": "2022-02-21T12:52:40.724Z"
   },
   {
    "duration": 48,
    "start_time": "2022-02-21T12:52:40.946Z"
   },
   {
    "duration": 14,
    "start_time": "2022-02-21T12:52:41.139Z"
   },
   {
    "duration": 12,
    "start_time": "2022-02-21T12:52:41.497Z"
   },
   {
    "duration": 7,
    "start_time": "2022-02-21T12:52:42.044Z"
   },
   {
    "duration": 6,
    "start_time": "2022-02-21T12:52:42.778Z"
   },
   {
    "duration": 5,
    "start_time": "2022-02-21T12:52:43.387Z"
   },
   {
    "duration": 6,
    "start_time": "2022-02-21T12:52:43.881Z"
   },
   {
    "duration": 14,
    "start_time": "2022-02-21T12:52:44.515Z"
   },
   {
    "duration": 16,
    "start_time": "2022-02-21T12:52:46.547Z"
   },
   {
    "duration": 16,
    "start_time": "2022-02-21T12:52:48.145Z"
   },
   {
    "duration": 18,
    "start_time": "2022-02-21T12:52:49.491Z"
   },
   {
    "duration": 35,
    "start_time": "2022-02-21T12:52:50.339Z"
   },
   {
    "duration": 6,
    "start_time": "2022-02-21T12:52:50.969Z"
   },
   {
    "duration": 6,
    "start_time": "2022-02-21T12:52:51.608Z"
   },
   {
    "duration": 5,
    "start_time": "2022-02-21T12:52:52.010Z"
   },
   {
    "duration": 7,
    "start_time": "2022-02-21T12:52:52.410Z"
   },
   {
    "duration": 13,
    "start_time": "2022-02-21T12:52:52.740Z"
   },
   {
    "duration": 8,
    "start_time": "2022-02-21T12:52:53.323Z"
   },
   {
    "duration": 14,
    "start_time": "2022-02-21T12:52:54.410Z"
   },
   {
    "duration": 13,
    "start_time": "2022-02-21T12:52:55.107Z"
   },
   {
    "duration": 16,
    "start_time": "2022-02-21T12:52:55.843Z"
   },
   {
    "duration": 19,
    "start_time": "2022-02-21T12:52:57.250Z"
   },
   {
    "duration": 14,
    "start_time": "2022-02-21T12:52:58.625Z"
   },
   {
    "duration": 26,
    "start_time": "2022-02-21T12:57:18.724Z"
   },
   {
    "duration": 204,
    "start_time": "2022-02-21T12:58:23.956Z"
   },
   {
    "duration": 15,
    "start_time": "2022-02-21T12:58:34.067Z"
   },
   {
    "duration": 6365,
    "start_time": "2022-02-21T12:58:45.115Z"
   },
   {
    "duration": -164,
    "start_time": "2022-02-21T12:58:51.646Z"
   },
   {
    "duration": -166,
    "start_time": "2022-02-21T12:58:51.649Z"
   },
   {
    "duration": -167,
    "start_time": "2022-02-21T12:58:51.651Z"
   },
   {
    "duration": 2,
    "start_time": "2022-02-21T12:58:56.315Z"
   },
   {
    "duration": 50,
    "start_time": "2022-02-21T12:58:56.482Z"
   },
   {
    "duration": 14,
    "start_time": "2022-02-21T12:58:56.651Z"
   },
   {
    "duration": 11,
    "start_time": "2022-02-21T12:58:56.986Z"
   },
   {
    "duration": 7,
    "start_time": "2022-02-21T12:58:57.475Z"
   },
   {
    "duration": 6,
    "start_time": "2022-02-21T12:58:58.147Z"
   },
   {
    "duration": 7,
    "start_time": "2022-02-21T12:58:58.634Z"
   },
   {
    "duration": 6,
    "start_time": "2022-02-21T12:58:58.994Z"
   },
   {
    "duration": 12,
    "start_time": "2022-02-21T12:58:59.331Z"
   },
   {
    "duration": 21,
    "start_time": "2022-02-21T12:59:00.068Z"
   },
   {
    "duration": 15,
    "start_time": "2022-02-21T12:59:00.476Z"
   },
   {
    "duration": 20,
    "start_time": "2022-02-21T12:59:01.482Z"
   },
   {
    "duration": 34,
    "start_time": "2022-02-21T12:59:01.883Z"
   },
   {
    "duration": 5,
    "start_time": "2022-02-21T12:59:02.619Z"
   },
   {
    "duration": 5,
    "start_time": "2022-02-21T12:59:02.972Z"
   },
   {
    "duration": 5,
    "start_time": "2022-02-21T12:59:03.220Z"
   },
   {
    "duration": 7,
    "start_time": "2022-02-21T12:59:03.411Z"
   },
   {
    "duration": 11,
    "start_time": "2022-02-21T12:59:03.619Z"
   },
   {
    "duration": 8,
    "start_time": "2022-02-21T12:59:03.826Z"
   },
   {
    "duration": 14,
    "start_time": "2022-02-21T12:59:04.579Z"
   },
   {
    "duration": 13,
    "start_time": "2022-02-21T12:59:05.034Z"
   },
   {
    "duration": 16,
    "start_time": "2022-02-21T12:59:05.882Z"
   },
   {
    "duration": 12,
    "start_time": "2022-02-21T12:59:07.900Z"
   },
   {
    "duration": 15,
    "start_time": "2022-02-21T12:59:09.333Z"
   },
   {
    "duration": 31,
    "start_time": "2022-02-21T12:59:18.436Z"
   },
   {
    "duration": 19,
    "start_time": "2022-02-21T12:59:19.499Z"
   },
   {
    "duration": 7,
    "start_time": "2022-02-21T12:59:20.882Z"
   },
   {
    "duration": 296,
    "start_time": "2022-02-21T12:59:21.531Z"
   },
   {
    "duration": 13,
    "start_time": "2022-02-21T12:59:22.091Z"
   },
   {
    "duration": 5,
    "start_time": "2022-02-21T13:00:28.828Z"
   },
   {
    "duration": 5,
    "start_time": "2022-02-21T13:03:20.076Z"
   },
   {
    "duration": 6,
    "start_time": "2022-02-21T13:03:20.493Z"
   },
   {
    "duration": 6,
    "start_time": "2022-02-21T13:03:21.372Z"
   },
   {
    "duration": 14,
    "start_time": "2022-02-21T13:06:16.583Z"
   },
   {
    "duration": 6633,
    "start_time": "2022-02-21T13:06:16.599Z"
   },
   {
    "duration": 17,
    "start_time": "2022-02-21T13:07:13.731Z"
   },
   {
    "duration": 7251,
    "start_time": "2022-02-21T13:07:22.124Z"
   },
   {
    "duration": 7868,
    "start_time": "2022-02-21T13:07:53.299Z"
   },
   {
    "duration": -189,
    "start_time": "2022-02-21T13:08:01.360Z"
   },
   {
    "duration": -190,
    "start_time": "2022-02-21T13:08:01.363Z"
   },
   {
    "duration": 9,
    "start_time": "2022-02-21T13:08:01.229Z"
   },
   {
    "duration": 7,
    "start_time": "2022-02-21T13:08:01.831Z"
   },
   {
    "duration": 21,
    "start_time": "2022-02-21T13:08:05.069Z"
   },
   {
    "duration": 3,
    "start_time": "2022-02-21T13:08:10.811Z"
   },
   {
    "duration": 51,
    "start_time": "2022-02-21T13:08:11.004Z"
   },
   {
    "duration": 15,
    "start_time": "2022-02-21T13:08:11.198Z"
   },
   {
    "duration": 12,
    "start_time": "2022-02-21T13:08:11.589Z"
   },
   {
    "duration": 7,
    "start_time": "2022-02-21T13:08:12.131Z"
   },
   {
    "duration": 6,
    "start_time": "2022-02-21T13:08:12.819Z"
   },
   {
    "duration": 6,
    "start_time": "2022-02-21T13:08:13.328Z"
   },
   {
    "duration": 6,
    "start_time": "2022-02-21T13:08:13.659Z"
   },
   {
    "duration": 17,
    "start_time": "2022-02-21T13:08:14.019Z"
   },
   {
    "duration": 16,
    "start_time": "2022-02-21T13:08:14.676Z"
   },
   {
    "duration": 16,
    "start_time": "2022-02-21T13:08:15.062Z"
   },
   {
    "duration": 23,
    "start_time": "2022-02-21T13:08:15.620Z"
   },
   {
    "duration": 40,
    "start_time": "2022-02-21T13:08:16.003Z"
   },
   {
    "duration": 5,
    "start_time": "2022-02-21T13:08:16.500Z"
   },
   {
    "duration": 6,
    "start_time": "2022-02-21T13:08:16.667Z"
   },
   {
    "duration": 5,
    "start_time": "2022-02-21T13:08:16.843Z"
   },
   {
    "duration": 7,
    "start_time": "2022-02-21T13:08:17.011Z"
   },
   {
    "duration": 16,
    "start_time": "2022-02-21T13:08:17.212Z"
   },
   {
    "duration": 8,
    "start_time": "2022-02-21T13:08:17.431Z"
   },
   {
    "duration": 5,
    "start_time": "2022-02-21T13:08:17.900Z"
   },
   {
    "duration": 5,
    "start_time": "2022-02-21T13:08:18.754Z"
   },
   {
    "duration": 6,
    "start_time": "2022-02-21T13:08:19.152Z"
   },
   {
    "duration": 6,
    "start_time": "2022-02-21T13:08:19.675Z"
   },
   {
    "duration": 17,
    "start_time": "2022-02-21T13:08:20.699Z"
   },
   {
    "duration": 15,
    "start_time": "2022-02-21T13:10:53.860Z"
   },
   {
    "duration": 13,
    "start_time": "2022-02-21T13:10:57.076Z"
   },
   {
    "duration": 17,
    "start_time": "2022-02-21T13:10:58.900Z"
   },
   {
    "duration": 12,
    "start_time": "2022-02-21T13:11:02.484Z"
   },
   {
    "duration": 15,
    "start_time": "2022-02-21T13:11:03.003Z"
   },
   {
    "duration": 15,
    "start_time": "2022-02-21T13:11:04.389Z"
   },
   {
    "duration": 20,
    "start_time": "2022-02-21T13:11:05.626Z"
   },
   {
    "duration": 7,
    "start_time": "2022-02-21T13:11:06.060Z"
   },
   {
    "duration": 217,
    "start_time": "2022-02-21T13:11:07.659Z"
   },
   {
    "duration": 240,
    "start_time": "2022-02-21T13:11:59.540Z"
   },
   {
    "duration": 226,
    "start_time": "2022-02-21T13:12:12.588Z"
   },
   {
    "duration": 3,
    "start_time": "2022-02-21T13:12:17.388Z"
   },
   {
    "duration": 49,
    "start_time": "2022-02-21T13:12:17.540Z"
   },
   {
    "duration": 14,
    "start_time": "2022-02-21T13:12:17.699Z"
   },
   {
    "duration": 11,
    "start_time": "2022-02-21T13:12:18.044Z"
   },
   {
    "duration": 7,
    "start_time": "2022-02-21T13:12:18.547Z"
   },
   {
    "duration": 6,
    "start_time": "2022-02-21T13:12:19.275Z"
   },
   {
    "duration": 7,
    "start_time": "2022-02-21T13:12:19.835Z"
   },
   {
    "duration": 7,
    "start_time": "2022-02-21T13:12:20.292Z"
   },
   {
    "duration": 16,
    "start_time": "2022-02-21T13:12:20.916Z"
   },
   {
    "duration": 15,
    "start_time": "2022-02-21T13:12:22.101Z"
   },
   {
    "duration": 18,
    "start_time": "2022-02-21T13:12:22.460Z"
   },
   {
    "duration": 18,
    "start_time": "2022-02-21T13:12:23.597Z"
   },
   {
    "duration": 37,
    "start_time": "2022-02-21T13:12:24.237Z"
   },
   {
    "duration": 13,
    "start_time": "2022-02-21T13:12:24.821Z"
   },
   {
    "duration": 5,
    "start_time": "2022-02-21T13:12:25.032Z"
   },
   {
    "duration": 6,
    "start_time": "2022-02-21T13:12:25.237Z"
   },
   {
    "duration": 7,
    "start_time": "2022-02-21T13:12:25.484Z"
   },
   {
    "duration": 12,
    "start_time": "2022-02-21T13:12:25.852Z"
   },
   {
    "duration": 6,
    "start_time": "2022-02-21T13:12:26.141Z"
   },
   {
    "duration": 5,
    "start_time": "2022-02-21T13:12:26.603Z"
   },
   {
    "duration": 4,
    "start_time": "2022-02-21T13:12:27.236Z"
   },
   {
    "duration": 6,
    "start_time": "2022-02-21T13:12:27.588Z"
   },
   {
    "duration": 6,
    "start_time": "2022-02-21T13:12:27.971Z"
   },
   {
    "duration": 16,
    "start_time": "2022-02-21T13:12:28.844Z"
   },
   {
    "duration": 16,
    "start_time": "2022-02-21T13:12:30.469Z"
   },
   {
    "duration": 13,
    "start_time": "2022-02-21T13:12:31.115Z"
   },
   {
    "duration": 19,
    "start_time": "2022-02-21T13:12:31.831Z"
   },
   {
    "duration": 21,
    "start_time": "2022-02-21T13:12:32.924Z"
   },
   {
    "duration": 21,
    "start_time": "2022-02-21T13:12:33.756Z"
   },
   {
    "duration": 21,
    "start_time": "2022-02-21T13:12:35.204Z"
   },
   {
    "duration": 20,
    "start_time": "2022-02-21T13:12:36.716Z"
   },
   {
    "duration": 14,
    "start_time": "2022-02-21T13:16:18.509Z"
   },
   {
    "duration": 16,
    "start_time": "2022-02-21T13:17:36.909Z"
   },
   {
    "duration": 8,
    "start_time": "2022-02-21T13:20:37.501Z"
   },
   {
    "duration": 9,
    "start_time": "2022-02-21T13:22:36.886Z"
   },
   {
    "duration": 17,
    "start_time": "2022-02-21T13:22:38.686Z"
   },
   {
    "duration": 18,
    "start_time": "2022-02-21T13:23:35.311Z"
   },
   {
    "duration": 15,
    "start_time": "2022-02-21T13:25:48.536Z"
   },
   {
    "duration": 4,
    "start_time": "2022-02-21T13:25:57.909Z"
   },
   {
    "duration": 48,
    "start_time": "2022-02-21T13:25:58.141Z"
   },
   {
    "duration": 55,
    "start_time": "2022-02-21T13:25:58.446Z"
   },
   {
    "duration": 12,
    "start_time": "2022-02-21T13:25:59.293Z"
   },
   {
    "duration": 10,
    "start_time": "2022-02-21T13:26:00.310Z"
   },
   {
    "duration": 6,
    "start_time": "2022-02-21T13:26:01.566Z"
   },
   {
    "duration": 6,
    "start_time": "2022-02-21T13:26:02.710Z"
   },
   {
    "duration": 7,
    "start_time": "2022-02-21T13:26:03.350Z"
   },
   {
    "duration": 17,
    "start_time": "2022-02-21T13:26:04.005Z"
   },
   {
    "duration": 17,
    "start_time": "2022-02-21T13:26:05.750Z"
   },
   {
    "duration": 21,
    "start_time": "2022-02-21T13:26:06.888Z"
   },
   {
    "duration": 17,
    "start_time": "2022-02-21T13:26:08.454Z"
   },
   {
    "duration": 45,
    "start_time": "2022-02-21T13:26:09.853Z"
   },
   {
    "duration": 7,
    "start_time": "2022-02-21T13:26:11.821Z"
   },
   {
    "duration": 6,
    "start_time": "2022-02-21T13:26:12.349Z"
   },
   {
    "duration": 6,
    "start_time": "2022-02-21T13:26:12.739Z"
   },
   {
    "duration": 8,
    "start_time": "2022-02-21T13:26:13.052Z"
   },
   {
    "duration": 19,
    "start_time": "2022-02-21T13:26:13.309Z"
   },
   {
    "duration": 11,
    "start_time": "2022-02-21T13:26:13.606Z"
   },
   {
    "duration": 5,
    "start_time": "2022-02-21T13:26:13.990Z"
   },
   {
    "duration": 5,
    "start_time": "2022-02-21T13:26:14.806Z"
   },
   {
    "duration": 5,
    "start_time": "2022-02-21T13:26:15.150Z"
   },
   {
    "duration": 7,
    "start_time": "2022-02-21T13:26:15.557Z"
   },
   {
    "duration": 16,
    "start_time": "2022-02-21T13:26:16.368Z"
   },
   {
    "duration": 14,
    "start_time": "2022-02-21T13:26:17.542Z"
   },
   {
    "duration": 15,
    "start_time": "2022-02-21T13:26:18.341Z"
   },
   {
    "duration": 18,
    "start_time": "2022-02-21T13:26:19.133Z"
   },
   {
    "duration": 12,
    "start_time": "2022-02-21T13:26:20.909Z"
   },
   {
    "duration": 15,
    "start_time": "2022-02-21T13:26:21.941Z"
   },
   {
    "duration": 16,
    "start_time": "2022-02-21T13:26:23.230Z"
   },
   {
    "duration": 22,
    "start_time": "2022-02-21T13:26:24.174Z"
   },
   {
    "duration": 14,
    "start_time": "2022-02-21T13:26:29.566Z"
   },
   {
    "duration": 8,
    "start_time": "2022-02-21T13:26:33.126Z"
   },
   {
    "duration": 14,
    "start_time": "2022-02-21T13:26:38.854Z"
   },
   {
    "duration": 8,
    "start_time": "2022-02-21T13:26:39.991Z"
   },
   {
    "duration": 15,
    "start_time": "2022-02-21T13:26:40.758Z"
   },
   {
    "duration": 209,
    "start_time": "2022-02-21T13:28:25.919Z"
   },
   {
    "duration": 5,
    "start_time": "2022-02-21T13:28:34.413Z"
   },
   {
    "duration": 50,
    "start_time": "2022-02-21T13:28:34.589Z"
   },
   {
    "duration": 15,
    "start_time": "2022-02-21T13:28:34.758Z"
   },
   {
    "duration": 13,
    "start_time": "2022-02-21T13:28:35.102Z"
   },
   {
    "duration": 8,
    "start_time": "2022-02-21T13:28:35.631Z"
   },
   {
    "duration": 7,
    "start_time": "2022-02-21T13:28:36.399Z"
   },
   {
    "duration": 6,
    "start_time": "2022-02-21T13:28:36.493Z"
   },
   {
    "duration": 6,
    "start_time": "2022-02-21T13:28:36.555Z"
   },
   {
    "duration": 13,
    "start_time": "2022-02-21T13:28:36.644Z"
   },
   {
    "duration": 15,
    "start_time": "2022-02-21T13:28:36.761Z"
   },
   {
    "duration": 16,
    "start_time": "2022-02-21T13:28:37.335Z"
   },
   {
    "duration": 17,
    "start_time": "2022-02-21T13:28:37.934Z"
   },
   {
    "duration": 38,
    "start_time": "2022-02-21T13:28:38.294Z"
   },
   {
    "duration": 6,
    "start_time": "2022-02-21T13:28:38.965Z"
   },
   {
    "duration": 7,
    "start_time": "2022-02-21T13:28:39.004Z"
   },
   {
    "duration": 9,
    "start_time": "2022-02-21T13:28:39.032Z"
   },
   {
    "duration": 7,
    "start_time": "2022-02-21T13:28:39.060Z"
   },
   {
    "duration": 12,
    "start_time": "2022-02-21T13:28:39.099Z"
   },
   {
    "duration": 7,
    "start_time": "2022-02-21T13:28:39.130Z"
   },
   {
    "duration": 5,
    "start_time": "2022-02-21T13:28:39.163Z"
   },
   {
    "duration": 4,
    "start_time": "2022-02-21T13:28:39.231Z"
   },
   {
    "duration": 6,
    "start_time": "2022-02-21T13:28:39.268Z"
   },
   {
    "duration": 6,
    "start_time": "2022-02-21T13:28:39.299Z"
   },
   {
    "duration": 17,
    "start_time": "2022-02-21T13:28:39.360Z"
   },
   {
    "duration": 17,
    "start_time": "2022-02-21T13:28:39.458Z"
   },
   {
    "duration": 14,
    "start_time": "2022-02-21T13:28:40.238Z"
   },
   {
    "duration": 18,
    "start_time": "2022-02-21T13:28:40.629Z"
   },
   {
    "duration": 13,
    "start_time": "2022-02-21T13:28:41.174Z"
   },
   {
    "duration": 15,
    "start_time": "2022-02-21T13:28:41.559Z"
   },
   {
    "duration": 25,
    "start_time": "2022-02-21T13:28:42.214Z"
   },
   {
    "duration": 15,
    "start_time": "2022-02-21T13:28:42.669Z"
   },
   {
    "duration": 386,
    "start_time": "2022-02-21T13:28:44.950Z"
   },
   {
    "duration": 202,
    "start_time": "2022-02-21T13:29:06.430Z"
   },
   {
    "duration": 220,
    "start_time": "2022-02-21T13:29:31.879Z"
   },
   {
    "duration": 3,
    "start_time": "2022-02-21T13:29:36.989Z"
   },
   {
    "duration": 54,
    "start_time": "2022-02-21T13:29:37.016Z"
   },
   {
    "duration": 14,
    "start_time": "2022-02-21T13:29:37.073Z"
   },
   {
    "duration": 14,
    "start_time": "2022-02-21T13:29:37.128Z"
   },
   {
    "duration": 7,
    "start_time": "2022-02-21T13:29:37.218Z"
   },
   {
    "duration": 6,
    "start_time": "2022-02-21T13:29:37.368Z"
   },
   {
    "duration": 6,
    "start_time": "2022-02-21T13:29:37.464Z"
   },
   {
    "duration": 6,
    "start_time": "2022-02-21T13:29:37.510Z"
   },
   {
    "duration": 12,
    "start_time": "2022-02-21T13:29:37.582Z"
   },
   {
    "duration": 16,
    "start_time": "2022-02-21T13:29:37.710Z"
   },
   {
    "duration": 17,
    "start_time": "2022-02-21T13:29:37.785Z"
   },
   {
    "duration": 19,
    "start_time": "2022-02-21T13:29:37.880Z"
   },
   {
    "duration": 35,
    "start_time": "2022-02-21T13:29:37.943Z"
   },
   {
    "duration": 6,
    "start_time": "2022-02-21T13:29:38.062Z"
   },
   {
    "duration": 6,
    "start_time": "2022-02-21T13:29:38.095Z"
   },
   {
    "duration": 7,
    "start_time": "2022-02-21T13:29:38.116Z"
   },
   {
    "duration": 6,
    "start_time": "2022-02-21T13:29:38.142Z"
   },
   {
    "duration": 12,
    "start_time": "2022-02-21T13:29:38.167Z"
   },
   {
    "duration": 6,
    "start_time": "2022-02-21T13:29:38.191Z"
   },
   {
    "duration": 7,
    "start_time": "2022-02-21T13:29:38.219Z"
   },
   {
    "duration": 5,
    "start_time": "2022-02-21T13:29:38.278Z"
   },
   {
    "duration": 6,
    "start_time": "2022-02-21T13:29:38.304Z"
   },
   {
    "duration": 11,
    "start_time": "2022-02-21T13:29:38.337Z"
   },
   {
    "duration": 24,
    "start_time": "2022-02-21T13:29:38.413Z"
   },
   {
    "duration": 15,
    "start_time": "2022-02-21T13:29:39.330Z"
   },
   {
    "duration": 13,
    "start_time": "2022-02-21T13:29:39.671Z"
   },
   {
    "duration": 21,
    "start_time": "2022-02-21T13:29:40.207Z"
   },
   {
    "duration": 13,
    "start_time": "2022-02-21T13:29:40.301Z"
   },
   {
    "duration": 15,
    "start_time": "2022-02-21T13:29:40.374Z"
   },
   {
    "duration": 18,
    "start_time": "2022-02-21T13:29:40.473Z"
   },
   {
    "duration": 15,
    "start_time": "2022-02-21T13:29:40.534Z"
   },
   {
    "duration": 218,
    "start_time": "2022-02-21T13:29:40.639Z"
   },
   {
    "duration": 226,
    "start_time": "2022-02-21T13:30:43.562Z"
   },
   {
    "duration": 12,
    "start_time": "2022-02-21T13:31:21.991Z"
   },
   {
    "duration": 15,
    "start_time": "2022-02-21T13:32:37.032Z"
   },
   {
    "duration": 22,
    "start_time": "2022-02-21T13:33:17.319Z"
   },
   {
    "duration": 20,
    "start_time": "2022-02-21T13:33:45.032Z"
   },
   {
    "duration": 18,
    "start_time": "2022-02-21T13:34:31.473Z"
   },
   {
    "duration": -177,
    "start_time": "2022-02-21T13:37:42.800Z"
   },
   {
    "duration": 3,
    "start_time": "2022-02-21T13:37:50.285Z"
   },
   {
    "duration": 61,
    "start_time": "2022-02-21T13:37:50.314Z"
   },
   {
    "duration": 14,
    "start_time": "2022-02-21T13:37:50.378Z"
   },
   {
    "duration": 14,
    "start_time": "2022-02-21T13:37:50.414Z"
   },
   {
    "duration": 7,
    "start_time": "2022-02-21T13:37:50.564Z"
   },
   {
    "duration": 6,
    "start_time": "2022-02-21T13:37:50.643Z"
   },
   {
    "duration": 6,
    "start_time": "2022-02-21T13:37:50.743Z"
   },
   {
    "duration": 6,
    "start_time": "2022-02-21T13:37:50.805Z"
   },
   {
    "duration": 12,
    "start_time": "2022-02-21T13:37:50.871Z"
   },
   {
    "duration": 22,
    "start_time": "2022-02-21T13:37:51.012Z"
   },
   {
    "duration": 19,
    "start_time": "2022-02-21T13:37:51.086Z"
   },
   {
    "duration": 18,
    "start_time": "2022-02-21T13:37:51.170Z"
   },
   {
    "duration": 37,
    "start_time": "2022-02-21T13:37:51.238Z"
   },
   {
    "duration": 6,
    "start_time": "2022-02-21T13:37:51.302Z"
   },
   {
    "duration": 21,
    "start_time": "2022-02-21T13:37:51.338Z"
   },
   {
    "duration": 17,
    "start_time": "2022-02-21T13:37:51.371Z"
   },
   {
    "duration": 15,
    "start_time": "2022-02-21T13:37:51.403Z"
   },
   {
    "duration": 16,
    "start_time": "2022-02-21T13:37:51.437Z"
   },
   {
    "duration": 19,
    "start_time": "2022-02-21T13:37:51.469Z"
   },
   {
    "duration": 36,
    "start_time": "2022-02-21T13:37:51.503Z"
   },
   {
    "duration": 11,
    "start_time": "2022-02-21T13:37:51.568Z"
   },
   {
    "duration": 42,
    "start_time": "2022-02-21T13:37:51.597Z"
   },
   {
    "duration": 21,
    "start_time": "2022-02-21T13:37:51.642Z"
   },
   {
    "duration": 17,
    "start_time": "2022-02-21T13:37:51.696Z"
   },
   {
    "duration": 14,
    "start_time": "2022-02-21T13:37:52.367Z"
   },
   {
    "duration": 13,
    "start_time": "2022-02-21T13:37:52.790Z"
   },
   {
    "duration": 17,
    "start_time": "2022-02-21T13:37:53.134Z"
   },
   {
    "duration": 13,
    "start_time": "2022-02-21T13:37:53.598Z"
   },
   {
    "duration": 15,
    "start_time": "2022-02-21T13:37:53.936Z"
   },
   {
    "duration": 16,
    "start_time": "2022-02-21T13:37:54.432Z"
   },
   {
    "duration": 19,
    "start_time": "2022-02-21T13:37:54.814Z"
   },
   {
    "duration": 28,
    "start_time": "2022-02-21T13:37:55.327Z"
   },
   {
    "duration": 12,
    "start_time": "2022-02-21T13:37:57.743Z"
   },
   {
    "duration": 27,
    "start_time": "2022-02-21T13:37:58.582Z"
   },
   {
    "duration": 27,
    "start_time": "2022-02-21T13:38:05.704Z"
   },
   {
    "duration": 20,
    "start_time": "2022-02-21T13:41:16.737Z"
   },
   {
    "duration": 24,
    "start_time": "2022-02-21T13:41:45.143Z"
   },
   {
    "duration": 235,
    "start_time": "2022-02-21T13:42:53.439Z"
   },
   {
    "duration": 20,
    "start_time": "2022-02-21T13:42:59.839Z"
   },
   {
    "duration": 20,
    "start_time": "2022-02-21T13:43:13.393Z"
   },
   {
    "duration": 31,
    "start_time": "2022-02-21T13:44:12.600Z"
   },
   {
    "duration": 251,
    "start_time": "2022-02-21T13:46:51.007Z"
   },
   {
    "duration": 15,
    "start_time": "2022-02-21T13:47:19.793Z"
   },
   {
    "duration": 3,
    "start_time": "2022-02-21T13:47:31.585Z"
   },
   {
    "duration": 68,
    "start_time": "2022-02-21T13:47:31.610Z"
   },
   {
    "duration": 14,
    "start_time": "2022-02-21T13:47:31.680Z"
   },
   {
    "duration": 16,
    "start_time": "2022-02-21T13:47:31.715Z"
   },
   {
    "duration": 8,
    "start_time": "2022-02-21T13:47:31.876Z"
   },
   {
    "duration": 7,
    "start_time": "2022-02-21T13:47:31.959Z"
   },
   {
    "duration": 5,
    "start_time": "2022-02-21T13:47:32.048Z"
   },
   {
    "duration": 6,
    "start_time": "2022-02-21T13:47:32.110Z"
   },
   {
    "duration": 11,
    "start_time": "2022-02-21T13:47:32.204Z"
   },
   {
    "duration": 17,
    "start_time": "2022-02-21T13:47:32.302Z"
   },
   {
    "duration": 15,
    "start_time": "2022-02-21T13:47:32.374Z"
   },
   {
    "duration": 20,
    "start_time": "2022-02-21T13:47:32.474Z"
   },
   {
    "duration": 32,
    "start_time": "2022-02-21T13:47:32.544Z"
   },
   {
    "duration": 5,
    "start_time": "2022-02-21T13:47:32.600Z"
   },
   {
    "duration": 5,
    "start_time": "2022-02-21T13:47:32.633Z"
   },
   {
    "duration": 6,
    "start_time": "2022-02-21T13:47:32.670Z"
   },
   {
    "duration": 6,
    "start_time": "2022-02-21T13:47:32.703Z"
   },
   {
    "duration": 15,
    "start_time": "2022-02-21T13:47:32.732Z"
   },
   {
    "duration": 8,
    "start_time": "2022-02-21T13:47:32.767Z"
   },
   {
    "duration": 5,
    "start_time": "2022-02-21T13:47:32.808Z"
   },
   {
    "duration": 4,
    "start_time": "2022-02-21T13:47:32.865Z"
   },
   {
    "duration": 6,
    "start_time": "2022-02-21T13:47:32.896Z"
   },
   {
    "duration": 6,
    "start_time": "2022-02-21T13:47:32.935Z"
   },
   {
    "duration": 16,
    "start_time": "2022-02-21T13:47:32.995Z"
   },
   {
    "duration": 15,
    "start_time": "2022-02-21T13:47:33.100Z"
   },
   {
    "duration": 13,
    "start_time": "2022-02-21T13:47:33.162Z"
   },
   {
    "duration": 18,
    "start_time": "2022-02-21T13:47:33.262Z"
   },
   {
    "duration": 12,
    "start_time": "2022-02-21T13:47:33.338Z"
   },
   {
    "duration": 19,
    "start_time": "2022-02-21T13:47:33.393Z"
   },
   {
    "duration": 16,
    "start_time": "2022-02-21T13:47:33.491Z"
   },
   {
    "duration": 15,
    "start_time": "2022-02-21T13:47:33.568Z"
   },
   {
    "duration": 599,
    "start_time": "2022-02-21T13:47:34.384Z"
   },
   {
    "duration": 12,
    "start_time": "2022-02-21T13:47:35.943Z"
   },
   {
    "duration": 17,
    "start_time": "2022-02-21T13:47:36.656Z"
   },
   {
    "duration": 26,
    "start_time": "2022-02-21T13:47:37.344Z"
   },
   {
    "duration": 244,
    "start_time": "2022-02-21T13:47:51.800Z"
   },
   {
    "duration": 13,
    "start_time": "2022-02-21T13:47:58.296Z"
   },
   {
    "duration": 13,
    "start_time": "2022-02-21T13:49:33.331Z"
   },
   {
    "duration": 8,
    "start_time": "2022-02-21T13:49:50.279Z"
   },
   {
    "duration": 15,
    "start_time": "2022-02-21T13:49:55.903Z"
   },
   {
    "duration": 69,
    "start_time": "2022-02-21T13:52:28.818Z"
   },
   {
    "duration": 2,
    "start_time": "2022-02-21T13:52:36.089Z"
   },
   {
    "duration": 50,
    "start_time": "2022-02-21T13:52:36.590Z"
   },
   {
    "duration": 13,
    "start_time": "2022-02-21T13:52:36.643Z"
   },
   {
    "duration": 12,
    "start_time": "2022-02-21T13:52:36.683Z"
   },
   {
    "duration": 7,
    "start_time": "2022-02-21T13:52:36.779Z"
   },
   {
    "duration": 6,
    "start_time": "2022-02-21T13:52:36.931Z"
   },
   {
    "duration": 10,
    "start_time": "2022-02-21T13:52:37.019Z"
   },
   {
    "duration": 6,
    "start_time": "2022-02-21T13:52:37.077Z"
   },
   {
    "duration": 13,
    "start_time": "2022-02-21T13:52:37.159Z"
   },
   {
    "duration": 15,
    "start_time": "2022-02-21T13:52:37.298Z"
   },
   {
    "duration": 16,
    "start_time": "2022-02-21T13:52:37.355Z"
   },
   {
    "duration": 18,
    "start_time": "2022-02-21T13:52:37.450Z"
   },
   {
    "duration": 38,
    "start_time": "2022-02-21T13:52:37.515Z"
   },
   {
    "duration": 5,
    "start_time": "2022-02-21T13:52:37.572Z"
   },
   {
    "duration": 6,
    "start_time": "2022-02-21T13:52:37.605Z"
   },
   {
    "duration": 5,
    "start_time": "2022-02-21T13:52:37.651Z"
   },
   {
    "duration": 8,
    "start_time": "2022-02-21T13:52:37.681Z"
   },
   {
    "duration": 14,
    "start_time": "2022-02-21T13:52:37.706Z"
   },
   {
    "duration": 26,
    "start_time": "2022-02-21T13:52:37.736Z"
   },
   {
    "duration": 4,
    "start_time": "2022-02-21T13:52:37.779Z"
   },
   {
    "duration": 4,
    "start_time": "2022-02-21T13:52:37.835Z"
   },
   {
    "duration": 6,
    "start_time": "2022-02-21T13:52:37.932Z"
   },
   {
    "duration": 16,
    "start_time": "2022-02-21T13:52:37.946Z"
   },
   {
    "duration": 15,
    "start_time": "2022-02-21T13:52:37.999Z"
   },
   {
    "duration": 14,
    "start_time": "2022-02-21T13:52:38.952Z"
   },
   {
    "duration": 13,
    "start_time": "2022-02-21T13:52:39.256Z"
   },
   {
    "duration": 16,
    "start_time": "2022-02-21T13:52:39.567Z"
   },
   {
    "duration": 12,
    "start_time": "2022-02-21T13:52:40.141Z"
   },
   {
    "duration": 17,
    "start_time": "2022-02-21T13:52:40.511Z"
   },
   {
    "duration": 18,
    "start_time": "2022-02-21T13:52:41.234Z"
   },
   {
    "duration": 14,
    "start_time": "2022-02-21T13:52:41.677Z"
   },
   {
    "duration": 12,
    "start_time": "2022-02-21T13:52:42.577Z"
   },
   {
    "duration": 86,
    "start_time": "2022-02-21T13:52:45.532Z"
   },
   {
    "duration": 5,
    "start_time": "2022-02-21T13:52:53.456Z"
   },
   {
    "duration": 5,
    "start_time": "2022-02-21T13:53:09.470Z"
   },
   {
    "duration": 23,
    "start_time": "2022-02-21T13:53:23.938Z"
   },
   {
    "duration": 7,
    "start_time": "2022-02-21T13:53:48.065Z"
   },
   {
    "duration": 21,
    "start_time": "2022-02-21T13:57:58.243Z"
   },
   {
    "duration": -183,
    "start_time": "2022-02-21T14:01:27.065Z"
   },
   {
    "duration": 3,
    "start_time": "2022-02-21T14:01:29.057Z"
   },
   {
    "duration": 52,
    "start_time": "2022-02-21T14:01:29.095Z"
   },
   {
    "duration": 14,
    "start_time": "2022-02-21T14:01:29.150Z"
   },
   {
    "duration": 14,
    "start_time": "2022-02-21T14:01:29.182Z"
   },
   {
    "duration": 7,
    "start_time": "2022-02-21T14:01:29.349Z"
   },
   {
    "duration": 6,
    "start_time": "2022-02-21T14:01:29.438Z"
   },
   {
    "duration": 7,
    "start_time": "2022-02-21T14:01:29.509Z"
   },
   {
    "duration": 6,
    "start_time": "2022-02-21T14:01:29.577Z"
   },
   {
    "duration": 13,
    "start_time": "2022-02-21T14:01:29.643Z"
   },
   {
    "duration": 16,
    "start_time": "2022-02-21T14:01:29.774Z"
   },
   {
    "duration": 17,
    "start_time": "2022-02-21T14:01:29.857Z"
   },
   {
    "duration": 18,
    "start_time": "2022-02-21T14:01:29.941Z"
   },
   {
    "duration": 48,
    "start_time": "2022-02-21T14:01:30.003Z"
   },
   {
    "duration": 5,
    "start_time": "2022-02-21T14:01:30.070Z"
   },
   {
    "duration": 5,
    "start_time": "2022-02-21T14:01:30.102Z"
   },
   {
    "duration": 6,
    "start_time": "2022-02-21T14:01:30.146Z"
   },
   {
    "duration": 17,
    "start_time": "2022-02-21T14:01:30.174Z"
   },
   {
    "duration": 47,
    "start_time": "2022-02-21T14:01:30.199Z"
   },
   {
    "duration": 29,
    "start_time": "2022-02-21T14:01:30.249Z"
   },
   {
    "duration": 24,
    "start_time": "2022-02-21T14:01:30.280Z"
   },
   {
    "duration": 5,
    "start_time": "2022-02-21T14:01:30.334Z"
   },
   {
    "duration": 6,
    "start_time": "2022-02-21T14:01:30.367Z"
   },
   {
    "duration": 9,
    "start_time": "2022-02-21T14:01:30.401Z"
   },
   {
    "duration": 17,
    "start_time": "2022-02-21T14:01:30.466Z"
   },
   {
    "duration": 15,
    "start_time": "2022-02-21T14:01:30.584Z"
   },
   {
    "duration": 14,
    "start_time": "2022-02-21T14:01:30.644Z"
   },
   {
    "duration": 20,
    "start_time": "2022-02-21T14:01:30.716Z"
   },
   {
    "duration": 20,
    "start_time": "2022-02-21T14:01:30.806Z"
   },
   {
    "duration": 14,
    "start_time": "2022-02-21T14:01:31.146Z"
   },
   {
    "duration": 18,
    "start_time": "2022-02-21T14:01:31.673Z"
   },
   {
    "duration": 13,
    "start_time": "2022-02-21T14:01:32.098Z"
   },
   {
    "duration": 28,
    "start_time": "2022-02-21T14:01:32.628Z"
   },
   {
    "duration": 7,
    "start_time": "2022-02-21T14:01:34.369Z"
   },
   {
    "duration": 11,
    "start_time": "2022-02-21T14:01:35.313Z"
   },
   {
    "duration": 336,
    "start_time": "2022-02-21T14:01:36.233Z"
   },
   {
    "duration": 235,
    "start_time": "2022-02-21T14:01:37.778Z"
   },
   {
    "duration": 288,
    "start_time": "2022-02-21T14:02:26.252Z"
   },
   {
    "duration": 3,
    "start_time": "2022-02-21T14:02:58.531Z"
   },
   {
    "duration": 45,
    "start_time": "2022-02-21T14:02:58.566Z"
   },
   {
    "duration": 13,
    "start_time": "2022-02-21T14:02:58.613Z"
   },
   {
    "duration": 13,
    "start_time": "2022-02-21T14:02:58.674Z"
   },
   {
    "duration": 6,
    "start_time": "2022-02-21T14:02:58.774Z"
   },
   {
    "duration": 7,
    "start_time": "2022-02-21T14:02:58.914Z"
   },
   {
    "duration": 6,
    "start_time": "2022-02-21T14:02:58.995Z"
   },
   {
    "duration": 6,
    "start_time": "2022-02-21T14:02:59.060Z"
   },
   {
    "duration": 12,
    "start_time": "2022-02-21T14:02:59.125Z"
   },
   {
    "duration": 18,
    "start_time": "2022-02-21T14:02:59.257Z"
   },
   {
    "duration": 20,
    "start_time": "2022-02-21T14:02:59.323Z"
   },
   {
    "duration": 19,
    "start_time": "2022-02-21T14:02:59.432Z"
   },
   {
    "duration": 40,
    "start_time": "2022-02-21T14:02:59.486Z"
   },
   {
    "duration": 7,
    "start_time": "2022-02-21T14:02:59.556Z"
   },
   {
    "duration": 15,
    "start_time": "2022-02-21T14:02:59.587Z"
   },
   {
    "duration": 6,
    "start_time": "2022-02-21T14:02:59.630Z"
   },
   {
    "duration": 7,
    "start_time": "2022-02-21T14:02:59.658Z"
   },
   {
    "duration": 12,
    "start_time": "2022-02-21T14:02:59.962Z"
   },
   {
    "duration": 8,
    "start_time": "2022-02-21T14:03:00.172Z"
   },
   {
    "duration": 6,
    "start_time": "2022-02-21T14:03:00.347Z"
   },
   {
    "duration": 5,
    "start_time": "2022-02-21T14:03:00.689Z"
   },
   {
    "duration": 6,
    "start_time": "2022-02-21T14:03:00.857Z"
   },
   {
    "duration": 6,
    "start_time": "2022-02-21T14:03:01.026Z"
   },
   {
    "duration": 16,
    "start_time": "2022-02-21T14:03:01.385Z"
   },
   {
    "duration": 14,
    "start_time": "2022-02-21T14:03:02.123Z"
   },
   {
    "duration": 14,
    "start_time": "2022-02-21T14:03:02.474Z"
   },
   {
    "duration": 16,
    "start_time": "2022-02-21T14:03:02.834Z"
   },
   {
    "duration": 12,
    "start_time": "2022-02-21T14:03:03.457Z"
   },
   {
    "duration": 13,
    "start_time": "2022-02-21T14:03:04.282Z"
   },
   {
    "duration": 16,
    "start_time": "2022-02-21T14:03:05.434Z"
   },
   {
    "duration": 15,
    "start_time": "2022-02-21T14:03:06.171Z"
   },
   {
    "duration": 19,
    "start_time": "2022-02-21T14:03:08.723Z"
   },
   {
    "duration": 7,
    "start_time": "2022-02-21T14:03:11.962Z"
   },
   {
    "duration": 8,
    "start_time": "2022-02-21T14:03:14.858Z"
   },
   {
    "duration": 222,
    "start_time": "2022-02-21T14:03:19.771Z"
   },
   {
    "duration": 23,
    "start_time": "2022-02-21T14:04:46.470Z"
   },
   {
    "duration": 11,
    "start_time": "2022-02-21T14:05:36.172Z"
   },
   {
    "duration": 13,
    "start_time": "2022-02-21T14:05:56.248Z"
   },
   {
    "duration": 64,
    "start_time": "2022-02-21T14:08:43.229Z"
   },
   {
    "duration": 117,
    "start_time": "2022-02-21T14:08:56.179Z"
   },
   {
    "duration": 28,
    "start_time": "2022-02-21T14:09:02.746Z"
   },
   {
    "duration": 30,
    "start_time": "2022-02-21T14:11:51.395Z"
   },
   {
    "duration": 72,
    "start_time": "2022-02-21T14:12:46.924Z"
   },
   {
    "duration": 22,
    "start_time": "2022-02-21T14:13:08.307Z"
   },
   {
    "duration": 73,
    "start_time": "2022-02-21T14:14:23.677Z"
   },
   {
    "duration": 24,
    "start_time": "2022-02-21T14:15:23.349Z"
   },
   {
    "duration": 92,
    "start_time": "2022-02-21T14:15:51.676Z"
   },
   {
    "duration": 28,
    "start_time": "2022-02-21T14:16:05.915Z"
   },
   {
    "duration": 614,
    "start_time": "2022-02-22T03:28:17.700Z"
   },
   {
    "duration": 48,
    "start_time": "2022-02-22T03:28:18.318Z"
   },
   {
    "duration": 21,
    "start_time": "2022-02-22T03:28:18.468Z"
   },
   {
    "duration": 12,
    "start_time": "2022-02-22T03:28:31.420Z"
   },
   {
    "duration": 6,
    "start_time": "2022-02-22T03:40:27.835Z"
   },
   {
    "duration": 7,
    "start_time": "2022-02-22T03:40:51.300Z"
   },
   {
    "duration": 6,
    "start_time": "2022-02-22T03:44:16.076Z"
   },
   {
    "duration": 6,
    "start_time": "2022-02-22T03:45:01.366Z"
   },
   {
    "duration": 14,
    "start_time": "2022-02-22T03:45:02.109Z"
   },
   {
    "duration": 7,
    "start_time": "2022-02-22T03:49:39.893Z"
   },
   {
    "duration": 7,
    "start_time": "2022-02-22T03:49:43.510Z"
   },
   {
    "duration": 12,
    "start_time": "2022-02-22T03:49:44.535Z"
   },
   {
    "duration": 9,
    "start_time": "2022-02-22T03:50:40.911Z"
   },
   {
    "duration": 7,
    "start_time": "2022-02-22T03:50:52.078Z"
   },
   {
    "duration": 8,
    "start_time": "2022-02-22T03:51:01.911Z"
   },
   {
    "duration": 7,
    "start_time": "2022-02-22T03:51:20.095Z"
   },
   {
    "duration": 7,
    "start_time": "2022-02-22T03:51:28.190Z"
   },
   {
    "duration": 10,
    "start_time": "2022-02-22T03:51:29.262Z"
   },
   {
    "duration": 17,
    "start_time": "2022-02-22T03:55:00.020Z"
   },
   {
    "duration": 15,
    "start_time": "2022-02-22T03:55:22.959Z"
   },
   {
    "duration": 16,
    "start_time": "2022-02-22T03:55:49.183Z"
   },
   {
    "duration": 15,
    "start_time": "2022-02-22T03:55:58.063Z"
   },
   {
    "duration": 15,
    "start_time": "2022-02-22T03:56:21.103Z"
   },
   {
    "duration": 17,
    "start_time": "2022-02-22T03:57:32.670Z"
   },
   {
    "duration": 31,
    "start_time": "2022-02-22T03:57:53.935Z"
   },
   {
    "duration": 17,
    "start_time": "2022-02-22T03:58:56.671Z"
   },
   {
    "duration": 5,
    "start_time": "2022-02-22T03:59:05.415Z"
   },
   {
    "duration": 4,
    "start_time": "2022-02-22T03:59:21.639Z"
   },
   {
    "duration": 5,
    "start_time": "2022-02-22T03:59:22.751Z"
   },
   {
    "duration": 5,
    "start_time": "2022-02-22T03:59:40.775Z"
   },
   {
    "duration": 15,
    "start_time": "2022-02-22T04:00:09.351Z"
   },
   {
    "duration": 17,
    "start_time": "2022-02-22T04:21:24.094Z"
   },
   {
    "duration": 9,
    "start_time": "2022-02-22T04:25:01.537Z"
   },
   {
    "duration": 8,
    "start_time": "2022-02-22T04:25:46.226Z"
   },
   {
    "duration": 293,
    "start_time": "2022-02-22T04:27:09.000Z"
   },
   {
    "duration": 8,
    "start_time": "2022-02-22T04:27:20.586Z"
   },
   {
    "duration": 213,
    "start_time": "2022-02-22T04:27:40.649Z"
   },
   {
    "duration": 278,
    "start_time": "2022-02-22T04:27:43.347Z"
   },
   {
    "duration": 3,
    "start_time": "2022-02-22T04:27:58.153Z"
   },
   {
    "duration": 47,
    "start_time": "2022-02-22T04:27:58.337Z"
   },
   {
    "duration": 13,
    "start_time": "2022-02-22T04:27:58.521Z"
   },
   {
    "duration": 14,
    "start_time": "2022-02-22T04:27:58.865Z"
   },
   {
    "duration": 6,
    "start_time": "2022-02-22T04:28:00.155Z"
   },
   {
    "duration": 6,
    "start_time": "2022-02-22T04:28:00.761Z"
   },
   {
    "duration": 8,
    "start_time": "2022-02-22T04:28:01.752Z"
   },
   {
    "duration": 7,
    "start_time": "2022-02-22T04:28:02.201Z"
   },
   {
    "duration": 10,
    "start_time": "2022-02-22T04:28:02.393Z"
   },
   {
    "duration": 14,
    "start_time": "2022-02-22T04:28:03.122Z"
   },
   {
    "duration": 15,
    "start_time": "2022-02-22T04:28:03.490Z"
   },
   {
    "duration": 17,
    "start_time": "2022-02-22T04:28:04.553Z"
   },
   {
    "duration": 31,
    "start_time": "2022-02-22T04:28:05.394Z"
   },
   {
    "duration": 5,
    "start_time": "2022-02-22T04:28:05.929Z"
   },
   {
    "duration": 6,
    "start_time": "2022-02-22T04:28:06.257Z"
   },
   {
    "duration": 5,
    "start_time": "2022-02-22T04:28:06.649Z"
   },
   {
    "duration": 6,
    "start_time": "2022-02-22T04:28:07.034Z"
   },
   {
    "duration": 16,
    "start_time": "2022-02-22T04:28:07.385Z"
   },
   {
    "duration": 5,
    "start_time": "2022-02-22T04:28:07.809Z"
   },
   {
    "duration": 4,
    "start_time": "2022-02-22T04:28:08.513Z"
   },
   {
    "duration": 5,
    "start_time": "2022-02-22T04:28:08.841Z"
   },
   {
    "duration": 6,
    "start_time": "2022-02-22T04:28:09.193Z"
   },
   {
    "duration": 15,
    "start_time": "2022-02-22T04:28:11.841Z"
   },
   {
    "duration": 14,
    "start_time": "2022-02-22T04:28:14.573Z"
   },
   {
    "duration": 13,
    "start_time": "2022-02-22T04:28:16.307Z"
   },
   {
    "duration": 7,
    "start_time": "2022-02-22T04:28:18.186Z"
   },
   {
    "duration": 21,
    "start_time": "2022-02-22T04:28:19.641Z"
   },
   {
    "duration": 208,
    "start_time": "2022-02-22T04:28:25.755Z"
   },
   {
    "duration": 2,
    "start_time": "2022-02-22T04:28:36.469Z"
   },
   {
    "duration": 45,
    "start_time": "2022-02-22T04:28:36.665Z"
   },
   {
    "duration": 12,
    "start_time": "2022-02-22T04:28:36.859Z"
   },
   {
    "duration": 11,
    "start_time": "2022-02-22T04:28:37.241Z"
   },
   {
    "duration": 7,
    "start_time": "2022-02-22T04:28:38.370Z"
   },
   {
    "duration": 6,
    "start_time": "2022-02-22T04:28:38.463Z"
   },
   {
    "duration": 6,
    "start_time": "2022-02-22T04:28:38.570Z"
   },
   {
    "duration": 7,
    "start_time": "2022-02-22T04:28:38.634Z"
   },
   {
    "duration": 9,
    "start_time": "2022-02-22T04:28:39.165Z"
   },
   {
    "duration": 16,
    "start_time": "2022-02-22T04:28:40.010Z"
   },
   {
    "duration": 15,
    "start_time": "2022-02-22T04:28:40.377Z"
   },
   {
    "duration": 20,
    "start_time": "2022-02-22T04:28:41.065Z"
   },
   {
    "duration": 34,
    "start_time": "2022-02-22T04:28:41.769Z"
   },
   {
    "duration": 6,
    "start_time": "2022-02-22T04:28:42.417Z"
   },
   {
    "duration": 5,
    "start_time": "2022-02-22T04:28:42.729Z"
   },
   {
    "duration": 5,
    "start_time": "2022-02-22T04:28:42.945Z"
   },
   {
    "duration": 7,
    "start_time": "2022-02-22T04:28:43.105Z"
   },
   {
    "duration": 17,
    "start_time": "2022-02-22T04:28:43.273Z"
   },
   {
    "duration": 5,
    "start_time": "2022-02-22T04:28:43.448Z"
   },
   {
    "duration": 4,
    "start_time": "2022-02-22T04:28:43.792Z"
   },
   {
    "duration": 6,
    "start_time": "2022-02-22T04:28:43.961Z"
   },
   {
    "duration": 6,
    "start_time": "2022-02-22T04:28:44.141Z"
   },
   {
    "duration": 17,
    "start_time": "2022-02-22T04:28:44.473Z"
   },
   {
    "duration": 14,
    "start_time": "2022-02-22T04:28:45.585Z"
   },
   {
    "duration": 13,
    "start_time": "2022-02-22T04:28:46.473Z"
   },
   {
    "duration": 8,
    "start_time": "2022-02-22T04:28:48.218Z"
   },
   {
    "duration": 20,
    "start_time": "2022-02-22T04:28:50.097Z"
   },
   {
    "duration": 6,
    "start_time": "2022-02-22T04:29:20.977Z"
   },
   {
    "duration": 13,
    "start_time": "2022-02-22T04:33:33.075Z"
   },
   {
    "duration": 12,
    "start_time": "2022-02-22T04:34:22.202Z"
   },
   {
    "duration": 11,
    "start_time": "2022-02-22T04:37:35.130Z"
   },
   {
    "duration": 12,
    "start_time": "2022-02-22T04:37:58.226Z"
   },
   {
    "duration": 4,
    "start_time": "2022-02-22T04:38:15.091Z"
   },
   {
    "duration": 4,
    "start_time": "2022-02-22T04:39:12.028Z"
   },
   {
    "duration": 4,
    "start_time": "2022-02-22T04:40:05.635Z"
   },
   {
    "duration": 5,
    "start_time": "2022-02-22T04:40:12.434Z"
   },
   {
    "duration": 5,
    "start_time": "2022-02-22T04:40:44.819Z"
   },
   {
    "duration": 5,
    "start_time": "2022-02-22T04:40:54.084Z"
   },
   {
    "duration": 4,
    "start_time": "2022-02-22T04:41:03.027Z"
   },
   {
    "duration": 227,
    "start_time": "2022-02-22T04:41:42.333Z"
   },
   {
    "duration": 12,
    "start_time": "2022-02-22T04:41:48.643Z"
   },
   {
    "duration": 248,
    "start_time": "2022-02-22T04:42:02.563Z"
   },
   {
    "duration": 10,
    "start_time": "2022-02-22T04:42:36.412Z"
   },
   {
    "duration": 11,
    "start_time": "2022-02-22T04:42:42.603Z"
   },
   {
    "duration": 10,
    "start_time": "2022-02-22T04:43:14.117Z"
   },
   {
    "duration": 11,
    "start_time": "2022-02-22T04:43:51.933Z"
   },
   {
    "duration": 12,
    "start_time": "2022-02-22T04:43:54.891Z"
   },
   {
    "duration": 12,
    "start_time": "2022-02-22T04:44:26.555Z"
   },
   {
    "duration": 13,
    "start_time": "2022-02-22T04:44:26.980Z"
   },
   {
    "duration": 4,
    "start_time": "2022-02-22T04:44:27.443Z"
   },
   {
    "duration": 11,
    "start_time": "2022-02-22T04:45:50.493Z"
   },
   {
    "duration": 3,
    "start_time": "2022-02-22T04:46:50.883Z"
   },
   {
    "duration": 3,
    "start_time": "2022-02-22T04:47:24.925Z"
   },
   {
    "duration": 82,
    "start_time": "2022-02-22T04:49:42.068Z"
   },
   {
    "duration": 84,
    "start_time": "2022-02-22T04:49:52.164Z"
   },
   {
    "duration": 77,
    "start_time": "2022-02-22T04:50:57.037Z"
   },
   {
    "duration": 106,
    "start_time": "2022-02-22T04:51:03.613Z"
   },
   {
    "duration": 4,
    "start_time": "2022-02-22T04:51:07.749Z"
   },
   {
    "duration": 76,
    "start_time": "2022-02-22T04:51:33.565Z"
   },
   {
    "duration": 5,
    "start_time": "2022-02-22T04:51:50.700Z"
   },
   {
    "duration": 4,
    "start_time": "2022-02-22T04:53:17.118Z"
   },
   {
    "duration": 5,
    "start_time": "2022-02-22T04:54:03.085Z"
   },
   {
    "duration": 13,
    "start_time": "2022-02-22T04:58:59.453Z"
   },
   {
    "duration": 13,
    "start_time": "2022-02-22T05:00:10.070Z"
   },
   {
    "duration": 570,
    "start_time": "2022-02-22T05:03:07.318Z"
   },
   {
    "duration": 12,
    "start_time": "2022-02-22T05:03:17.861Z"
   },
   {
    "duration": 589,
    "start_time": "2022-02-22T05:03:19.398Z"
   },
   {
    "duration": 4,
    "start_time": "2022-02-22T05:03:38.382Z"
   },
   {
    "duration": 4,
    "start_time": "2022-02-22T05:05:54.134Z"
   },
   {
    "duration": 5305,
    "start_time": "2022-02-22T05:08:40.158Z"
   },
   {
    "duration": 5201,
    "start_time": "2022-02-22T05:08:45.742Z"
   },
   {
    "duration": -40,
    "start_time": "2022-02-22T05:08:50.985Z"
   },
   {
    "duration": -44,
    "start_time": "2022-02-22T05:08:50.990Z"
   },
   {
    "duration": 3,
    "start_time": "2022-02-22T05:08:50.966Z"
   },
   {
    "duration": 5338,
    "start_time": "2022-02-22T05:08:52.862Z"
   },
   {
    "duration": 5824,
    "start_time": "2022-02-22T05:09:45.606Z"
   },
   {
    "duration": -26,
    "start_time": "2022-02-22T05:09:51.458Z"
   },
   {
    "duration": -27,
    "start_time": "2022-02-22T05:09:51.460Z"
   },
   {
    "duration": -29,
    "start_time": "2022-02-22T05:09:51.463Z"
   },
   {
    "duration": -31,
    "start_time": "2022-02-22T05:09:51.466Z"
   },
   {
    "duration": 9,
    "start_time": "2022-02-22T05:09:51.782Z"
   },
   {
    "duration": 5392,
    "start_time": "2022-02-22T05:09:53.342Z"
   },
   {
    "duration": -30,
    "start_time": "2022-02-22T05:09:58.766Z"
   },
   {
    "duration": -35,
    "start_time": "2022-02-22T05:09:58.772Z"
   },
   {
    "duration": -37,
    "start_time": "2022-02-22T05:09:58.775Z"
   },
   {
    "duration": -41,
    "start_time": "2022-02-22T05:09:58.780Z"
   },
   {
    "duration": -45,
    "start_time": "2022-02-22T05:09:58.785Z"
   },
   {
    "duration": -49,
    "start_time": "2022-02-22T05:09:58.790Z"
   },
   {
    "duration": 11,
    "start_time": "2022-02-22T05:09:58.934Z"
   },
   {
    "duration": 19,
    "start_time": "2022-02-22T05:09:59.334Z"
   },
   {
    "duration": 5872,
    "start_time": "2022-02-22T05:09:59.726Z"
   },
   {
    "duration": -25,
    "start_time": "2022-02-22T05:10:05.625Z"
   },
   {
    "duration": -29,
    "start_time": "2022-02-22T05:10:05.630Z"
   },
   {
    "duration": -32,
    "start_time": "2022-02-22T05:10:05.634Z"
   },
   {
    "duration": -34,
    "start_time": "2022-02-22T05:10:05.638Z"
   },
   {
    "duration": -36,
    "start_time": "2022-02-22T05:10:05.641Z"
   },
   {
    "duration": -39,
    "start_time": "2022-02-22T05:10:05.645Z"
   },
   {
    "duration": -41,
    "start_time": "2022-02-22T05:10:05.648Z"
   },
   {
    "duration": -43,
    "start_time": "2022-02-22T05:10:05.651Z"
   },
   {
    "duration": -44,
    "start_time": "2022-02-22T05:10:05.654Z"
   },
   {
    "duration": -46,
    "start_time": "2022-02-22T05:10:05.657Z"
   },
   {
    "duration": -48,
    "start_time": "2022-02-22T05:10:05.660Z"
   },
   {
    "duration": -56,
    "start_time": "2022-02-22T05:10:05.669Z"
   },
   {
    "duration": 251,
    "start_time": "2022-02-22T05:10:06.398Z"
   },
   {
    "duration": 246,
    "start_time": "2022-02-22T05:10:23.966Z"
   },
   {
    "duration": 3,
    "start_time": "2022-02-22T05:10:28.222Z"
   },
   {
    "duration": 1404,
    "start_time": "2022-02-22T05:10:28.407Z"
   },
   {
    "duration": 36,
    "start_time": "2022-02-22T05:10:29.814Z"
   },
   {
    "duration": 116,
    "start_time": "2022-02-22T05:10:29.853Z"
   },
   {
    "duration": 7,
    "start_time": "2022-02-22T05:10:31.478Z"
   },
   {
    "duration": 6,
    "start_time": "2022-02-22T05:10:33.814Z"
   },
   {
    "duration": 6,
    "start_time": "2022-02-22T05:10:36.078Z"
   },
   {
    "duration": 8,
    "start_time": "2022-02-22T05:10:38.165Z"
   },
   {
    "duration": 10,
    "start_time": "2022-02-22T05:10:38.814Z"
   },
   {
    "duration": 17,
    "start_time": "2022-02-22T05:10:41.918Z"
   },
   {
    "duration": 16,
    "start_time": "2022-02-22T05:10:44.254Z"
   },
   {
    "duration": 17,
    "start_time": "2022-02-22T05:10:47.631Z"
   },
   {
    "duration": 34,
    "start_time": "2022-02-22T05:10:49.230Z"
   },
   {
    "duration": 6,
    "start_time": "2022-02-22T05:10:50.830Z"
   },
   {
    "duration": 5,
    "start_time": "2022-02-22T05:10:51.790Z"
   },
   {
    "duration": 5,
    "start_time": "2022-02-22T05:10:52.478Z"
   },
   {
    "duration": 7,
    "start_time": "2022-02-22T05:10:53.334Z"
   },
   {
    "duration": 15,
    "start_time": "2022-02-22T05:10:54.022Z"
   },
   {
    "duration": 5,
    "start_time": "2022-02-22T05:10:56.158Z"
   },
   {
    "duration": 4,
    "start_time": "2022-02-22T05:10:57.151Z"
   },
   {
    "duration": 5,
    "start_time": "2022-02-22T05:10:57.638Z"
   },
   {
    "duration": 6,
    "start_time": "2022-02-22T05:10:58.302Z"
   },
   {
    "duration": 16,
    "start_time": "2022-02-22T05:11:00.870Z"
   },
   {
    "duration": 14,
    "start_time": "2022-02-22T05:11:03.007Z"
   },
   {
    "duration": 13,
    "start_time": "2022-02-22T05:11:05.982Z"
   },
   {
    "duration": 8,
    "start_time": "2022-02-22T05:11:07.614Z"
   },
   {
    "duration": 21,
    "start_time": "2022-02-22T05:11:09.311Z"
   },
   {
    "duration": 13,
    "start_time": "2022-02-22T05:11:12.782Z"
   },
   {
    "duration": 13,
    "start_time": "2022-02-22T05:11:15.398Z"
   },
   {
    "duration": 15,
    "start_time": "2022-02-22T05:11:18.646Z"
   },
   {
    "duration": 18,
    "start_time": "2022-02-22T05:11:20.126Z"
   },
   {
    "duration": 12,
    "start_time": "2022-02-22T05:11:24.350Z"
   },
   {
    "duration": 12,
    "start_time": "2022-02-22T05:11:25.120Z"
   },
   {
    "duration": 4,
    "start_time": "2022-02-22T05:11:26.646Z"
   },
   {
    "duration": 4,
    "start_time": "2022-02-22T05:11:28.830Z"
   },
   {
    "duration": 12,
    "start_time": "2022-02-22T05:11:32.704Z"
   },
   {
    "duration": 14,
    "start_time": "2022-02-22T05:11:33.567Z"
   },
   {
    "duration": 4,
    "start_time": "2022-02-22T05:11:34.862Z"
   },
   {
    "duration": 4,
    "start_time": "2022-02-22T05:11:36.870Z"
   },
   {
    "duration": 11,
    "start_time": "2022-02-22T05:11:41.335Z"
   },
   {
    "duration": 24,
    "start_time": "2022-02-22T05:13:11.359Z"
   },
   {
    "duration": 5,
    "start_time": "2022-02-22T05:15:57.119Z"
   },
   {
    "duration": 21,
    "start_time": "2022-02-22T05:18:31.736Z"
   },
   {
    "duration": 240,
    "start_time": "2022-02-22T05:20:14.792Z"
   },
   {
    "duration": 5,
    "start_time": "2022-02-22T05:20:22.248Z"
   },
   {
    "duration": 11,
    "start_time": "2022-02-22T05:33:05.514Z"
   },
   {
    "duration": 3,
    "start_time": "2022-02-22T05:33:12.216Z"
   },
   {
    "duration": 47,
    "start_time": "2022-02-22T05:33:12.384Z"
   },
   {
    "duration": 14,
    "start_time": "2022-02-22T05:33:12.546Z"
   },
   {
    "duration": 12,
    "start_time": "2022-02-22T05:33:12.920Z"
   },
   {
    "duration": 8,
    "start_time": "2022-02-22T05:33:14.160Z"
   },
   {
    "duration": 6,
    "start_time": "2022-02-22T05:33:14.712Z"
   },
   {
    "duration": 6,
    "start_time": "2022-02-22T05:33:15.208Z"
   },
   {
    "duration": 8,
    "start_time": "2022-02-22T05:33:15.528Z"
   },
   {
    "duration": 10,
    "start_time": "2022-02-22T05:33:15.705Z"
   },
   {
    "duration": 14,
    "start_time": "2022-02-22T05:33:17.050Z"
   },
   {
    "duration": 14,
    "start_time": "2022-02-22T05:33:17.881Z"
   },
   {
    "duration": 16,
    "start_time": "2022-02-22T05:33:19.048Z"
   },
   {
    "duration": 33,
    "start_time": "2022-02-22T05:33:19.519Z"
   },
   {
    "duration": 7,
    "start_time": "2022-02-22T05:33:19.871Z"
   },
   {
    "duration": 5,
    "start_time": "2022-02-22T05:33:20.024Z"
   },
   {
    "duration": 6,
    "start_time": "2022-02-22T05:33:20.169Z"
   },
   {
    "duration": 7,
    "start_time": "2022-02-22T05:33:20.344Z"
   },
   {
    "duration": 17,
    "start_time": "2022-02-22T05:33:20.442Z"
   },
   {
    "duration": 5,
    "start_time": "2022-02-22T05:33:20.912Z"
   },
   {
    "duration": 4,
    "start_time": "2022-02-22T05:33:21.464Z"
   },
   {
    "duration": 6,
    "start_time": "2022-02-22T05:33:21.704Z"
   },
   {
    "duration": 5,
    "start_time": "2022-02-22T05:33:21.960Z"
   },
   {
    "duration": 15,
    "start_time": "2022-02-22T05:33:23.584Z"
   },
   {
    "duration": 14,
    "start_time": "2022-02-22T05:33:25.402Z"
   },
   {
    "duration": 14,
    "start_time": "2022-02-22T05:33:27.744Z"
   },
   {
    "duration": 8,
    "start_time": "2022-02-22T05:33:29.344Z"
   },
   {
    "duration": 21,
    "start_time": "2022-02-22T05:33:30.616Z"
   },
   {
    "duration": 13,
    "start_time": "2022-02-22T05:33:32.504Z"
   },
   {
    "duration": 14,
    "start_time": "2022-02-22T05:33:33.240Z"
   },
   {
    "duration": 14,
    "start_time": "2022-02-22T05:33:34.416Z"
   },
   {
    "duration": 15,
    "start_time": "2022-02-22T05:33:35.648Z"
   },
   {
    "duration": 11,
    "start_time": "2022-02-22T05:33:38.336Z"
   },
   {
    "duration": 21,
    "start_time": "2022-02-22T05:37:33.579Z"
   },
   {
    "duration": 3,
    "start_time": "2022-02-22T05:37:41.600Z"
   },
   {
    "duration": 50,
    "start_time": "2022-02-22T05:37:41.801Z"
   },
   {
    "duration": 15,
    "start_time": "2022-02-22T05:37:41.972Z"
   },
   {
    "duration": 12,
    "start_time": "2022-02-22T05:37:42.320Z"
   },
   {
    "duration": 7,
    "start_time": "2022-02-22T05:37:43.672Z"
   },
   {
    "duration": 7,
    "start_time": "2022-02-22T05:37:44.282Z"
   },
   {
    "duration": 7,
    "start_time": "2022-02-22T05:37:44.952Z"
   },
   {
    "duration": 8,
    "start_time": "2022-02-22T05:37:45.394Z"
   },
   {
    "duration": 10,
    "start_time": "2022-02-22T05:37:45.586Z"
   },
   {
    "duration": 16,
    "start_time": "2022-02-22T05:37:46.410Z"
   },
   {
    "duration": 18,
    "start_time": "2022-02-22T05:37:46.777Z"
   },
   {
    "duration": 17,
    "start_time": "2022-02-22T05:37:47.856Z"
   },
   {
    "duration": 37,
    "start_time": "2022-02-22T05:37:48.337Z"
   },
   {
    "duration": 6,
    "start_time": "2022-02-22T05:37:48.777Z"
   },
   {
    "duration": 5,
    "start_time": "2022-02-22T05:37:48.953Z"
   },
   {
    "duration": 5,
    "start_time": "2022-02-22T05:37:49.457Z"
   },
   {
    "duration": 6,
    "start_time": "2022-02-22T05:37:49.494Z"
   },
   {
    "duration": 15,
    "start_time": "2022-02-22T05:37:49.530Z"
   },
   {
    "duration": 4,
    "start_time": "2022-02-22T05:37:49.563Z"
   },
   {
    "duration": 4,
    "start_time": "2022-02-22T05:37:49.615Z"
   },
   {
    "duration": 6,
    "start_time": "2022-02-22T05:37:49.646Z"
   },
   {
    "duration": 6,
    "start_time": "2022-02-22T05:37:49.678Z"
   },
   {
    "duration": 19,
    "start_time": "2022-02-22T05:37:50.025Z"
   },
   {
    "duration": 16,
    "start_time": "2022-02-22T05:37:50.776Z"
   },
   {
    "duration": 14,
    "start_time": "2022-02-22T05:37:51.169Z"
   },
   {
    "duration": 8,
    "start_time": "2022-02-22T05:37:51.640Z"
   },
   {
    "duration": 25,
    "start_time": "2022-02-22T05:37:52.035Z"
   },
   {
    "duration": 12,
    "start_time": "2022-02-22T05:37:52.952Z"
   },
   {
    "duration": 14,
    "start_time": "2022-02-22T05:37:53.416Z"
   },
   {
    "duration": 16,
    "start_time": "2022-02-22T05:37:54.032Z"
   },
   {
    "duration": 14,
    "start_time": "2022-02-22T05:37:54.561Z"
   },
   {
    "duration": 20,
    "start_time": "2022-02-22T05:37:56.481Z"
   },
   {
    "duration": 9,
    "start_time": "2022-02-22T05:37:57.097Z"
   },
   {
    "duration": 6,
    "start_time": "2022-02-22T05:41:20.866Z"
   },
   {
    "duration": 4,
    "start_time": "2022-02-22T05:41:47.418Z"
   },
   {
    "duration": 5,
    "start_time": "2022-02-22T05:42:42.883Z"
   },
   {
    "duration": 241,
    "start_time": "2022-02-22T05:47:27.955Z"
   },
   {
    "duration": 219,
    "start_time": "2022-02-22T05:47:44.323Z"
   },
   {
    "duration": 211,
    "start_time": "2022-02-22T05:48:05.571Z"
   },
   {
    "duration": 12,
    "start_time": "2022-02-22T05:48:21.362Z"
   },
   {
    "duration": 14,
    "start_time": "2022-02-22T05:48:35.091Z"
   },
   {
    "duration": 99,
    "start_time": "2022-02-22T05:49:08.075Z"
   },
   {
    "duration": 6,
    "start_time": "2022-02-22T05:49:14.634Z"
   },
   {
    "duration": 7,
    "start_time": "2022-02-22T05:49:26.858Z"
   },
   {
    "duration": 3,
    "start_time": "2022-02-22T05:53:30.099Z"
   },
   {
    "duration": 2,
    "start_time": "2022-02-22T05:54:14.653Z"
   },
   {
    "duration": 7,
    "start_time": "2022-02-22T05:56:39.035Z"
   },
   {
    "duration": 3,
    "start_time": "2022-02-22T05:56:49.643Z"
   },
   {
    "duration": 8,
    "start_time": "2022-02-22T05:59:38.115Z"
   },
   {
    "duration": 2,
    "start_time": "2022-02-22T05:59:49.462Z"
   },
   {
    "duration": 8,
    "start_time": "2022-02-22T06:01:14.667Z"
   },
   {
    "duration": 3,
    "start_time": "2022-02-22T06:01:26.556Z"
   },
   {
    "duration": 210,
    "start_time": "2022-03-05T04:15:48.662Z"
   },
   {
    "duration": 549,
    "start_time": "2022-03-05T04:22:25.520Z"
   },
   {
    "duration": 52,
    "start_time": "2022-03-05T04:22:26.071Z"
   },
   {
    "duration": 19,
    "start_time": "2022-03-05T04:22:26.284Z"
   },
   {
    "duration": 12,
    "start_time": "2022-03-05T04:22:28.190Z"
   },
   {
    "duration": 6,
    "start_time": "2022-03-05T04:22:32.285Z"
   },
   {
    "duration": 6,
    "start_time": "2022-03-05T04:22:34.321Z"
   },
   {
    "duration": 5,
    "start_time": "2022-03-05T04:22:35.805Z"
   },
   {
    "duration": 7,
    "start_time": "2022-03-05T04:22:37.001Z"
   },
   {
    "duration": 9,
    "start_time": "2022-03-05T04:22:37.460Z"
   },
   {
    "duration": 14,
    "start_time": "2022-03-05T04:22:40.257Z"
   },
   {
    "duration": 13,
    "start_time": "2022-03-05T04:22:42.127Z"
   },
   {
    "duration": 4,
    "start_time": "2022-03-05T04:22:55.875Z"
   },
   {
    "duration": 6,
    "start_time": "2022-03-05T04:22:56.762Z"
   },
   {
    "duration": 6,
    "start_time": "2022-03-05T04:22:57.761Z"
   },
   {
    "duration": 6,
    "start_time": "2022-03-05T04:22:58.403Z"
   },
   {
    "duration": 18,
    "start_time": "2022-03-05T04:22:58.995Z"
   },
   {
    "duration": 4,
    "start_time": "2022-03-05T04:23:00.333Z"
   },
   {
    "duration": 5,
    "start_time": "2022-03-05T04:23:01.367Z"
   },
   {
    "duration": 8,
    "start_time": "2022-03-05T04:23:01.848Z"
   },
   {
    "duration": 6,
    "start_time": "2022-03-05T04:23:02.424Z"
   },
   {
    "duration": 15,
    "start_time": "2022-03-05T04:23:06.312Z"
   },
   {
    "duration": 17,
    "start_time": "2022-03-05T04:23:11.864Z"
   },
   {
    "duration": 29,
    "start_time": "2022-03-05T04:23:13.517Z"
   },
   {
    "duration": 5,
    "start_time": "2022-03-05T04:34:31.994Z"
   },
   {
    "duration": 7,
    "start_time": "2022-03-05T04:35:22.379Z"
   },
   {
    "duration": 5,
    "start_time": "2022-03-05T04:35:25.049Z"
   },
   {
    "duration": 202,
    "start_time": "2022-03-05T04:38:09.941Z"
   },
   {
    "duration": 153,
    "start_time": "2022-03-05T04:38:13.000Z"
   },
   {
    "duration": 6,
    "start_time": "2022-03-05T04:38:24.338Z"
   },
   {
    "duration": 7,
    "start_time": "2022-03-05T04:39:59.292Z"
   },
   {
    "duration": 17,
    "start_time": "2022-03-05T04:40:00.066Z"
   },
   {
    "duration": 5,
    "start_time": "2022-03-05T04:40:01.775Z"
   },
   {
    "duration": 3,
    "start_time": "2022-03-05T04:40:13.412Z"
   },
   {
    "duration": 48,
    "start_time": "2022-03-05T04:40:13.603Z"
   },
   {
    "duration": 12,
    "start_time": "2022-03-05T04:40:13.851Z"
   },
   {
    "duration": 12,
    "start_time": "2022-03-05T04:40:14.296Z"
   },
   {
    "duration": 6,
    "start_time": "2022-03-05T04:40:16.527Z"
   },
   {
    "duration": 6,
    "start_time": "2022-03-05T04:40:17.701Z"
   },
   {
    "duration": 6,
    "start_time": "2022-03-05T04:46:16.489Z"
   },
   {
    "duration": 7,
    "start_time": "2022-03-05T04:46:18.139Z"
   },
   {
    "duration": 10,
    "start_time": "2022-03-05T04:46:18.740Z"
   },
   {
    "duration": 14,
    "start_time": "2022-03-05T04:46:21.080Z"
   },
   {
    "duration": 14,
    "start_time": "2022-03-05T04:46:22.407Z"
   },
   {
    "duration": 6,
    "start_time": "2022-03-05T04:46:24.470Z"
   },
   {
    "duration": 6,
    "start_time": "2022-03-05T04:46:24.889Z"
   },
   {
    "duration": 6,
    "start_time": "2022-03-05T04:46:25.378Z"
   },
   {
    "duration": 6,
    "start_time": "2022-03-05T04:46:25.828Z"
   },
   {
    "duration": 5,
    "start_time": "2022-03-05T04:46:26.216Z"
   },
   {
    "duration": 7,
    "start_time": "2022-03-05T04:46:28.926Z"
   },
   {
    "duration": 7,
    "start_time": "2022-03-05T04:46:31.421Z"
   },
   {
    "duration": 16,
    "start_time": "2022-03-05T04:46:31.940Z"
   },
   {
    "duration": 5,
    "start_time": "2022-03-05T04:46:37.354Z"
   },
   {
    "duration": 3,
    "start_time": "2022-03-05T04:46:41.130Z"
   },
   {
    "duration": 5,
    "start_time": "2022-03-05T04:46:41.608Z"
   },
   {
    "duration": 5,
    "start_time": "2022-03-05T04:46:42.935Z"
   },
   {
    "duration": 15,
    "start_time": "2022-03-05T04:46:45.251Z"
   },
   {
    "duration": 16,
    "start_time": "2022-03-05T04:46:48.312Z"
   },
   {
    "duration": 33,
    "start_time": "2022-03-05T04:46:49.991Z"
   },
   {
    "duration": 169,
    "start_time": "2022-03-05T05:20:02.967Z"
   },
   {
    "duration": 3,
    "start_time": "2022-03-05T05:20:15.407Z"
   },
   {
    "duration": 41,
    "start_time": "2022-03-05T05:20:15.684Z"
   },
   {
    "duration": 13,
    "start_time": "2022-03-05T05:20:16.035Z"
   },
   {
    "duration": 11,
    "start_time": "2022-03-05T05:20:17.172Z"
   },
   {
    "duration": 6,
    "start_time": "2022-03-05T05:20:21.633Z"
   },
   {
    "duration": 5,
    "start_time": "2022-03-05T05:20:23.190Z"
   },
   {
    "duration": 6,
    "start_time": "2022-03-05T05:20:24.214Z"
   },
   {
    "duration": 7,
    "start_time": "2022-03-05T05:20:25.337Z"
   },
   {
    "duration": 10,
    "start_time": "2022-03-05T05:20:25.767Z"
   },
   {
    "duration": 15,
    "start_time": "2022-03-05T05:20:27.884Z"
   },
   {
    "duration": 14,
    "start_time": "2022-03-05T05:20:28.387Z"
   },
   {
    "duration": 4,
    "start_time": "2022-03-05T05:20:30.650Z"
   },
   {
    "duration": 5,
    "start_time": "2022-03-05T05:20:30.902Z"
   },
   {
    "duration": 5,
    "start_time": "2022-03-05T05:20:31.176Z"
   },
   {
    "duration": 6,
    "start_time": "2022-03-05T05:20:31.460Z"
   },
   {
    "duration": 5,
    "start_time": "2022-03-05T05:20:31.695Z"
   },
   {
    "duration": 7,
    "start_time": "2022-03-05T05:20:32.280Z"
   },
   {
    "duration": 6,
    "start_time": "2022-03-05T05:20:32.859Z"
   },
   {
    "duration": 15,
    "start_time": "2022-03-05T05:20:33.141Z"
   },
   {
    "duration": 5,
    "start_time": "2022-03-05T05:20:33.885Z"
   },
   {
    "duration": 4,
    "start_time": "2022-03-05T05:20:35.341Z"
   },
   {
    "duration": 5,
    "start_time": "2022-03-05T05:20:35.707Z"
   },
   {
    "duration": 5,
    "start_time": "2022-03-05T05:20:36.117Z"
   },
   {
    "duration": 15,
    "start_time": "2022-03-05T05:20:37.112Z"
   },
   {
    "duration": 16,
    "start_time": "2022-03-05T05:20:38.398Z"
   },
   {
    "duration": 31,
    "start_time": "2022-03-05T05:20:39.220Z"
   },
   {
    "duration": 12,
    "start_time": "2022-03-05T05:20:41.830Z"
   },
   {
    "duration": 12,
    "start_time": "2022-03-05T05:20:42.489Z"
   },
   {
    "duration": 8,
    "start_time": "2022-03-05T05:20:43.145Z"
   },
   {
    "duration": 21,
    "start_time": "2022-03-05T05:20:43.790Z"
   },
   {
    "duration": 11,
    "start_time": "2022-03-05T05:20:45.901Z"
   },
   {
    "duration": 14,
    "start_time": "2022-03-05T05:20:46.878Z"
   },
   {
    "duration": 13,
    "start_time": "2022-03-05T05:20:48.362Z"
   },
   {
    "duration": 14,
    "start_time": "2022-03-05T05:20:49.430Z"
   },
   {
    "duration": 2,
    "start_time": "2022-03-05T05:20:50.734Z"
   },
   {
    "duration": 177,
    "start_time": "2022-03-05T05:21:04.220Z"
   },
   {
    "duration": 10,
    "start_time": "2022-03-05T05:21:38.341Z"
   },
   {
    "duration": 10,
    "start_time": "2022-03-05T05:21:42.911Z"
   },
   {
    "duration": 11,
    "start_time": "2022-03-05T05:22:13.485Z"
   },
   {
    "duration": 13,
    "start_time": "2022-03-05T05:56:32.400Z"
   },
   {
    "duration": 454,
    "start_time": "2022-03-05T06:06:26.188Z"
   },
   {
    "duration": 21,
    "start_time": "2022-03-05T06:07:03.301Z"
   },
   {
    "duration": 13,
    "start_time": "2022-03-05T06:07:56.272Z"
   },
   {
    "duration": 3095,
    "start_time": "2022-03-05T08:01:38.259Z"
   },
   {
    "duration": 12,
    "start_time": "2022-03-05T08:04:03.782Z"
   },
   {
    "duration": 12,
    "start_time": "2022-03-05T08:04:26.570Z"
   },
   {
    "duration": 28,
    "start_time": "2022-03-05T08:05:27.822Z"
   },
   {
    "duration": 20,
    "start_time": "2022-03-05T08:06:00.453Z"
   },
   {
    "duration": 21,
    "start_time": "2022-03-05T08:09:24.782Z"
   },
   {
    "duration": 14,
    "start_time": "2022-03-05T08:09:32.172Z"
   },
   {
    "duration": 13,
    "start_time": "2022-03-05T08:09:45.738Z"
   },
   {
    "duration": 19,
    "start_time": "2022-03-05T08:09:53.585Z"
   },
   {
    "duration": 8,
    "start_time": "2022-03-05T08:11:47.779Z"
   },
   {
    "duration": 60,
    "start_time": "2022-03-05T08:12:09.525Z"
   },
   {
    "duration": 6,
    "start_time": "2022-03-05T08:12:39.260Z"
   },
   {
    "duration": 66,
    "start_time": "2022-03-05T08:15:01.643Z"
   },
   {
    "duration": 55,
    "start_time": "2022-03-05T08:15:08.506Z"
   },
   {
    "duration": 54,
    "start_time": "2022-03-05T08:15:15.525Z"
   },
   {
    "duration": 62,
    "start_time": "2022-03-05T08:15:29.563Z"
   },
   {
    "duration": 59,
    "start_time": "2022-03-05T08:15:40.840Z"
   },
   {
    "duration": 164,
    "start_time": "2022-03-05T08:15:55.690Z"
   },
   {
    "duration": 169,
    "start_time": "2022-03-05T08:16:10.816Z"
   },
   {
    "duration": 4334,
    "start_time": "2022-03-05T08:16:18.913Z"
   },
   {
    "duration": 63,
    "start_time": "2022-03-05T08:16:37.243Z"
   },
   {
    "duration": 54,
    "start_time": "2022-03-05T08:17:20.713Z"
   },
   {
    "duration": 165,
    "start_time": "2022-03-05T08:17:24.876Z"
   },
   {
    "duration": 174,
    "start_time": "2022-03-05T08:17:41.443Z"
   },
   {
    "duration": 167,
    "start_time": "2022-03-05T08:21:11.044Z"
   },
   {
    "duration": 167,
    "start_time": "2022-03-05T08:22:06.680Z"
   },
   {
    "duration": 191,
    "start_time": "2022-03-05T08:22:39.432Z"
   },
   {
    "duration": 192,
    "start_time": "2022-03-05T08:22:49.790Z"
   },
   {
    "duration": 172,
    "start_time": "2022-03-05T08:28:23.206Z"
   },
   {
    "duration": 172,
    "start_time": "2022-03-05T08:28:33.258Z"
   },
   {
    "duration": 176,
    "start_time": "2022-03-05T08:29:01.019Z"
   },
   {
    "duration": 16,
    "start_time": "2022-03-05T08:29:23.431Z"
   },
   {
    "duration": 180,
    "start_time": "2022-03-05T08:29:36.236Z"
   },
   {
    "duration": 58,
    "start_time": "2022-03-05T08:31:04.647Z"
   },
   {
    "duration": 57,
    "start_time": "2022-03-05T08:31:32.508Z"
   },
   {
    "duration": 6,
    "start_time": "2022-03-05T08:31:55.104Z"
   },
   {
    "duration": 6,
    "start_time": "2022-03-05T08:32:14.517Z"
   },
   {
    "duration": 6,
    "start_time": "2022-03-05T08:32:28.036Z"
   },
   {
    "duration": 56,
    "start_time": "2022-03-05T08:32:51.181Z"
   },
   {
    "duration": 6,
    "start_time": "2022-03-05T08:34:37.707Z"
   },
   {
    "duration": 6,
    "start_time": "2022-03-05T08:35:20.536Z"
   },
   {
    "duration": 3,
    "start_time": "2022-03-05T08:35:45.676Z"
   },
   {
    "duration": 8,
    "start_time": "2022-03-05T08:37:06.481Z"
   },
   {
    "duration": 5,
    "start_time": "2022-03-05T08:37:17.188Z"
   },
   {
    "duration": 5,
    "start_time": "2022-03-05T08:38:33.724Z"
   },
   {
    "duration": 6,
    "start_time": "2022-03-05T08:38:45.879Z"
   },
   {
    "duration": 5,
    "start_time": "2022-03-05T08:38:58.203Z"
   },
   {
    "duration": 28,
    "start_time": "2022-03-05T08:45:24.300Z"
   },
   {
    "duration": 26,
    "start_time": "2022-03-05T08:51:22.610Z"
   },
   {
    "duration": 66,
    "start_time": "2022-03-05T08:51:28.850Z"
   },
   {
    "duration": 28,
    "start_time": "2022-03-05T08:51:31.891Z"
   },
   {
    "duration": 26,
    "start_time": "2022-03-05T08:51:56.310Z"
   },
   {
    "duration": 12,
    "start_time": "2022-03-05T09:00:54.563Z"
   },
   {
    "duration": 179,
    "start_time": "2022-03-05T09:02:37.213Z"
   },
   {
    "duration": 166,
    "start_time": "2022-03-05T09:02:57.883Z"
   },
   {
    "duration": 172,
    "start_time": "2022-03-05T09:03:06.601Z"
   },
   {
    "duration": 158,
    "start_time": "2022-03-05T09:04:13.192Z"
   },
   {
    "duration": 189,
    "start_time": "2022-03-05T09:04:28.552Z"
   },
   {
    "duration": 17,
    "start_time": "2022-03-05T09:04:49.096Z"
   },
   {
    "duration": 7,
    "start_time": "2022-03-05T09:07:02.257Z"
   },
   {
    "duration": 28,
    "start_time": "2022-03-05T09:07:51.177Z"
   },
   {
    "duration": 6,
    "start_time": "2022-03-05T09:09:45.472Z"
   },
   {
    "duration": 32,
    "start_time": "2022-03-05T09:12:42.104Z"
   },
   {
    "duration": 7,
    "start_time": "2022-03-05T09:26:40.252Z"
   },
   {
    "duration": 6,
    "start_time": "2022-03-05T10:15:39.648Z"
   },
   {
    "duration": 6,
    "start_time": "2022-03-05T10:16:01.385Z"
   },
   {
    "duration": 6,
    "start_time": "2022-03-05T10:16:21.799Z"
   },
   {
    "duration": 6,
    "start_time": "2022-03-05T10:16:25.864Z"
   },
   {
    "duration": 5,
    "start_time": "2022-03-05T10:16:59.274Z"
   },
   {
    "duration": 750,
    "start_time": "2022-03-05T11:24:43.356Z"
   },
   {
    "duration": 65,
    "start_time": "2022-03-05T11:24:44.108Z"
   },
   {
    "duration": 33,
    "start_time": "2022-03-05T11:24:44.176Z"
   },
   {
    "duration": 15,
    "start_time": "2022-03-05T11:24:46.611Z"
   },
   {
    "duration": 9,
    "start_time": "2022-03-05T11:24:48.680Z"
   },
   {
    "duration": 6,
    "start_time": "2022-03-05T11:24:50.967Z"
   },
   {
    "duration": 6,
    "start_time": "2022-03-05T11:24:52.937Z"
   },
   {
    "duration": 8,
    "start_time": "2022-03-05T11:24:54.760Z"
   },
   {
    "duration": 12,
    "start_time": "2022-03-05T11:24:55.209Z"
   },
   {
    "duration": 20,
    "start_time": "2022-03-05T11:24:59.854Z"
   },
   {
    "duration": 20,
    "start_time": "2022-03-05T11:25:01.836Z"
   },
   {
    "duration": 329,
    "start_time": "2022-03-05T11:25:26.555Z"
   },
   {
    "duration": 24,
    "start_time": "2022-03-05T11:25:45.629Z"
   },
   {
    "duration": 75,
    "start_time": "2022-03-05T11:26:36.453Z"
   },
   {
    "duration": 7,
    "start_time": "2022-03-05T11:26:40.752Z"
   },
   {
    "duration": 6,
    "start_time": "2022-03-05T11:26:42.407Z"
   },
   {
    "duration": 7,
    "start_time": "2022-03-05T11:26:42.649Z"
   },
   {
    "duration": 8,
    "start_time": "2022-03-05T11:26:42.893Z"
   },
   {
    "duration": 6,
    "start_time": "2022-03-05T11:26:43.104Z"
   },
   {
    "duration": 7,
    "start_time": "2022-03-05T11:26:45.531Z"
   },
   {
    "duration": 8,
    "start_time": "2022-03-05T11:26:48.836Z"
   },
   {
    "duration": 21,
    "start_time": "2022-03-05T11:26:50.033Z"
   },
   {
    "duration": 5,
    "start_time": "2022-03-05T11:26:59.072Z"
   },
   {
    "duration": 5,
    "start_time": "2022-03-05T11:27:00.701Z"
   },
   {
    "duration": 7,
    "start_time": "2022-03-05T11:27:01.005Z"
   },
   {
    "duration": 7,
    "start_time": "2022-03-05T11:27:02.947Z"
   },
   {
    "duration": 18,
    "start_time": "2022-03-05T11:27:04.105Z"
   },
   {
    "duration": 22,
    "start_time": "2022-03-05T11:27:10.454Z"
   },
   {
    "duration": 43,
    "start_time": "2022-03-05T11:27:11.843Z"
   },
   {
    "duration": 42,
    "start_time": "2022-03-05T11:28:29.577Z"
   },
   {
    "duration": 51,
    "start_time": "2022-03-05T11:28:34.675Z"
   },
   {
    "duration": 102,
    "start_time": "2022-03-05T11:29:36.057Z"
   },
   {
    "duration": 82,
    "start_time": "2022-03-05T11:29:47.985Z"
   },
   {
    "duration": 69,
    "start_time": "2022-03-05T11:29:51.933Z"
   },
   {
    "duration": 277,
    "start_time": "2022-03-05T11:30:09.880Z"
   },
   {
    "duration": 100,
    "start_time": "2022-03-05T11:30:16.010Z"
   },
   {
    "duration": 222,
    "start_time": "2022-03-05T11:32:24.681Z"
   },
   {
    "duration": 40,
    "start_time": "2022-03-05T11:32:28.500Z"
   },
   {
    "duration": 236,
    "start_time": "2022-03-05T11:33:54.418Z"
   },
   {
    "duration": 16,
    "start_time": "2022-03-05T11:34:10.496Z"
   },
   {
    "duration": 14,
    "start_time": "2022-03-05T11:34:11.052Z"
   },
   {
    "duration": 14,
    "start_time": "2022-03-05T11:34:11.518Z"
   },
   {
    "duration": 29,
    "start_time": "2022-03-05T11:34:11.974Z"
   },
   {
    "duration": 17,
    "start_time": "2022-03-05T11:34:13.045Z"
   },
   {
    "duration": 23,
    "start_time": "2022-03-05T11:34:13.644Z"
   },
   {
    "duration": 23,
    "start_time": "2022-03-05T11:34:15.585Z"
   },
   {
    "duration": 21,
    "start_time": "2022-03-05T11:34:16.853Z"
   },
   {
    "duration": 45,
    "start_time": "2022-03-05T11:34:21.833Z"
   }
  ],
  "kernelspec": {
   "display_name": "Python 3 (ipykernel)",
   "language": "python",
   "name": "python3"
  },
  "language_info": {
   "codemirror_mode": {
    "name": "ipython",
    "version": 3
   },
   "file_extension": ".py",
   "mimetype": "text/x-python",
   "name": "python",
   "nbconvert_exporter": "python",
   "pygments_lexer": "ipython3",
   "version": "3.9.5"
  },
  "toc": {
   "base_numbering": 1,
   "nav_menu": {},
   "number_sections": true,
   "sideBar": true,
   "skip_h1_title": true,
   "title_cell": "Table of Contents",
   "title_sidebar": "Contents",
   "toc_cell": false,
   "toc_position": {},
   "toc_section_display": true,
   "toc_window_display": false
  }
 },
 "nbformat": 4,
 "nbformat_minor": 5
}
